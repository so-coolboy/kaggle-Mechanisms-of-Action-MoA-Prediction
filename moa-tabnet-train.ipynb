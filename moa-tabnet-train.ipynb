{
 "cells": [
  {
   "cell_type": "code",
   "execution_count": 1,
   "metadata": {
    "execution": {
     "iopub.execute_input": "2020-11-26T02:03:34.577714Z",
     "iopub.status.busy": "2020-11-26T02:03:34.576842Z",
     "iopub.status.idle": "2020-11-26T02:03:35.486008Z",
     "shell.execute_reply": "2020-11-26T02:03:35.485365Z"
    },
    "papermill": {
     "duration": 0.938087,
     "end_time": "2020-11-26T02:03:35.486134",
     "exception": false,
     "start_time": "2020-11-26T02:03:34.548047",
     "status": "completed"
    },
    "tags": []
   },
   "outputs": [],
   "source": [
    "!cp ../input/moa-tabnet-train-copy/*.zip ./"
   ]
  },
  {
   "cell_type": "code",
   "execution_count": 2,
   "metadata": {
    "execution": {
     "iopub.execute_input": "2020-11-26T02:03:35.536927Z",
     "iopub.status.busy": "2020-11-26T02:03:35.536029Z",
     "iopub.status.idle": "2020-11-26T02:04:19.686252Z",
     "shell.execute_reply": "2020-11-26T02:04:19.685694Z"
    },
    "papermill": {
     "duration": 44.178501,
     "end_time": "2020-11-26T02:04:19.686391",
     "exception": false,
     "start_time": "2020-11-26T02:03:35.507890",
     "status": "completed"
    },
    "tags": []
   },
   "outputs": [
    {
     "name": "stdout",
     "output_type": "stream",
     "text": [
      "Found existing installation: typing 3.7.4.3\r\n",
      "Uninstalling typing-3.7.4.3:\r\n",
      "  Successfully uninstalled typing-3.7.4.3\r\n",
      "Processing /kaggle/input/pytorchtabnetpretraining/pytorch_tabnet-2.0.1-py3-none-any.whl\r\n",
      "Requirement already satisfied: numpy<2.0,>=1.17 in /opt/conda/lib/python3.7/site-packages (from pytorch-tabnet==2.0.1) (1.18.5)\r\n",
      "Requirement already satisfied: scikit_learn>0.21 in /opt/conda/lib/python3.7/site-packages (from pytorch-tabnet==2.0.1) (0.23.2)\r\n",
      "Requirement already satisfied: tqdm<5.0,>=4.36 in /opt/conda/lib/python3.7/site-packages (from pytorch-tabnet==2.0.1) (4.45.0)\r\n",
      "Requirement already satisfied: scipy>1.4 in /opt/conda/lib/python3.7/site-packages (from pytorch-tabnet==2.0.1) (1.4.1)\r\n",
      "Requirement already satisfied: torch<2.0,>=1.2 in /opt/conda/lib/python3.7/site-packages (from pytorch-tabnet==2.0.1) (1.5.1)\r\n",
      "Requirement already satisfied: joblib>=0.11 in /opt/conda/lib/python3.7/site-packages (from scikit_learn>0.21->pytorch-tabnet==2.0.1) (0.14.1)\r\n",
      "Requirement already satisfied: threadpoolctl>=2.0.0 in /opt/conda/lib/python3.7/site-packages (from scikit_learn>0.21->pytorch-tabnet==2.0.1) (2.1.0)\r\n",
      "Requirement already satisfied: future in /opt/conda/lib/python3.7/site-packages (from torch<2.0,>=1.2->pytorch-tabnet==2.0.1) (0.18.2)\r\n",
      "Installing collected packages: pytorch-tabnet\r\n",
      "Successfully installed pytorch-tabnet-2.0.1\r\n"
     ]
    }
   ],
   "source": [
    "!pip uninstall -y typing\n",
    "!pip install ../input/pytorchtabnetpretraining/pytorch_tabnet-2.0.1-py3-none-any.whl"
   ]
  },
  {
   "cell_type": "code",
   "execution_count": 3,
   "metadata": {
    "_kg_hide-input": true,
    "_kg_hide-output": true,
    "execution": {
     "iopub.execute_input": "2020-11-26T02:04:19.747940Z",
     "iopub.status.busy": "2020-11-26T02:04:19.747107Z",
     "iopub.status.idle": "2020-11-26T02:04:22.090755Z",
     "shell.execute_reply": "2020-11-26T02:04:22.090120Z"
    },
    "papermill": {
     "duration": 2.379069,
     "end_time": "2020-11-26T02:04:22.090950",
     "exception": false,
     "start_time": "2020-11-26T02:04:19.711881",
     "status": "completed"
    },
    "tags": []
   },
   "outputs": [],
   "source": [
    "import numpy as np \n",
    "import pandas as pd \n",
    "import os\n",
    "import sys\n",
    "sys.path.append('../input/iterativestratification')\n",
    "from iterstrat.ml_stratifiers import MultilabelStratifiedKFold\n",
    "import torch\n",
    "from torch import nn\n",
    "from torch.utils.data import DataLoader, Dataset\n",
    "import torch.optim as optim\n",
    "import torch.nn.functional as F\n",
    "from torch.optim.lr_scheduler import ReduceLROnPlateau\n",
    "from sklearn.model_selection import StratifiedKFold\n",
    "import random\n",
    "os.environ[\"CUDA_LAUNCH_BLOCKING\"] = \"1\"\n",
    "from tqdm import tqdm\n",
    "from sklearn.metrics import log_loss\n",
    "from sklearn.decomposition import PCA\n",
    "from sklearn.feature_selection import VarianceThreshold\n",
    "from sklearn.preprocessing import QuantileTransformer\n",
    "from iterstrat.ml_stratifiers import MultilabelStratifiedKFold, MultilabelStratifiedShuffleSplit\n",
    "from sklearn.metrics import roc_auc_score\n",
    "\n",
    "import warnings\n",
    "warnings.filterwarnings('ignore')"
   ]
  },
  {
   "cell_type": "code",
   "execution_count": 4,
   "metadata": {
    "execution": {
     "iopub.execute_input": "2020-11-26T02:04:22.179288Z",
     "iopub.status.busy": "2020-11-26T02:04:22.178557Z",
     "iopub.status.idle": "2020-11-26T02:04:22.608872Z",
     "shell.execute_reply": "2020-11-26T02:04:22.609862Z"
    },
    "papermill": {
     "duration": 0.482303,
     "end_time": "2020-11-26T02:04:22.610084",
     "exception": false,
     "start_time": "2020-11-26T02:04:22.127781",
     "status": "completed"
    },
    "tags": []
   },
   "outputs": [],
   "source": [
    "def seed_everything(seed_value):\n",
    "    random.seed(seed_value)\n",
    "    np.random.seed(seed_value)\n",
    "    torch.manual_seed(seed_value)\n",
    "    os.environ['PYTHONHASHSEED'] = str(seed_value)\n",
    "    \n",
    "    if torch.cuda.is_available(): \n",
    "        torch.cuda.manual_seed(seed_value)\n",
    "        torch.cuda.manual_seed_all(seed_value)\n",
    "        torch.backends.cudnn.deterministic = True\n",
    "        torch.backends.cudnn.benchmark = False\n",
    "        \n",
    "seed_everything(42)"
   ]
  },
  {
   "cell_type": "markdown",
   "metadata": {
    "papermill": {
     "duration": 0.027397,
     "end_time": "2020-11-26T02:04:22.671393",
     "exception": false,
     "start_time": "2020-11-26T02:04:22.643996",
     "status": "completed"
    },
    "tags": []
   },
   "source": [
    "# Data\n"
   ]
  },
  {
   "cell_type": "code",
   "execution_count": 5,
   "metadata": {
    "execution": {
     "iopub.execute_input": "2020-11-26T02:04:22.735313Z",
     "iopub.status.busy": "2020-11-26T02:04:22.734267Z",
     "iopub.status.idle": "2020-11-26T02:04:29.796992Z",
     "shell.execute_reply": "2020-11-26T02:04:29.796083Z"
    },
    "papermill": {
     "duration": 7.098162,
     "end_time": "2020-11-26T02:04:29.797111",
     "exception": false,
     "start_time": "2020-11-26T02:04:22.698949",
     "status": "completed"
    },
    "tags": []
   },
   "outputs": [],
   "source": [
    "train_features = pd.read_csv('../input/lish-moa/train_features.csv')\n",
    "train_targets_scored = pd.read_csv('../input/moa-make-foldsmoa-make-folds/train_targets_scored.csv')\n",
    "train_targets_nonscored = pd.read_csv('../input/moa-make-foldsmoa-make-folds/train_targets_nonscored.csv')\n",
    "\n",
    "test_features = pd.read_csv('../input/lish-moa/test_features.csv')\n",
    "sample_submission = pd.read_csv('../input/lish-moa/sample_submission.csv')"
   ]
  },
  {
   "cell_type": "code",
   "execution_count": 6,
   "metadata": {
    "execution": {
     "iopub.execute_input": "2020-11-26T02:04:29.855685Z",
     "iopub.status.busy": "2020-11-26T02:04:29.853800Z",
     "iopub.status.idle": "2020-11-26T02:04:29.856371Z",
     "shell.execute_reply": "2020-11-26T02:04:29.856890Z"
    },
    "papermill": {
     "duration": 0.033792,
     "end_time": "2020-11-26T02:04:29.857008",
     "exception": false,
     "start_time": "2020-11-26T02:04:29.823216",
     "status": "completed"
    },
    "tags": []
   },
   "outputs": [],
   "source": [
    "#使用PCA制造出一部分特征\n",
    "GENES = [col for col in train_features.columns if col.startswith('g-')]\n",
    "CELLS = [col for col in train_features.columns if col.startswith('c-')]"
   ]
  },
  {
   "cell_type": "code",
   "execution_count": 7,
   "metadata": {
    "execution": {
     "iopub.execute_input": "2020-11-26T02:04:29.914703Z",
     "iopub.status.busy": "2020-11-26T02:04:29.913920Z",
     "iopub.status.idle": "2020-11-26T02:04:39.085420Z",
     "shell.execute_reply": "2020-11-26T02:04:39.084587Z"
    },
    "papermill": {
     "duration": 9.204413,
     "end_time": "2020-11-26T02:04:39.085544",
     "exception": false,
     "start_time": "2020-11-26T02:04:29.881131",
     "status": "completed"
    },
    "tags": []
   },
   "outputs": [],
   "source": [
    "for col in (GENES + CELLS):\n",
    "    transformer = QuantileTransformer(n_quantiles=115, random_state=0, output_distribution=\"normal\")   #50 75 100 125 150 25 \n",
    "    vec_len = len(train_features[col].values)\n",
    "    vec_len_test = len(test_features[col].values)\n",
    "    raw_vec = train_features[col].values.reshape(vec_len, 1)\n",
    "    transformer.fit(raw_vec)\n",
    "\n",
    "    train_features[col] = transformer.transform(raw_vec).reshape(1, vec_len)[0]\n",
    "    test_features[col] = transformer.transform(test_features[col].values.reshape(vec_len_test, 1)).reshape(1, vec_len_test)[0]"
   ]
  },
  {
   "cell_type": "code",
   "execution_count": 8,
   "metadata": {
    "execution": {
     "iopub.execute_input": "2020-11-26T02:04:39.142443Z",
     "iopub.status.busy": "2020-11-26T02:04:39.141128Z",
     "iopub.status.idle": "2020-11-26T02:04:39.473117Z",
     "shell.execute_reply": "2020-11-26T02:04:39.472532Z"
    },
    "papermill": {
     "duration": 0.363482,
     "end_time": "2020-11-26T02:04:39.473227",
     "exception": false,
     "start_time": "2020-11-26T02:04:39.109745",
     "status": "completed"
    },
    "tags": []
   },
   "outputs": [],
   "source": [
    "train = train_features.merge(train_targets_scored, on='sig_id')\n",
    "train = train[train['cp_type']!='ctl_vehicle'].reset_index(drop=True)\n",
    "test = test_features[test_features['cp_type']!='ctl_vehicle'].reset_index(drop=True)\n",
    "target = train[train_targets_scored.columns[:207]]"
   ]
  },
  {
   "cell_type": "code",
   "execution_count": 9,
   "metadata": {
    "execution": {
     "iopub.execute_input": "2020-11-26T02:04:39.611219Z",
     "iopub.status.busy": "2020-11-26T02:04:39.608945Z",
     "iopub.status.idle": "2020-11-26T02:04:39.612168Z",
     "shell.execute_reply": "2020-11-26T02:04:39.612803Z"
    },
    "papermill": {
     "duration": 0.116536,
     "end_time": "2020-11-26T02:04:39.613547",
     "exception": false,
     "start_time": "2020-11-26T02:04:39.497011",
     "status": "completed"
    },
    "tags": []
   },
   "outputs": [],
   "source": [
    "train = train.drop('cp_type', axis=1)\n",
    "test = test.drop('cp_type', axis=1)\n",
    "\n",
    "target_cols = target.drop('sig_id', axis=1).columns.values.tolist()"
   ]
  },
  {
   "cell_type": "code",
   "execution_count": 10,
   "metadata": {
    "execution": {
     "iopub.execute_input": "2020-11-26T02:04:39.677054Z",
     "iopub.status.busy": "2020-11-26T02:04:39.675973Z",
     "iopub.status.idle": "2020-11-26T02:04:39.776512Z",
     "shell.execute_reply": "2020-11-26T02:04:39.777078Z"
    },
    "papermill": {
     "duration": 0.133385,
     "end_time": "2020-11-26T02:04:39.777233",
     "exception": false,
     "start_time": "2020-11-26T02:04:39.643848",
     "status": "completed"
    },
    "tags": []
   },
   "outputs": [
    {
     "data": {
      "text/html": [
       "<div>\n",
       "<style scoped>\n",
       "    .dataframe tbody tr th:only-of-type {\n",
       "        vertical-align: middle;\n",
       "    }\n",
       "\n",
       "    .dataframe tbody tr th {\n",
       "        vertical-align: top;\n",
       "    }\n",
       "\n",
       "    .dataframe thead th {\n",
       "        text-align: right;\n",
       "    }\n",
       "</style>\n",
       "<table border=\"1\" class=\"dataframe\">\n",
       "  <thead>\n",
       "    <tr style=\"text-align: right;\">\n",
       "      <th></th>\n",
       "      <th>sig_id</th>\n",
       "      <th>cp_time</th>\n",
       "      <th>cp_dose</th>\n",
       "      <th>g-0</th>\n",
       "      <th>g-1</th>\n",
       "      <th>g-2</th>\n",
       "      <th>g-3</th>\n",
       "      <th>g-4</th>\n",
       "      <th>g-5</th>\n",
       "      <th>g-6</th>\n",
       "      <th>...</th>\n",
       "      <th>ubiquitin_specific_protease_inhibitor</th>\n",
       "      <th>vegfr_inhibitor</th>\n",
       "      <th>vitamin_b</th>\n",
       "      <th>vitamin_d_receptor_agonist</th>\n",
       "      <th>wnt_inhibitor</th>\n",
       "      <th>fold_42</th>\n",
       "      <th>fold_0</th>\n",
       "      <th>fold_1</th>\n",
       "      <th>fold_2</th>\n",
       "      <th>fold_3</th>\n",
       "    </tr>\n",
       "  </thead>\n",
       "  <tbody>\n",
       "    <tr>\n",
       "      <th>0</th>\n",
       "      <td>id_000644bb2</td>\n",
       "      <td>24</td>\n",
       "      <td>D1</td>\n",
       "      <td>1.134770</td>\n",
       "      <td>0.908153</td>\n",
       "      <td>-0.416081</td>\n",
       "      <td>-0.967866</td>\n",
       "      <td>-0.254718</td>\n",
       "      <td>-1.015497</td>\n",
       "      <td>-1.364912</td>\n",
       "      <td>...</td>\n",
       "      <td>0</td>\n",
       "      <td>0</td>\n",
       "      <td>0</td>\n",
       "      <td>0</td>\n",
       "      <td>0</td>\n",
       "      <td>6</td>\n",
       "      <td>1</td>\n",
       "      <td>3</td>\n",
       "      <td>3</td>\n",
       "      <td>5</td>\n",
       "    </tr>\n",
       "    <tr>\n",
       "      <th>1</th>\n",
       "      <td>id_000779bfc</td>\n",
       "      <td>72</td>\n",
       "      <td>D1</td>\n",
       "      <td>0.119600</td>\n",
       "      <td>0.681885</td>\n",
       "      <td>0.272164</td>\n",
       "      <td>0.079996</td>\n",
       "      <td>1.204608</td>\n",
       "      <td>0.685581</td>\n",
       "      <td>0.314454</td>\n",
       "      <td>...</td>\n",
       "      <td>0</td>\n",
       "      <td>0</td>\n",
       "      <td>0</td>\n",
       "      <td>0</td>\n",
       "      <td>0</td>\n",
       "      <td>0</td>\n",
       "      <td>0</td>\n",
       "      <td>3</td>\n",
       "      <td>6</td>\n",
       "      <td>3</td>\n",
       "    </tr>\n",
       "    <tr>\n",
       "      <th>2</th>\n",
       "      <td>id_000a6266a</td>\n",
       "      <td>48</td>\n",
       "      <td>D1</td>\n",
       "      <td>0.780234</td>\n",
       "      <td>0.944877</td>\n",
       "      <td>1.422334</td>\n",
       "      <td>-0.132034</td>\n",
       "      <td>-0.007450</td>\n",
       "      <td>1.492153</td>\n",
       "      <td>0.235410</td>\n",
       "      <td>...</td>\n",
       "      <td>0</td>\n",
       "      <td>0</td>\n",
       "      <td>0</td>\n",
       "      <td>0</td>\n",
       "      <td>0</td>\n",
       "      <td>0</td>\n",
       "      <td>5</td>\n",
       "      <td>3</td>\n",
       "      <td>3</td>\n",
       "      <td>1</td>\n",
       "    </tr>\n",
       "    <tr>\n",
       "      <th>3</th>\n",
       "      <td>id_0015fd391</td>\n",
       "      <td>48</td>\n",
       "      <td>D1</td>\n",
       "      <td>-0.735342</td>\n",
       "      <td>-0.274628</td>\n",
       "      <td>-0.438384</td>\n",
       "      <td>0.759605</td>\n",
       "      <td>2.389946</td>\n",
       "      <td>-0.859146</td>\n",
       "      <td>-2.287594</td>\n",
       "      <td>...</td>\n",
       "      <td>0</td>\n",
       "      <td>0</td>\n",
       "      <td>0</td>\n",
       "      <td>0</td>\n",
       "      <td>0</td>\n",
       "      <td>6</td>\n",
       "      <td>4</td>\n",
       "      <td>3</td>\n",
       "      <td>1</td>\n",
       "      <td>2</td>\n",
       "    </tr>\n",
       "    <tr>\n",
       "      <th>4</th>\n",
       "      <td>id_001626bd3</td>\n",
       "      <td>72</td>\n",
       "      <td>D2</td>\n",
       "      <td>-0.452845</td>\n",
       "      <td>-0.477300</td>\n",
       "      <td>0.971824</td>\n",
       "      <td>0.970578</td>\n",
       "      <td>1.463978</td>\n",
       "      <td>-0.871062</td>\n",
       "      <td>-0.376199</td>\n",
       "      <td>...</td>\n",
       "      <td>0</td>\n",
       "      <td>0</td>\n",
       "      <td>0</td>\n",
       "      <td>0</td>\n",
       "      <td>0</td>\n",
       "      <td>1</td>\n",
       "      <td>6</td>\n",
       "      <td>5</td>\n",
       "      <td>3</td>\n",
       "      <td>3</td>\n",
       "    </tr>\n",
       "  </tbody>\n",
       "</table>\n",
       "<p>5 rows × 1086 columns</p>\n",
       "</div>"
      ],
      "text/plain": [
       "         sig_id  cp_time cp_dose       g-0       g-1       g-2       g-3  \\\n",
       "0  id_000644bb2       24      D1  1.134770  0.908153 -0.416081 -0.967866   \n",
       "1  id_000779bfc       72      D1  0.119600  0.681885  0.272164  0.079996   \n",
       "2  id_000a6266a       48      D1  0.780234  0.944877  1.422334 -0.132034   \n",
       "3  id_0015fd391       48      D1 -0.735342 -0.274628 -0.438384  0.759605   \n",
       "4  id_001626bd3       72      D2 -0.452845 -0.477300  0.971824  0.970578   \n",
       "\n",
       "        g-4       g-5       g-6  ...  ubiquitin_specific_protease_inhibitor  \\\n",
       "0 -0.254718 -1.015497 -1.364912  ...                                      0   \n",
       "1  1.204608  0.685581  0.314454  ...                                      0   \n",
       "2 -0.007450  1.492153  0.235410  ...                                      0   \n",
       "3  2.389946 -0.859146 -2.287594  ...                                      0   \n",
       "4  1.463978 -0.871062 -0.376199  ...                                      0   \n",
       "\n",
       "   vegfr_inhibitor  vitamin_b  vitamin_d_receptor_agonist  wnt_inhibitor  \\\n",
       "0                0          0                           0              0   \n",
       "1                0          0                           0              0   \n",
       "2                0          0                           0              0   \n",
       "3                0          0                           0              0   \n",
       "4                0          0                           0              0   \n",
       "\n",
       "   fold_42  fold_0  fold_1  fold_2  fold_3  \n",
       "0        6       1       3       3       5  \n",
       "1        0       0       3       6       3  \n",
       "2        0       5       3       3       1  \n",
       "3        6       4       3       1       2  \n",
       "4        1       6       5       3       3  \n",
       "\n",
       "[5 rows x 1086 columns]"
      ]
     },
     "execution_count": 10,
     "metadata": {},
     "output_type": "execute_result"
    }
   ],
   "source": [
    "folds = train.copy()\n",
    "folds.head()"
   ]
  },
  {
   "cell_type": "code",
   "execution_count": 11,
   "metadata": {
    "execution": {
     "iopub.execute_input": "2020-11-26T02:04:39.842002Z",
     "iopub.status.busy": "2020-11-26T02:04:39.841077Z",
     "iopub.status.idle": "2020-11-26T02:04:39.845475Z",
     "shell.execute_reply": "2020-11-26T02:04:39.842620Z"
    },
    "papermill": {
     "duration": 0.040964,
     "end_time": "2020-11-26T02:04:39.845783",
     "exception": false,
     "start_time": "2020-11-26T02:04:39.804819",
     "status": "completed"
    },
    "tags": []
   },
   "outputs": [
    {
     "name": "stdout",
     "output_type": "stream",
     "text": [
      "(21948, 1086)\n",
      "(21948, 1086)\n",
      "(3624, 875)\n",
      "(21948, 207)\n",
      "(3982, 207)\n"
     ]
    }
   ],
   "source": [
    "print(train.shape)\n",
    "print(folds.shape)\n",
    "print(test.shape)\n",
    "print(target.shape)\n",
    "print(sample_submission.shape)"
   ]
  },
  {
   "cell_type": "code",
   "execution_count": 12,
   "metadata": {
    "execution": {
     "iopub.execute_input": "2020-11-26T02:04:39.916665Z",
     "iopub.status.busy": "2020-11-26T02:04:39.915543Z",
     "iopub.status.idle": "2020-11-26T02:04:39.934492Z",
     "shell.execute_reply": "2020-11-26T02:04:39.933898Z"
    },
    "papermill": {
     "duration": 0.057564,
     "end_time": "2020-11-26T02:04:39.934591",
     "exception": false,
     "start_time": "2020-11-26T02:04:39.877027",
     "status": "completed"
    },
    "tags": []
   },
   "outputs": [
    {
     "data": {
      "text/plain": [
       "874"
      ]
     },
     "execution_count": 12,
     "metadata": {},
     "output_type": "execute_result"
    }
   ],
   "source": [
    "from sklearn.preprocessing import LabelEncoder\n",
    "lb = LabelEncoder()\n",
    "def process_data(data):\n",
    "    \n",
    "    data['cp_time'] = lb.fit_transform(data['cp_time'])\n",
    "    data['cp_dose'] = lb.fit_transform(data['cp_dose'])\n",
    "    return data\n",
    "\n",
    "feature_cols = [c for c in process_data(folds).columns if c not in target_cols]\n",
    "feature_cols = [c for c in feature_cols if c not in ['fold_42','sig_id','fold_0','fold_1','fold_2','fold_3']]\n",
    "len(feature_cols)"
   ]
  },
  {
   "cell_type": "code",
   "execution_count": 13,
   "metadata": {
    "execution": {
     "iopub.execute_input": "2020-11-26T02:04:40.007900Z",
     "iopub.status.busy": "2020-11-26T02:04:40.003051Z",
     "iopub.status.idle": "2020-11-26T02:04:40.010839Z",
     "shell.execute_reply": "2020-11-26T02:04:40.010157Z"
    },
    "papermill": {
     "duration": 0.049163,
     "end_time": "2020-11-26T02:04:40.010944",
     "exception": false,
     "start_time": "2020-11-26T02:04:39.961781",
     "status": "completed"
    },
    "tags": []
   },
   "outputs": [],
   "source": [
    "def evals(model, X, y, verbose=True):\n",
    "    with torch.no_grad():\n",
    "        y_preds = model.predict(X)\n",
    "        y_preds = torch.clamp(y_preds, 0.0,1.0).detach().numpy()\n",
    "    score = log_loss_multi(y, y_preds)\n",
    "    #print(\"Logloss = \", score)\n",
    "    return y_preds, score\n",
    "\n",
    "\n",
    "def inference_fn(model, X ,verbose=True):\n",
    "    with torch.no_grad():\n",
    "        y_preds = model.predict( X )\n",
    "        y_preds = torch.sigmoid(torch.as_tensor(y_preds)).numpy()\n",
    "    return y_preds\n",
    "\n",
    "def log_loss_score(actual, predicted,  eps=1e-15):\n",
    "    p1 = actual * np.log(predicted+eps)\n",
    "    p0 = (1-actual) * np.log(1-predicted+eps)\n",
    "    loss = p0 + p1\n",
    "\n",
    "    return -loss.mean()\n",
    "\n",
    "def log_loss_multi(y_true, y_pred):\n",
    "    M = y_true.shape[1]\n",
    "    results = np.zeros(M)\n",
    "    for i in range(M):\n",
    "        results[i] = log_loss_score(y_true[:,i], y_pred[:,i])\n",
    "    return results.mean()\n",
    "\n",
    "def check_targets(targets):\n",
    "    ### check if targets are all binary in training set\n",
    "    \n",
    "    for i in range(targets.shape[1]):\n",
    "        if len(np.unique(targets[:,i])) != 2:\n",
    "            return False\n",
    "    return True\n",
    "\n",
    "def auc_multi(y_true, y_pred):\n",
    "    M = y_true.shape[1]\n",
    "    results = np.zeros(M)\n",
    "    for i in range(M):\n",
    "        try:\n",
    "            results[i] = roc_auc_score(y_true[:,i], y_pred[:,i])\n",
    "        except:\n",
    "            pass\n",
    "    return results.mean()"
   ]
  },
  {
   "cell_type": "code",
   "execution_count": 14,
   "metadata": {
    "execution": {
     "iopub.execute_input": "2020-11-26T02:04:40.074839Z",
     "iopub.status.busy": "2020-11-26T02:04:40.074038Z",
     "iopub.status.idle": "2020-11-26T02:04:40.077181Z",
     "shell.execute_reply": "2020-11-26T02:04:40.076672Z"
    },
    "papermill": {
     "duration": 0.039257,
     "end_time": "2020-11-26T02:04:40.077283",
     "exception": false,
     "start_time": "2020-11-26T02:04:40.038026",
     "status": "completed"
    },
    "tags": []
   },
   "outputs": [],
   "source": [
    "class Config(object):\n",
    "    def __init__(self):\n",
    "        self.num_class = len(target_cols)\n",
    "        self.verbose=False\n",
    "        self.seed = 0\n",
    "        self.device =  \"cpu\"\n",
    "        self.EPOCHS = 300\n",
    "        self.num_ensembling = 1\n",
    "        # Parameters model\n",
    "        self.cat_emb_dim=[1] * 2 #to choose\n",
    "        self.cats_idx = list(range(2))\n",
    "        self.cat_dims = [3,2]\n",
    "        self.num_numericals= len(feature_cols)-2\n",
    "        self.patience = 50\n",
    "        self.batch_size=1024\n",
    "        self.NFOLDS = 7\n",
    "    \n",
    "        # save\n",
    "        self.save_name = \"/kaggle/working/tabnet_raw_step1\"\n",
    "        \n",
    "        self.strategy = \"KFOLD\" # \n",
    "cfg = Config()"
   ]
  },
  {
   "cell_type": "code",
   "execution_count": 15,
   "metadata": {
    "execution": {
     "iopub.execute_input": "2020-11-26T02:04:40.135186Z",
     "iopub.status.busy": "2020-11-26T02:04:40.134280Z",
     "iopub.status.idle": "2020-11-26T02:04:40.147491Z",
     "shell.execute_reply": "2020-11-26T02:04:40.146937Z"
    },
    "papermill": {
     "duration": 0.04416,
     "end_time": "2020-11-26T02:04:40.147581",
     "exception": false,
     "start_time": "2020-11-26T02:04:40.103421",
     "status": "completed"
    },
    "tags": []
   },
   "outputs": [],
   "source": [
    "from pytorch_tabnet.tab_model import TabNetRegressor"
   ]
  },
  {
   "cell_type": "code",
   "execution_count": 16,
   "metadata": {
    "execution": {
     "iopub.execute_input": "2020-11-26T02:04:40.211662Z",
     "iopub.status.busy": "2020-11-26T02:04:40.210026Z",
     "iopub.status.idle": "2020-11-26T02:04:40.212693Z",
     "shell.execute_reply": "2020-11-26T02:04:40.213233Z"
    },
    "papermill": {
     "duration": 0.038582,
     "end_time": "2020-11-26T02:04:40.213356",
     "exception": false,
     "start_time": "2020-11-26T02:04:40.174774",
     "status": "completed"
    },
    "tags": []
   },
   "outputs": [],
   "source": [
    "from pytorch_tabnet.metrics import Metric\n",
    "from sklearn.metrics import roc_auc_score, log_loss\n",
    "\n",
    "class LogitsLogLoss(Metric):\n",
    "    \"\"\"\n",
    "    LogLoss with sigmoid applied\n",
    "    \"\"\"\n",
    "\n",
    "    def __init__(self):\n",
    "        self._name = \"logits_ll\"\n",
    "        self._maximize = False\n",
    "\n",
    "    def __call__(self, y_true, y_pred):\n",
    "        \"\"\"\n",
    "        Compute LogLoss of predictions.\n",
    "\n",
    "        Parameters\n",
    "        ----------\n",
    "        y_true: np.ndarray\n",
    "            Target matrix or vector\n",
    "        y_score: np.ndarray\n",
    "            Score matrix or vector\n",
    "\n",
    "        Returns\n",
    "        -------\n",
    "            float\n",
    "            LogLoss of predictions vs targets.\n",
    "        \"\"\"\n",
    "        logits = 1 / (1 + np.exp(-y_pred))\n",
    "        aux = (1-y_true)*np.log(1-logits+1e-15) + y_true*np.log(logits+1e-15)\n",
    "        return np.mean(-aux)"
   ]
  },
  {
   "cell_type": "code",
   "execution_count": 17,
   "metadata": {
    "execution": {
     "iopub.execute_input": "2020-11-26T02:04:40.284747Z",
     "iopub.status.busy": "2020-11-26T02:04:40.280565Z",
     "iopub.status.idle": "2020-11-26T02:04:40.287213Z",
     "shell.execute_reply": "2020-11-26T02:04:40.286705Z"
    },
    "papermill": {
     "duration": 0.047323,
     "end_time": "2020-11-26T02:04:40.287338",
     "exception": false,
     "start_time": "2020-11-26T02:04:40.240015",
     "status": "completed"
    },
    "tags": []
   },
   "outputs": [],
   "source": [
    "def run_training(fold, seed):\n",
    "    \n",
    "    seed_everything(seed)\n",
    "    train = process_data(folds)\n",
    "    test_ = process_data(test)\n",
    "    \n",
    "    trn_idx = train[train[f'fold_{seed}'] != fold].index\n",
    "    val_idx = train[train[f'fold_{seed}'] == fold].index\n",
    "    \n",
    "    train_df = train[train[f'fold_{seed}'] != fold].reset_index(drop=True)\n",
    "    valid_df = train[train[f'fold_{seed}'] == fold].reset_index(drop=True)\n",
    "    \n",
    "    X_train, y_train = train_df[feature_cols].values, train_df[target_cols].values\n",
    "    X_val, y_val = valid_df[feature_cols].values, valid_df[target_cols].values\n",
    "            \n",
    "    model = TabNetRegressor(n_d=24, n_a=64, n_steps=1, \n",
    "                            n_independent=1, n_shared=1,\n",
    "                            gamma=1.2, lambda_sparse=0, \n",
    "                            cat_dims=cfg.cat_dims, \n",
    "                            cat_emb_dim=cfg.cat_emb_dim, \n",
    "                            cat_idxs=cfg.cats_idx, \n",
    "                            optimizer_fn=torch.optim.Adam,\n",
    "                            optimizer_params=dict(lr=2e-2, weight_decay=1e-5), \n",
    "                            mask_type='entmax', \n",
    "                            device_name=cfg.device, \n",
    "                            scheduler_params=dict(mode='min', factor=0.1, patience=10), \n",
    "                            scheduler_fn=torch.optim.lr_scheduler.ReduceLROnPlateau)\n",
    "    \n",
    "\n",
    "    name = cfg.save_name + f\"_fold{fold}_{seed}.zip\"\n",
    "    model.load_model(name)\n",
    "    \n",
    "    preds = model.predict(X_val)\n",
    "    valid_preds = torch.sigmoid(torch.as_tensor(preds)).detach().cpu().numpy()\n",
    "    score = log_loss_multi(y_val, preds)\n",
    "    \n",
    "    oof = np.zeros((len(train), len(target_cols)))\n",
    "    oof[val_idx] = valid_preds\n",
    "    \n",
    "    x_test = torch.as_tensor(test[feature_cols].values)\n",
    "    predictions = model.predict(x_test)\n",
    "    predictions = torch.sigmoid(torch.as_tensor(predictions)).detach().cpu().numpy()\n",
    "    \n",
    "    return oof, predictions"
   ]
  },
  {
   "cell_type": "code",
   "execution_count": 18,
   "metadata": {
    "execution": {
     "iopub.execute_input": "2020-11-26T02:04:40.344146Z",
     "iopub.status.busy": "2020-11-26T02:04:40.343397Z",
     "iopub.status.idle": "2020-11-26T02:04:40.347123Z",
     "shell.execute_reply": "2020-11-26T02:04:40.346671Z"
    },
    "papermill": {
     "duration": 0.034912,
     "end_time": "2020-11-26T02:04:40.347214",
     "exception": false,
     "start_time": "2020-11-26T02:04:40.312302",
     "status": "completed"
    },
    "tags": []
   },
   "outputs": [],
   "source": [
    "def run_k_fold(NFOLDS, seed):\n",
    "    oof = np.zeros((len(train), len(target_cols)))\n",
    "    predictions = np.zeros((len(test), len(target_cols)))\n",
    "    \n",
    "    for fold in range(NFOLDS):\n",
    "        oof_, pred_ = run_training(fold, seed)\n",
    "        \n",
    "        predictions += pred_ / NFOLDS\n",
    "        oof += oof_\n",
    "        \n",
    "    return oof, predictions"
   ]
  },
  {
   "cell_type": "code",
   "execution_count": 19,
   "metadata": {
    "_kg_hide-output": true,
    "execution": {
     "iopub.execute_input": "2020-11-26T02:04:40.407690Z",
     "iopub.status.busy": "2020-11-26T02:04:40.406668Z",
     "iopub.status.idle": "2020-11-26T02:05:14.721032Z",
     "shell.execute_reply": "2020-11-26T02:05:14.720190Z"
    },
    "papermill": {
     "duration": 34.347376,
     "end_time": "2020-11-26T02:05:14.721154",
     "exception": false,
     "start_time": "2020-11-26T02:04:40.373778",
     "status": "completed"
    },
    "tags": []
   },
   "outputs": [
    {
     "name": "stdout",
     "output_type": "stream",
     "text": [
      "Device used : cpu\n",
      "Device used : cuda\n",
      "Device used : cpu\n",
      "Device used : cuda\n",
      "Device used : cpu\n",
      "Device used : cuda\n",
      "Device used : cpu\n",
      "Device used : cuda\n",
      "Device used : cpu\n",
      "Device used : cuda\n",
      "Device used : cpu\n",
      "Device used : cuda\n",
      "Device used : cpu\n",
      "Device used : cuda\n",
      "Device used : cpu\n",
      "Device used : cuda\n",
      "Device used : cpu\n",
      "Device used : cuda\n",
      "Device used : cpu\n",
      "Device used : cuda\n",
      "Device used : cpu\n",
      "Device used : cuda\n",
      "Device used : cpu\n",
      "Device used : cuda\n",
      "Device used : cpu\n",
      "Device used : cuda\n",
      "Device used : cpu\n",
      "Device used : cuda\n",
      "Device used : cpu\n",
      "Device used : cuda\n",
      "Device used : cpu\n",
      "Device used : cuda\n",
      "Device used : cpu\n",
      "Device used : cuda\n",
      "Device used : cpu\n",
      "Device used : cuda\n",
      "Device used : cpu\n",
      "Device used : cuda\n",
      "Device used : cpu\n",
      "Device used : cuda\n",
      "Device used : cpu\n",
      "Device used : cuda\n",
      "Device used : cpu\n",
      "Device used : cuda\n",
      "Device used : cpu\n",
      "Device used : cuda\n",
      "Device used : cpu\n",
      "Device used : cuda\n",
      "Device used : cpu\n",
      "Device used : cuda\n",
      "Device used : cpu\n",
      "Device used : cuda\n",
      "Device used : cpu\n",
      "Device used : cuda\n",
      "Device used : cpu\n",
      "Device used : cuda\n",
      "Device used : cpu\n",
      "Device used : cuda\n",
      "Device used : cpu\n",
      "Device used : cuda\n",
      "Device used : cpu\n",
      "Device used : cuda\n",
      "Device used : cpu\n",
      "Device used : cuda\n",
      "Device used : cpu\n",
      "Device used : cuda\n",
      "Device used : cpu\n",
      "Device used : cuda\n",
      "Device used : cpu\n",
      "Device used : cuda\n"
     ]
    }
   ],
   "source": [
    "# Averaging on multiple SEEDS\n",
    "SEED = [42,0,1,2,3] #<-- Update\n",
    "oof = np.zeros((len(train), len(target_cols)))\n",
    "predictions = np.zeros((len(test), len(target_cols)))\n",
    "\n",
    "for seed in SEED:\n",
    "    \n",
    "    oof_, predictions_ = run_k_fold(cfg.NFOLDS, seed)\n",
    "    oof += oof_ / len(SEED)\n",
    "    predictions += predictions_ / len(SEED)\n",
    "\n",
    "train[target_cols] = oof\n",
    "test[target_cols] = predictions"
   ]
  },
  {
   "cell_type": "code",
   "execution_count": 20,
   "metadata": {
    "execution": {
     "iopub.execute_input": "2020-11-26T02:05:14.806552Z",
     "iopub.status.busy": "2020-11-26T02:05:14.805843Z",
     "iopub.status.idle": "2020-11-26T02:05:14.812744Z",
     "shell.execute_reply": "2020-11-26T02:05:14.812092Z"
    },
    "papermill": {
     "duration": 0.051962,
     "end_time": "2020-11-26T02:05:14.812857",
     "exception": false,
     "start_time": "2020-11-26T02:05:14.760895",
     "status": "completed"
    },
    "tags": []
   },
   "outputs": [
    {
     "data": {
      "text/plain": [
       "206"
      ]
     },
     "execution_count": 20,
     "metadata": {},
     "output_type": "execute_result"
    }
   ],
   "source": [
    "len(target_cols)"
   ]
  },
  {
   "cell_type": "code",
   "execution_count": 21,
   "metadata": {
    "execution": {
     "iopub.execute_input": "2020-11-26T02:05:14.906443Z",
     "iopub.status.busy": "2020-11-26T02:05:14.905181Z",
     "iopub.status.idle": "2020-11-26T02:05:15.122795Z",
     "shell.execute_reply": "2020-11-26T02:05:15.122212Z"
    },
    "papermill": {
     "duration": 0.26955,
     "end_time": "2020-11-26T02:05:15.122913",
     "exception": false,
     "start_time": "2020-11-26T02:05:14.853363",
     "status": "completed"
    },
    "tags": []
   },
   "outputs": [],
   "source": [
    "valid_results = train_targets_scored.drop(columns=target_cols+['fold_42','fold_0','fold_1','fold_2','fold_3']).merge(train[['sig_id']+target_cols], on='sig_id', how='left').fillna(0)\n",
    "valid_results = valid_results.add_prefix('pre_')\n",
    "valid_results.rename(columns={'pre_sig_id':'sig_id'}, inplace=True)"
   ]
  },
  {
   "cell_type": "code",
   "execution_count": 22,
   "metadata": {
    "execution": {
     "iopub.execute_input": "2020-11-26T02:05:15.220932Z",
     "iopub.status.busy": "2020-11-26T02:05:15.219661Z",
     "iopub.status.idle": "2020-11-26T02:05:28.889961Z",
     "shell.execute_reply": "2020-11-26T02:05:28.888267Z"
    },
    "papermill": {
     "duration": 13.727676,
     "end_time": "2020-11-26T02:05:28.890101",
     "exception": false,
     "start_time": "2020-11-26T02:05:15.162425",
     "status": "completed"
    },
    "tags": []
   },
   "outputs": [],
   "source": [
    "oof = train_targets_scored.drop(columns=['fold_42','fold_0','fold_1','fold_2','fold_3'],axis=1)\n",
    "oof = oof.merge(valid_results, on=['sig_id'], how='left')\n",
    "oof.to_csv('moa_nn_oof.csv', index=False)"
   ]
  },
  {
   "cell_type": "code",
   "execution_count": 23,
   "metadata": {
    "execution": {
     "iopub.execute_input": "2020-11-26T02:05:28.993267Z",
     "iopub.status.busy": "2020-11-26T02:05:28.989912Z",
     "iopub.status.idle": "2020-11-26T02:05:28.997942Z",
     "shell.execute_reply": "2020-11-26T02:05:28.998504Z"
    },
    "papermill": {
     "duration": 0.069412,
     "end_time": "2020-11-26T02:05:28.998702",
     "exception": false,
     "start_time": "2020-11-26T02:05:28.929290",
     "status": "completed"
    },
    "tags": []
   },
   "outputs": [
    {
     "data": {
      "text/html": [
       "<div>\n",
       "<style scoped>\n",
       "    .dataframe tbody tr th:only-of-type {\n",
       "        vertical-align: middle;\n",
       "    }\n",
       "\n",
       "    .dataframe tbody tr th {\n",
       "        vertical-align: top;\n",
       "    }\n",
       "\n",
       "    .dataframe thead th {\n",
       "        text-align: right;\n",
       "    }\n",
       "</style>\n",
       "<table border=\"1\" class=\"dataframe\">\n",
       "  <thead>\n",
       "    <tr style=\"text-align: right;\">\n",
       "      <th></th>\n",
       "      <th>sig_id</th>\n",
       "      <th>5-alpha_reductase_inhibitor</th>\n",
       "      <th>11-beta-hsd1_inhibitor</th>\n",
       "      <th>acat_inhibitor</th>\n",
       "      <th>acetylcholine_receptor_agonist</th>\n",
       "      <th>acetylcholine_receptor_antagonist</th>\n",
       "      <th>acetylcholinesterase_inhibitor</th>\n",
       "      <th>adenosine_receptor_agonist</th>\n",
       "      <th>adenosine_receptor_antagonist</th>\n",
       "      <th>adenylyl_cyclase_activator</th>\n",
       "      <th>...</th>\n",
       "      <th>pre_tropomyosin_receptor_kinase_inhibitor</th>\n",
       "      <th>pre_trpv_agonist</th>\n",
       "      <th>pre_trpv_antagonist</th>\n",
       "      <th>pre_tubulin_inhibitor</th>\n",
       "      <th>pre_tyrosine_kinase_inhibitor</th>\n",
       "      <th>pre_ubiquitin_specific_protease_inhibitor</th>\n",
       "      <th>pre_vegfr_inhibitor</th>\n",
       "      <th>pre_vitamin_b</th>\n",
       "      <th>pre_vitamin_d_receptor_agonist</th>\n",
       "      <th>pre_wnt_inhibitor</th>\n",
       "    </tr>\n",
       "  </thead>\n",
       "  <tbody>\n",
       "    <tr>\n",
       "      <th>0</th>\n",
       "      <td>id_000644bb2</td>\n",
       "      <td>0</td>\n",
       "      <td>0</td>\n",
       "      <td>0</td>\n",
       "      <td>0</td>\n",
       "      <td>0</td>\n",
       "      <td>0</td>\n",
       "      <td>0</td>\n",
       "      <td>0</td>\n",
       "      <td>0</td>\n",
       "      <td>...</td>\n",
       "      <td>0.000807</td>\n",
       "      <td>0.001157</td>\n",
       "      <td>0.002949</td>\n",
       "      <td>0.003137</td>\n",
       "      <td>0.002221</td>\n",
       "      <td>0.000777</td>\n",
       "      <td>0.001965</td>\n",
       "      <td>0.002452</td>\n",
       "      <td>0.000291</td>\n",
       "      <td>0.002128</td>\n",
       "    </tr>\n",
       "    <tr>\n",
       "      <th>1</th>\n",
       "      <td>id_000779bfc</td>\n",
       "      <td>0</td>\n",
       "      <td>0</td>\n",
       "      <td>0</td>\n",
       "      <td>0</td>\n",
       "      <td>0</td>\n",
       "      <td>0</td>\n",
       "      <td>0</td>\n",
       "      <td>0</td>\n",
       "      <td>0</td>\n",
       "      <td>...</td>\n",
       "      <td>0.001034</td>\n",
       "      <td>0.001162</td>\n",
       "      <td>0.003155</td>\n",
       "      <td>0.000966</td>\n",
       "      <td>0.001398</td>\n",
       "      <td>0.000492</td>\n",
       "      <td>0.001672</td>\n",
       "      <td>0.002535</td>\n",
       "      <td>0.006897</td>\n",
       "      <td>0.002952</td>\n",
       "    </tr>\n",
       "    <tr>\n",
       "      <th>2</th>\n",
       "      <td>id_000a6266a</td>\n",
       "      <td>0</td>\n",
       "      <td>0</td>\n",
       "      <td>0</td>\n",
       "      <td>0</td>\n",
       "      <td>0</td>\n",
       "      <td>0</td>\n",
       "      <td>0</td>\n",
       "      <td>0</td>\n",
       "      <td>0</td>\n",
       "      <td>...</td>\n",
       "      <td>0.000564</td>\n",
       "      <td>0.001255</td>\n",
       "      <td>0.001742</td>\n",
       "      <td>0.001424</td>\n",
       "      <td>0.014620</td>\n",
       "      <td>0.000629</td>\n",
       "      <td>0.064658</td>\n",
       "      <td>0.001145</td>\n",
       "      <td>0.000230</td>\n",
       "      <td>0.001541</td>\n",
       "    </tr>\n",
       "    <tr>\n",
       "      <th>3</th>\n",
       "      <td>id_0015fd391</td>\n",
       "      <td>0</td>\n",
       "      <td>0</td>\n",
       "      <td>0</td>\n",
       "      <td>0</td>\n",
       "      <td>0</td>\n",
       "      <td>0</td>\n",
       "      <td>0</td>\n",
       "      <td>0</td>\n",
       "      <td>0</td>\n",
       "      <td>...</td>\n",
       "      <td>0.000582</td>\n",
       "      <td>0.018047</td>\n",
       "      <td>0.001754</td>\n",
       "      <td>0.197664</td>\n",
       "      <td>0.008973</td>\n",
       "      <td>0.000901</td>\n",
       "      <td>0.001898</td>\n",
       "      <td>0.000750</td>\n",
       "      <td>0.000658</td>\n",
       "      <td>0.000561</td>\n",
       "    </tr>\n",
       "    <tr>\n",
       "      <th>4</th>\n",
       "      <td>id_001626bd3</td>\n",
       "      <td>0</td>\n",
       "      <td>0</td>\n",
       "      <td>0</td>\n",
       "      <td>0</td>\n",
       "      <td>0</td>\n",
       "      <td>0</td>\n",
       "      <td>0</td>\n",
       "      <td>0</td>\n",
       "      <td>0</td>\n",
       "      <td>...</td>\n",
       "      <td>0.000861</td>\n",
       "      <td>0.001019</td>\n",
       "      <td>0.003570</td>\n",
       "      <td>0.002447</td>\n",
       "      <td>0.001481</td>\n",
       "      <td>0.000676</td>\n",
       "      <td>0.000877</td>\n",
       "      <td>0.001993</td>\n",
       "      <td>0.000373</td>\n",
       "      <td>0.002469</td>\n",
       "    </tr>\n",
       "  </tbody>\n",
       "</table>\n",
       "<p>5 rows × 413 columns</p>\n",
       "</div>"
      ],
      "text/plain": [
       "         sig_id  5-alpha_reductase_inhibitor  11-beta-hsd1_inhibitor  \\\n",
       "0  id_000644bb2                            0                       0   \n",
       "1  id_000779bfc                            0                       0   \n",
       "2  id_000a6266a                            0                       0   \n",
       "3  id_0015fd391                            0                       0   \n",
       "4  id_001626bd3                            0                       0   \n",
       "\n",
       "   acat_inhibitor  acetylcholine_receptor_agonist  \\\n",
       "0               0                               0   \n",
       "1               0                               0   \n",
       "2               0                               0   \n",
       "3               0                               0   \n",
       "4               0                               0   \n",
       "\n",
       "   acetylcholine_receptor_antagonist  acetylcholinesterase_inhibitor  \\\n",
       "0                                  0                               0   \n",
       "1                                  0                               0   \n",
       "2                                  0                               0   \n",
       "3                                  0                               0   \n",
       "4                                  0                               0   \n",
       "\n",
       "   adenosine_receptor_agonist  adenosine_receptor_antagonist  \\\n",
       "0                           0                              0   \n",
       "1                           0                              0   \n",
       "2                           0                              0   \n",
       "3                           0                              0   \n",
       "4                           0                              0   \n",
       "\n",
       "   adenylyl_cyclase_activator  ...  pre_tropomyosin_receptor_kinase_inhibitor  \\\n",
       "0                           0  ...                                   0.000807   \n",
       "1                           0  ...                                   0.001034   \n",
       "2                           0  ...                                   0.000564   \n",
       "3                           0  ...                                   0.000582   \n",
       "4                           0  ...                                   0.000861   \n",
       "\n",
       "   pre_trpv_agonist  pre_trpv_antagonist  pre_tubulin_inhibitor  \\\n",
       "0          0.001157             0.002949               0.003137   \n",
       "1          0.001162             0.003155               0.000966   \n",
       "2          0.001255             0.001742               0.001424   \n",
       "3          0.018047             0.001754               0.197664   \n",
       "4          0.001019             0.003570               0.002447   \n",
       "\n",
       "   pre_tyrosine_kinase_inhibitor  pre_ubiquitin_specific_protease_inhibitor  \\\n",
       "0                       0.002221                                   0.000777   \n",
       "1                       0.001398                                   0.000492   \n",
       "2                       0.014620                                   0.000629   \n",
       "3                       0.008973                                   0.000901   \n",
       "4                       0.001481                                   0.000676   \n",
       "\n",
       "   pre_vegfr_inhibitor  pre_vitamin_b  pre_vitamin_d_receptor_agonist  \\\n",
       "0             0.001965       0.002452                        0.000291   \n",
       "1             0.001672       0.002535                        0.006897   \n",
       "2             0.064658       0.001145                        0.000230   \n",
       "3             0.001898       0.000750                        0.000658   \n",
       "4             0.000877       0.001993                        0.000373   \n",
       "\n",
       "   pre_wnt_inhibitor  \n",
       "0           0.002128  \n",
       "1           0.002952  \n",
       "2           0.001541  \n",
       "3           0.000561  \n",
       "4           0.002469  \n",
       "\n",
       "[5 rows x 413 columns]"
      ]
     },
     "execution_count": 23,
     "metadata": {},
     "output_type": "execute_result"
    }
   ],
   "source": [
    "oof.head()"
   ]
  },
  {
   "cell_type": "code",
   "execution_count": 24,
   "metadata": {
    "execution": {
     "iopub.execute_input": "2020-11-26T02:05:29.086099Z",
     "iopub.status.busy": "2020-11-26T02:05:29.085147Z",
     "iopub.status.idle": "2020-11-26T02:05:30.155416Z",
     "shell.execute_reply": "2020-11-26T02:05:30.154918Z"
    },
    "papermill": {
     "duration": 1.117727,
     "end_time": "2020-11-26T02:05:30.155524",
     "exception": false,
     "start_time": "2020-11-26T02:05:29.037797",
     "status": "completed"
    },
    "tags": []
   },
   "outputs": [
    {
     "name": "stdout",
     "output_type": "stream",
     "text": [
      "CV log_loss:  0.015665928517910092\n"
     ]
    }
   ],
   "source": [
    "score = 0\n",
    "for i in (target_cols):\n",
    "    score_ = log_loss(oof[i], oof['pre_'+i])\n",
    "    score += score_ / 206\n",
    "    \n",
    "print(\"CV log_loss: \", score)"
   ]
  },
  {
   "cell_type": "code",
   "execution_count": 25,
   "metadata": {
    "execution": {
     "iopub.execute_input": "2020-11-26T02:05:30.364975Z",
     "iopub.status.busy": "2020-11-26T02:05:30.364005Z",
     "iopub.status.idle": "2020-11-26T02:05:31.971454Z",
     "shell.execute_reply": "2020-11-26T02:05:31.972809Z"
    },
    "papermill": {
     "duration": 1.777295,
     "end_time": "2020-11-26T02:05:31.973033",
     "exception": false,
     "start_time": "2020-11-26T02:05:30.195738",
     "status": "completed"
    },
    "tags": []
   },
   "outputs": [
    {
     "name": "stdout",
     "output_type": "stream",
     "text": [
      "CV AUC:  0.6707558040207743\n"
     ]
    }
   ],
   "source": [
    "auc_score = 0\n",
    "for i in (target_cols):\n",
    "    score_ = roc_auc_score(oof[i], oof['pre_'+i])\n",
    "    score += score_ / target.shape[1]\n",
    "    \n",
    "print(\"CV AUC: \", score)"
   ]
  },
  {
   "cell_type": "code",
   "execution_count": 26,
   "metadata": {
    "execution": {
     "iopub.execute_input": "2020-11-26T02:05:32.067893Z",
     "iopub.status.busy": "2020-11-26T02:05:32.066447Z",
     "iopub.status.idle": "2020-11-26T02:05:34.051512Z",
     "shell.execute_reply": "2020-11-26T02:05:34.050156Z"
    },
    "papermill": {
     "duration": 2.03648,
     "end_time": "2020-11-26T02:05:34.051665",
     "exception": false,
     "start_time": "2020-11-26T02:05:32.015185",
     "status": "completed"
    },
    "tags": []
   },
   "outputs": [
    {
     "data": {
      "text/html": [
       "<div>\n",
       "<style scoped>\n",
       "    .dataframe tbody tr th:only-of-type {\n",
       "        vertical-align: middle;\n",
       "    }\n",
       "\n",
       "    .dataframe tbody tr th {\n",
       "        vertical-align: top;\n",
       "    }\n",
       "\n",
       "    .dataframe thead th {\n",
       "        text-align: right;\n",
       "    }\n",
       "</style>\n",
       "<table border=\"1\" class=\"dataframe\">\n",
       "  <thead>\n",
       "    <tr style=\"text-align: right;\">\n",
       "      <th></th>\n",
       "      <th>sig_id</th>\n",
       "      <th>5-alpha_reductase_inhibitor</th>\n",
       "      <th>11-beta-hsd1_inhibitor</th>\n",
       "      <th>acat_inhibitor</th>\n",
       "      <th>acetylcholine_receptor_agonist</th>\n",
       "      <th>acetylcholine_receptor_antagonist</th>\n",
       "      <th>acetylcholinesterase_inhibitor</th>\n",
       "      <th>adenosine_receptor_agonist</th>\n",
       "      <th>adenosine_receptor_antagonist</th>\n",
       "      <th>adenylyl_cyclase_activator</th>\n",
       "      <th>...</th>\n",
       "      <th>tropomyosin_receptor_kinase_inhibitor</th>\n",
       "      <th>trpv_agonist</th>\n",
       "      <th>trpv_antagonist</th>\n",
       "      <th>tubulin_inhibitor</th>\n",
       "      <th>tyrosine_kinase_inhibitor</th>\n",
       "      <th>ubiquitin_specific_protease_inhibitor</th>\n",
       "      <th>vegfr_inhibitor</th>\n",
       "      <th>vitamin_b</th>\n",
       "      <th>vitamin_d_receptor_agonist</th>\n",
       "      <th>wnt_inhibitor</th>\n",
       "    </tr>\n",
       "  </thead>\n",
       "  <tbody>\n",
       "    <tr>\n",
       "      <th>0</th>\n",
       "      <td>id_0004d9e33</td>\n",
       "      <td>0.001091</td>\n",
       "      <td>0.000990</td>\n",
       "      <td>0.001917</td>\n",
       "      <td>0.016006</td>\n",
       "      <td>0.022213</td>\n",
       "      <td>0.005090</td>\n",
       "      <td>0.002669</td>\n",
       "      <td>0.006430</td>\n",
       "      <td>0.000350</td>\n",
       "      <td>...</td>\n",
       "      <td>0.000937</td>\n",
       "      <td>0.000786</td>\n",
       "      <td>0.002975</td>\n",
       "      <td>0.000965</td>\n",
       "      <td>0.000799</td>\n",
       "      <td>0.000615</td>\n",
       "      <td>0.000716</td>\n",
       "      <td>0.002160</td>\n",
       "      <td>0.003511</td>\n",
       "      <td>0.001535</td>\n",
       "    </tr>\n",
       "    <tr>\n",
       "      <th>1</th>\n",
       "      <td>id_001897cda</td>\n",
       "      <td>0.000570</td>\n",
       "      <td>0.000950</td>\n",
       "      <td>0.002104</td>\n",
       "      <td>0.002340</td>\n",
       "      <td>0.001574</td>\n",
       "      <td>0.001966</td>\n",
       "      <td>0.002473</td>\n",
       "      <td>0.010145</td>\n",
       "      <td>0.002058</td>\n",
       "      <td>...</td>\n",
       "      <td>0.000871</td>\n",
       "      <td>0.001378</td>\n",
       "      <td>0.003699</td>\n",
       "      <td>0.001091</td>\n",
       "      <td>0.007105</td>\n",
       "      <td>0.000663</td>\n",
       "      <td>0.011186</td>\n",
       "      <td>0.001294</td>\n",
       "      <td>0.010900</td>\n",
       "      <td>0.002685</td>\n",
       "    </tr>\n",
       "    <tr>\n",
       "      <th>2</th>\n",
       "      <td>id_002429b5b</td>\n",
       "      <td>0.000000</td>\n",
       "      <td>0.000000</td>\n",
       "      <td>0.000000</td>\n",
       "      <td>0.000000</td>\n",
       "      <td>0.000000</td>\n",
       "      <td>0.000000</td>\n",
       "      <td>0.000000</td>\n",
       "      <td>0.000000</td>\n",
       "      <td>0.000000</td>\n",
       "      <td>...</td>\n",
       "      <td>0.000000</td>\n",
       "      <td>0.000000</td>\n",
       "      <td>0.000000</td>\n",
       "      <td>0.000000</td>\n",
       "      <td>0.000000</td>\n",
       "      <td>0.000000</td>\n",
       "      <td>0.000000</td>\n",
       "      <td>0.000000</td>\n",
       "      <td>0.000000</td>\n",
       "      <td>0.000000</td>\n",
       "    </tr>\n",
       "    <tr>\n",
       "      <th>3</th>\n",
       "      <td>id_00276f245</td>\n",
       "      <td>0.001157</td>\n",
       "      <td>0.001207</td>\n",
       "      <td>0.001672</td>\n",
       "      <td>0.009913</td>\n",
       "      <td>0.014072</td>\n",
       "      <td>0.004203</td>\n",
       "      <td>0.002665</td>\n",
       "      <td>0.005191</td>\n",
       "      <td>0.000488</td>\n",
       "      <td>...</td>\n",
       "      <td>0.000669</td>\n",
       "      <td>0.002070</td>\n",
       "      <td>0.002777</td>\n",
       "      <td>0.021083</td>\n",
       "      <td>0.006821</td>\n",
       "      <td>0.000766</td>\n",
       "      <td>0.002139</td>\n",
       "      <td>0.001855</td>\n",
       "      <td>0.000905</td>\n",
       "      <td>0.002190</td>\n",
       "    </tr>\n",
       "    <tr>\n",
       "      <th>4</th>\n",
       "      <td>id_0027f1083</td>\n",
       "      <td>0.001734</td>\n",
       "      <td>0.001559</td>\n",
       "      <td>0.001958</td>\n",
       "      <td>0.019246</td>\n",
       "      <td>0.024183</td>\n",
       "      <td>0.004626</td>\n",
       "      <td>0.004750</td>\n",
       "      <td>0.002949</td>\n",
       "      <td>0.000631</td>\n",
       "      <td>...</td>\n",
       "      <td>0.000797</td>\n",
       "      <td>0.000975</td>\n",
       "      <td>0.003703</td>\n",
       "      <td>0.001108</td>\n",
       "      <td>0.001424</td>\n",
       "      <td>0.000743</td>\n",
       "      <td>0.001039</td>\n",
       "      <td>0.002154</td>\n",
       "      <td>0.000452</td>\n",
       "      <td>0.001820</td>\n",
       "    </tr>\n",
       "  </tbody>\n",
       "</table>\n",
       "<p>5 rows × 207 columns</p>\n",
       "</div>"
      ],
      "text/plain": [
       "         sig_id  5-alpha_reductase_inhibitor  11-beta-hsd1_inhibitor  \\\n",
       "0  id_0004d9e33                     0.001091                0.000990   \n",
       "1  id_001897cda                     0.000570                0.000950   \n",
       "2  id_002429b5b                     0.000000                0.000000   \n",
       "3  id_00276f245                     0.001157                0.001207   \n",
       "4  id_0027f1083                     0.001734                0.001559   \n",
       "\n",
       "   acat_inhibitor  acetylcholine_receptor_agonist  \\\n",
       "0        0.001917                        0.016006   \n",
       "1        0.002104                        0.002340   \n",
       "2        0.000000                        0.000000   \n",
       "3        0.001672                        0.009913   \n",
       "4        0.001958                        0.019246   \n",
       "\n",
       "   acetylcholine_receptor_antagonist  acetylcholinesterase_inhibitor  \\\n",
       "0                           0.022213                        0.005090   \n",
       "1                           0.001574                        0.001966   \n",
       "2                           0.000000                        0.000000   \n",
       "3                           0.014072                        0.004203   \n",
       "4                           0.024183                        0.004626   \n",
       "\n",
       "   adenosine_receptor_agonist  adenosine_receptor_antagonist  \\\n",
       "0                    0.002669                       0.006430   \n",
       "1                    0.002473                       0.010145   \n",
       "2                    0.000000                       0.000000   \n",
       "3                    0.002665                       0.005191   \n",
       "4                    0.004750                       0.002949   \n",
       "\n",
       "   adenylyl_cyclase_activator  ...  tropomyosin_receptor_kinase_inhibitor  \\\n",
       "0                    0.000350  ...                               0.000937   \n",
       "1                    0.002058  ...                               0.000871   \n",
       "2                    0.000000  ...                               0.000000   \n",
       "3                    0.000488  ...                               0.000669   \n",
       "4                    0.000631  ...                               0.000797   \n",
       "\n",
       "   trpv_agonist  trpv_antagonist  tubulin_inhibitor  \\\n",
       "0      0.000786         0.002975           0.000965   \n",
       "1      0.001378         0.003699           0.001091   \n",
       "2      0.000000         0.000000           0.000000   \n",
       "3      0.002070         0.002777           0.021083   \n",
       "4      0.000975         0.003703           0.001108   \n",
       "\n",
       "   tyrosine_kinase_inhibitor  ubiquitin_specific_protease_inhibitor  \\\n",
       "0                   0.000799                               0.000615   \n",
       "1                   0.007105                               0.000663   \n",
       "2                   0.000000                               0.000000   \n",
       "3                   0.006821                               0.000766   \n",
       "4                   0.001424                               0.000743   \n",
       "\n",
       "   vegfr_inhibitor  vitamin_b  vitamin_d_receptor_agonist  wnt_inhibitor  \n",
       "0         0.000716   0.002160                    0.003511       0.001535  \n",
       "1         0.011186   0.001294                    0.010900       0.002685  \n",
       "2         0.000000   0.000000                    0.000000       0.000000  \n",
       "3         0.002139   0.001855                    0.000905       0.002190  \n",
       "4         0.001039   0.002154                    0.000452       0.001820  \n",
       "\n",
       "[5 rows x 207 columns]"
      ]
     },
     "execution_count": 26,
     "metadata": {},
     "output_type": "execute_result"
    }
   ],
   "source": [
    "sub = sample_submission.drop(columns=target_cols).merge(test[['sig_id']+target_cols], on='sig_id', how='left').fillna(0)\n",
    "sub.to_csv('submission.csv', index=False)\n",
    "sub.head()"
   ]
  }
 ],
 "metadata": {
  "kernelspec": {
   "display_name": "Python 3",
   "language": "python",
   "name": "python3"
  },
  "language_info": {
   "codemirror_mode": {
    "name": "ipython",
    "version": 3
   },
   "file_extension": ".py",
   "mimetype": "text/x-python",
   "name": "python",
   "nbconvert_exporter": "python",
   "pygments_lexer": "ipython3",
   "version": "3.7.6"
  },
  "papermill": {
   "duration": 124.941377,
   "end_time": "2020-11-26T02:05:35.262403",
   "environment_variables": {},
   "exception": null,
   "input_path": "__notebook__.ipynb",
   "output_path": "__notebook__.ipynb",
   "parameters": {},
   "start_time": "2020-11-26T02:03:30.321026",
   "version": "2.1.0"
  }
 },
 "nbformat": 4,
 "nbformat_minor": 4
}
