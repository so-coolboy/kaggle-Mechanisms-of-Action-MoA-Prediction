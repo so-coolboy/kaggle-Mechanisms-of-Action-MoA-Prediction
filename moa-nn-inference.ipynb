{
 "cells": [
  {
   "cell_type": "code",
   "execution_count": 1,
   "metadata": {
    "_cell_guid": "b1076dfc-b9ad-4769-8c92-a6c4dae69d19",
    "_uuid": "8f2839f25d086af736a60e9eeb907d3b93b6e0e5",
    "execution": {
     "iopub.execute_input": "2020-11-18T06:26:01.961754Z",
     "iopub.status.busy": "2020-11-18T06:26:01.961057Z",
     "iopub.status.idle": "2020-11-18T06:26:02.828601Z",
     "shell.execute_reply": "2020-11-18T06:26:02.827813Z"
    },
    "papermill": {
     "duration": 0.889883,
     "end_time": "2020-11-18T06:26:02.828737",
     "exception": false,
     "start_time": "2020-11-18T06:26:01.938854",
     "status": "completed"
    },
    "tags": []
   },
   "outputs": [],
   "source": [
    "import sys\n",
    "sys.path.append('../input/iterativestratification')\n",
    "from iterstrat.ml_stratifiers import MultilabelStratifiedKFold"
   ]
  },
  {
   "cell_type": "code",
   "execution_count": 2,
   "metadata": {
    "execution": {
     "iopub.execute_input": "2020-11-18T06:26:02.867550Z",
     "iopub.status.busy": "2020-11-18T06:26:02.866777Z",
     "iopub.status.idle": "2020-11-18T06:26:04.001549Z",
     "shell.execute_reply": "2020-11-18T06:26:04.000827Z"
    },
    "papermill": {
     "duration": 1.157117,
     "end_time": "2020-11-18T06:26:04.001671",
     "exception": false,
     "start_time": "2020-11-18T06:26:02.844554",
     "status": "completed"
    },
    "tags": []
   },
   "outputs": [],
   "source": [
    "import numpy as np\n",
    "import random\n",
    "import pandas as pd\n",
    "import matplotlib.pyplot as plt\n",
    "import os\n",
    "import copy\n",
    "import seaborn as sns\n",
    "\n",
    "from sklearn import preprocessing\n",
    "from sklearn.metrics import log_loss\n",
    "from sklearn.preprocessing import StandardScaler\n",
    "from sklearn.decomposition import PCA\n",
    "\n",
    "import torch\n",
    "import torch.nn as nn\n",
    "import torch.nn.functional as F\n",
    "import torch.optim as optim\n",
    "\n",
    "import warnings\n",
    "warnings.filterwarnings('ignore')\n",
    "from sklearn.preprocessing import QuantileTransformer\n",
    "import gc\n",
    "from sklearn.metrics import roc_auc_score"
   ]
  },
  {
   "cell_type": "code",
   "execution_count": 3,
   "metadata": {
    "execution": {
     "iopub.execute_input": "2020-11-18T06:26:04.039662Z",
     "iopub.status.busy": "2020-11-18T06:26:04.038870Z",
     "iopub.status.idle": "2020-11-18T06:26:09.428476Z",
     "shell.execute_reply": "2020-11-18T06:26:09.427933Z"
    },
    "papermill": {
     "duration": 5.411428,
     "end_time": "2020-11-18T06:26:09.428611",
     "exception": false,
     "start_time": "2020-11-18T06:26:04.017183",
     "status": "completed"
    },
    "tags": []
   },
   "outputs": [],
   "source": [
    "train_features = pd.read_csv('../input/lish-moa/train_features.csv')\n",
    "train_targets_scored = pd.read_csv('../input/moa-make-foldsmoa-make-folds/train_targets_scored.csv')\n",
    "train_targets_nonscored = pd.read_csv('../input/moa-make-foldsmoa-make-folds/train_targets_nonscored.csv')\n",
    "\n",
    "test_features = pd.read_csv('../input/lish-moa/test_features.csv')\n",
    "sample_submission = pd.read_csv('../input/lish-moa/sample_submission.csv')"
   ]
  },
  {
   "cell_type": "code",
   "execution_count": 4,
   "metadata": {
    "execution": {
     "iopub.execute_input": "2020-11-18T06:26:09.465952Z",
     "iopub.status.busy": "2020-11-18T06:26:09.464909Z",
     "iopub.status.idle": "2020-11-18T06:26:09.467906Z",
     "shell.execute_reply": "2020-11-18T06:26:09.467385Z"
    },
    "papermill": {
     "duration": 0.024001,
     "end_time": "2020-11-18T06:26:09.468022",
     "exception": false,
     "start_time": "2020-11-18T06:26:09.444021",
     "status": "completed"
    },
    "tags": []
   },
   "outputs": [],
   "source": [
    "GENES = [col for col in train_features.columns if col.startswith('g-')]\n",
    "CELLS = [col for col in train_features.columns if col.startswith('c-')]"
   ]
  },
  {
   "cell_type": "code",
   "execution_count": 5,
   "metadata": {
    "execution": {
     "iopub.execute_input": "2020-11-18T06:26:09.521032Z",
     "iopub.status.busy": "2020-11-18T06:26:09.520352Z",
     "iopub.status.idle": "2020-11-18T06:26:14.560799Z",
     "shell.execute_reply": "2020-11-18T06:26:14.560100Z"
    },
    "papermill": {
     "duration": 5.077664,
     "end_time": "2020-11-18T06:26:14.560921",
     "exception": false,
     "start_time": "2020-11-18T06:26:09.483257",
     "status": "completed"
    },
    "tags": []
   },
   "outputs": [],
   "source": [
    "#归一化、\n",
    "from sklearn.preprocessing import StandardScaler,MinMaxScaler\n",
    "std = StandardScaler()\n",
    "train_features[CELLS] = std.fit_transform(train_features[CELLS])\n",
    "test_features[CELLS] = std.transform(test_features[CELLS])\n",
    "\n",
    "std = StandardScaler()\n",
    "train_features[GENES] = std.fit_transform(train_features[GENES])\n",
    "test_features[GENES] = std.transform(test_features[GENES])"
   ]
  },
  {
   "cell_type": "code",
   "execution_count": 6,
   "metadata": {
    "execution": {
     "iopub.execute_input": "2020-11-18T06:26:14.602027Z",
     "iopub.status.busy": "2020-11-18T06:26:14.601368Z",
     "iopub.status.idle": "2020-11-18T06:26:24.159393Z",
     "shell.execute_reply": "2020-11-18T06:26:24.158775Z"
    },
    "papermill": {
     "duration": 9.582332,
     "end_time": "2020-11-18T06:26:24.159529",
     "exception": false,
     "start_time": "2020-11-18T06:26:14.577197",
     "status": "completed"
    },
    "tags": []
   },
   "outputs": [],
   "source": [
    "#RankGauss\n",
    "\n",
    "for col in (GENES + CELLS):\n",
    "\n",
    "    transformer = QuantileTransformer(n_quantiles=150,random_state=0, output_distribution=\"normal\")\n",
    "    vec_len = len(train_features[col].values)\n",
    "    vec_len_test = len(test_features[col].values)\n",
    "    raw_vec = train_features[col].values.reshape(vec_len, 1)\n",
    "    transformer.fit(raw_vec)\n",
    "\n",
    "    train_features[col] = transformer.transform(raw_vec).reshape(1, vec_len)[0]\n",
    "    test_features[col] = transformer.transform(test_features[col].values.reshape(vec_len_test, 1)).reshape(1, vec_len_test)[0]"
   ]
  },
  {
   "cell_type": "code",
   "execution_count": 7,
   "metadata": {
    "execution": {
     "iopub.execute_input": "2020-11-18T06:26:24.197211Z",
     "iopub.status.busy": "2020-11-18T06:26:24.196537Z",
     "iopub.status.idle": "2020-11-18T06:26:24.202924Z",
     "shell.execute_reply": "2020-11-18T06:26:24.202204Z"
    },
    "papermill": {
     "duration": 0.028033,
     "end_time": "2020-11-18T06:26:24.203051",
     "exception": false,
     "start_time": "2020-11-18T06:26:24.175018",
     "status": "completed"
    },
    "tags": []
   },
   "outputs": [],
   "source": [
    "def seed_everything(seed=42):\n",
    "    random.seed(seed)\n",
    "    os.environ['PYTHONHASHSEED'] = str(seed)\n",
    "    np.random.seed(seed)\n",
    "    torch.manual_seed(seed)\n",
    "    torch.cuda.manual_seed(seed)\n",
    "    torch.backends.cudnn.deterministic = True\n",
    "    \n",
    "seed_everything(seed=42)"
   ]
  },
  {
   "cell_type": "code",
   "execution_count": 8,
   "metadata": {
    "execution": {
     "iopub.execute_input": "2020-11-18T06:26:24.241878Z",
     "iopub.status.busy": "2020-11-18T06:26:24.241153Z",
     "iopub.status.idle": "2020-11-18T06:26:24.656337Z",
     "shell.execute_reply": "2020-11-18T06:26:24.655812Z"
    },
    "papermill": {
     "duration": 0.437615,
     "end_time": "2020-11-18T06:26:24.656461",
     "exception": false,
     "start_time": "2020-11-18T06:26:24.218846",
     "status": "completed"
    },
    "tags": []
   },
   "outputs": [],
   "source": [
    "train = train_features.merge(train_targets_scored, on='sig_id')\n",
    "train = train[train['cp_type']!='ctl_vehicle'].reset_index(drop=True)\n",
    "test = test_features[test_features['cp_type']!='ctl_vehicle'].reset_index(drop=True)\n",
    "target = train[train_targets_scored.columns[:207]]\n",
    "train = train.drop('cp_type', axis=1)\n",
    "test = test.drop('cp_type', axis=1)\n",
    "\n",
    "target_cols = target.drop('sig_id', axis=1).columns.values.tolist()"
   ]
  },
  {
   "cell_type": "code",
   "execution_count": 9,
   "metadata": {
    "execution": {
     "iopub.execute_input": "2020-11-18T06:26:24.695104Z",
     "iopub.status.busy": "2020-11-18T06:26:24.694365Z",
     "iopub.status.idle": "2020-11-18T06:26:25.197324Z",
     "shell.execute_reply": "2020-11-18T06:26:25.196800Z"
    },
    "papermill": {
     "duration": 0.524994,
     "end_time": "2020-11-18T06:26:25.197445",
     "exception": false,
     "start_time": "2020-11-18T06:26:24.672451",
     "status": "completed"
    },
    "tags": []
   },
   "outputs": [],
   "source": [
    "train_non_scored = train_features.merge(train_targets_nonscored, on='sig_id')\n",
    "train_non_scored = train_non_scored[train_non_scored['cp_type']!='ctl_vehicle'].reset_index(drop=True)\n",
    "test = test_features[test_features['cp_type']!='ctl_vehicle'].reset_index(drop=True)\n",
    "target_non_scored = train_non_scored[train_targets_nonscored.columns[:403]]\n",
    "train_non_scored = train_non_scored.drop('cp_type', axis=1)\n",
    "test = test.drop('cp_type', axis=1)"
   ]
  },
  {
   "cell_type": "code",
   "execution_count": 10,
   "metadata": {
    "execution": {
     "iopub.execute_input": "2020-11-18T06:26:25.256602Z",
     "iopub.status.busy": "2020-11-18T06:26:25.255914Z",
     "iopub.status.idle": "2020-11-18T06:26:25.414934Z",
     "shell.execute_reply": "2020-11-18T06:26:25.414209Z"
    },
    "papermill": {
     "duration": 0.202137,
     "end_time": "2020-11-18T06:26:25.415059",
     "exception": false,
     "start_time": "2020-11-18T06:26:25.212922",
     "status": "completed"
    },
    "tags": []
   },
   "outputs": [],
   "source": [
    "target_non_scored_cols = target_non_scored.drop('sig_id', axis=1).columns.values.tolist()\n",
    "folds = train.copy()\n",
    "folds_non_scored = train_non_scored.copy()"
   ]
  },
  {
   "cell_type": "code",
   "execution_count": 11,
   "metadata": {
    "execution": {
     "iopub.execute_input": "2020-11-18T06:26:25.456159Z",
     "iopub.status.busy": "2020-11-18T06:26:25.455195Z",
     "iopub.status.idle": "2020-11-18T06:26:25.458539Z",
     "shell.execute_reply": "2020-11-18T06:26:25.457935Z"
    },
    "papermill": {
     "duration": 0.028204,
     "end_time": "2020-11-18T06:26:25.458652",
     "exception": false,
     "start_time": "2020-11-18T06:26:25.430448",
     "status": "completed"
    },
    "tags": []
   },
   "outputs": [],
   "source": [
    "class MoADataset:\n",
    "    def __init__(self, features, targets):\n",
    "        self.features = features\n",
    "        self.targets = targets\n",
    "        \n",
    "    def __len__(self):\n",
    "        return (self.features.shape[0])\n",
    "    \n",
    "    def __getitem__(self, idx):\n",
    "        dct = {\n",
    "            'x' : torch.tensor(self.features[idx, :], dtype=torch.float),\n",
    "            'y' : torch.tensor(self.targets[idx, :], dtype=torch.float)            \n",
    "        }\n",
    "        return dct\n",
    "    \n",
    "class TestDataset:\n",
    "    def __init__(self, features):\n",
    "        self.features = features\n",
    "        \n",
    "    def __len__(self):\n",
    "        return (self.features.shape[0])\n",
    "    \n",
    "    def __getitem__(self, idx):\n",
    "        dct = {\n",
    "            'x' : torch.tensor(self.features[idx, :], dtype=torch.float)\n",
    "        }\n",
    "        return dct"
   ]
  },
  {
   "cell_type": "code",
   "execution_count": 12,
   "metadata": {
    "execution": {
     "iopub.execute_input": "2020-11-18T06:26:25.502932Z",
     "iopub.status.busy": "2020-11-18T06:26:25.501990Z",
     "iopub.status.idle": "2020-11-18T06:26:25.505330Z",
     "shell.execute_reply": "2020-11-18T06:26:25.504852Z"
    },
    "papermill": {
     "duration": 0.031358,
     "end_time": "2020-11-18T06:26:25.505446",
     "exception": false,
     "start_time": "2020-11-18T06:26:25.474088",
     "status": "completed"
    },
    "tags": []
   },
   "outputs": [],
   "source": [
    "def train_fn(model, optimizer, scheduler, loss_fn, dataloader, device):\n",
    "    model.train()\n",
    "    final_loss = 0\n",
    "    \n",
    "    for data in dataloader:\n",
    "        optimizer.zero_grad()\n",
    "        inputs, targets = data['x'].to(device), data['y'].to(device)\n",
    "#         print(inputs.shape)\n",
    "        outputs = model(inputs)\n",
    "        loss = loss_fn(outputs, targets)\n",
    "        loss.backward()\n",
    "        optimizer.step()\n",
    "        scheduler.step()\n",
    "        \n",
    "        final_loss += loss.item()\n",
    "        \n",
    "    final_loss /= len(dataloader)\n",
    "    \n",
    "    return final_loss\n",
    "\n",
    "\n",
    "def valid_fn(model, loss_fn, dataloader, device):\n",
    "    model.eval()\n",
    "    final_loss = 0\n",
    "    valid_preds = []\n",
    "    \n",
    "    for data in dataloader:\n",
    "        inputs, targets = data['x'].to(device), data['y'].to(device)\n",
    "        outputs = model(inputs)\n",
    "        loss = loss_fn(outputs, targets)\n",
    "        \n",
    "        final_loss += loss.item()\n",
    "        valid_preds.append(outputs.sigmoid().detach().cpu().numpy())\n",
    "        \n",
    "    final_loss /= len(dataloader)\n",
    "    valid_preds = np.concatenate(valid_preds)\n",
    "    \n",
    "    return final_loss, valid_preds\n",
    "\n",
    "def inference_fn(model, dataloader, device):\n",
    "    model.eval()\n",
    "    preds = []\n",
    "    \n",
    "    for data in dataloader:\n",
    "        inputs = data['x'].to(device)\n",
    "\n",
    "        with torch.no_grad():\n",
    "            outputs = model(inputs)\n",
    "        \n",
    "        preds.append(outputs.sigmoid().detach().cpu().numpy())\n",
    "        \n",
    "    preds = np.concatenate(preds)\n",
    "    \n",
    "    return preds"
   ]
  },
  {
   "cell_type": "code",
   "execution_count": 13,
   "metadata": {
    "execution": {
     "iopub.execute_input": "2020-11-18T06:26:25.547520Z",
     "iopub.status.busy": "2020-11-18T06:26:25.546453Z",
     "iopub.status.idle": "2020-11-18T06:26:25.549772Z",
     "shell.execute_reply": "2020-11-18T06:26:25.549279Z"
    },
    "papermill": {
     "duration": 0.028973,
     "end_time": "2020-11-18T06:26:25.549896",
     "exception": false,
     "start_time": "2020-11-18T06:26:25.520923",
     "status": "completed"
    },
    "tags": []
   },
   "outputs": [],
   "source": [
    "import torch\n",
    "from torch.nn.modules.loss import _WeightedLoss\n",
    "import torch.nn.functional as F\n",
    "\n",
    "class SmoothBCEwLogits(_WeightedLoss):\n",
    "    def __init__(self, weight=None, reduction='mean', smoothing=0.0):\n",
    "        super().__init__(weight=weight, reduction=reduction)\n",
    "        self.smoothing = smoothing\n",
    "        self.weight = weight\n",
    "        self.reduction = reduction\n",
    "\n",
    "    @staticmethod\n",
    "    def _smooth(targets:torch.Tensor, n_labels:int, smoothing=0.0):\n",
    "        assert 0 <= smoothing < 1\n",
    "        with torch.no_grad():\n",
    "            targets = targets * (1.0 - smoothing) + 0.5 * smoothing\n",
    "        return targets\n",
    "\n",
    "    def forward(self, inputs, targets):\n",
    "        targets = SmoothBCEwLogits._smooth(targets, inputs.size(-1),\n",
    "            self.smoothing)\n",
    "        loss = F.binary_cross_entropy_with_logits(inputs, targets,self.weight)\n",
    "\n",
    "        if  self.reduction == 'sum':\n",
    "            loss = loss.sum()\n",
    "        elif  self.reduction == 'mean':\n",
    "            loss = loss.mean()\n",
    "\n",
    "        return loss"
   ]
  },
  {
   "cell_type": "code",
   "execution_count": 14,
   "metadata": {
    "execution": {
     "iopub.execute_input": "2020-11-18T06:26:25.600638Z",
     "iopub.status.busy": "2020-11-18T06:26:25.599624Z",
     "iopub.status.idle": "2020-11-18T06:26:25.603060Z",
     "shell.execute_reply": "2020-11-18T06:26:25.602394Z"
    },
    "papermill": {
     "duration": 0.037763,
     "end_time": "2020-11-18T06:26:25.603178",
     "exception": false,
     "start_time": "2020-11-18T06:26:25.565415",
     "status": "completed"
    },
    "tags": []
   },
   "outputs": [],
   "source": [
    "class Model(nn.Module):\n",
    "    def __init__(self, num_features, num_targets, hidden_size):\n",
    "        super(Model, self).__init__()\n",
    "        self.batch_norm1 = nn.BatchNorm1d(num_features)\n",
    "        self.dense1 = nn.utils.weight_norm(nn.Linear(num_features, hidden_size))\n",
    "        \n",
    "        self.batch_norm2 = nn.BatchNorm1d(hidden_size)\n",
    "        self.dropout2 = nn.Dropout(0.45)\n",
    "        self.dense2 = nn.utils.weight_norm(nn.Linear(hidden_size, hidden_size))\n",
    "        \n",
    "        self.batch_norm3 = nn.BatchNorm1d(hidden_size)\n",
    "        self.dropout3 = nn.Dropout(0.1)\n",
    "        self.dense3 = nn.utils.weight_norm(nn.Linear(hidden_size, num_targets))\n",
    "    \n",
    "    def recalibrate_layer(self, layer):\n",
    "        if(torch.isnan(layer.weight_v).sum() > 0):\n",
    "            print ('recalibrate layer.weight_v')\n",
    "            layer.weight_v = torch.nn.Parameter(torch.where(torch.isnan(layer.weight_v), torch.zeros_like(layer.weight_v), layer.weight_v))\n",
    "            layer.weight_v = torch.nn.Parameter(layer.weight_v + 1e-7)\n",
    "\n",
    "        if(torch.isnan(layer.weight).sum() > 0):\n",
    "            print ('recalibrate layer.weight')\n",
    "            layer.weight = torch.where(torch.isnan(layer.weight), torch.zeros_like(layer.weight), layer.weight)\n",
    "            layer.weight += 1e-7\n",
    "    \n",
    "    def forward(self, x):\n",
    "        x = self.batch_norm1(x)\n",
    "        self.recalibrate_layer(self.dense1)\n",
    "        x = F.leaky_relu(self.dense1(x))\n",
    "        \n",
    "        x = self.batch_norm2(x)\n",
    "        x = self.dropout2(x)\n",
    "        self.recalibrate_layer(self.dense2)\n",
    "        x = F.leaky_relu(self.dense2(x))\n",
    "        \n",
    "        x = self.batch_norm3(x)\n",
    "        x = self.dropout3(x)\n",
    "        \n",
    "        x = self.dense3(x)\n",
    "        self.recalibrate_layer(self.dense3)\n",
    "        return x\n",
    "    \n",
    "class LabelSmoothingLoss(nn.Module):\n",
    "    def __init__(self, classes, smoothing=0.0, dim=-1):\n",
    "        super(LabelSmoothingLoss, self).__init__()\n",
    "        self.confidence = 1.0 - smoothing\n",
    "        self.smoothing = smoothing\n",
    "        self.cls = classes\n",
    "        self.dim = dim\n",
    "\n",
    "    def forward(self, pred, target):\n",
    "        pred = pred.log_softmax(dim=self.dim)\n",
    "        with torch.no_grad():\n",
    "            # true_dist = pred.data.clone()\n",
    "            true_dist = torch.zeros_like(pred)\n",
    "            true_dist.fill_(self.smoothing / (self.cls - 1))\n",
    "            true_dist.scatter_(1, target.data.unsqueeze(1), self.confidence)\n",
    "        return torch.mean(torch.sum(-true_dist * pred, dim=self.dim))    "
   ]
  },
  {
   "cell_type": "code",
   "execution_count": 15,
   "metadata": {
    "execution": {
     "iopub.execute_input": "2020-11-18T06:26:25.723306Z",
     "iopub.status.busy": "2020-11-18T06:26:25.641180Z",
     "iopub.status.idle": "2020-11-18T06:26:25.873216Z",
     "shell.execute_reply": "2020-11-18T06:26:25.872614Z"
    },
    "papermill": {
     "duration": 0.254335,
     "end_time": "2020-11-18T06:26:25.873328",
     "exception": false,
     "start_time": "2020-11-18T06:26:25.618993",
     "status": "completed"
    },
    "tags": []
   },
   "outputs": [
    {
     "data": {
      "text/plain": [
       "877"
      ]
     },
     "execution_count": 15,
     "metadata": {},
     "output_type": "execute_result"
    }
   ],
   "source": [
    "def process_data(data):\n",
    "    data = pd.get_dummies(data, columns=['cp_time','cp_dose'])\n",
    "    return data\n",
    "\n",
    "feature_cols = [c for c in process_data(folds).columns if c not in target_cols]\n",
    "feature_cols = [c for c in feature_cols if c not in ['fold_42','sig_id','fold_0','fold_1','fold_2','fold_3']]\n",
    "len(feature_cols)"
   ]
  },
  {
   "cell_type": "code",
   "execution_count": 16,
   "metadata": {
    "execution": {
     "iopub.execute_input": "2020-11-18T06:26:25.913700Z",
     "iopub.status.busy": "2020-11-18T06:26:25.912766Z",
     "iopub.status.idle": "2020-11-18T06:26:25.915722Z",
     "shell.execute_reply": "2020-11-18T06:26:25.915182Z"
    },
    "papermill": {
     "duration": 0.026297,
     "end_time": "2020-11-18T06:26:25.915846",
     "exception": false,
     "start_time": "2020-11-18T06:26:25.889549",
     "status": "completed"
    },
    "tags": []
   },
   "outputs": [],
   "source": [
    "# HyperParameters\n",
    "DEVICE = ('cuda' if torch.cuda.is_available() else 'cpu')\n",
    "EPOCHS = 200\n",
    "BATCH_SIZE = 784\n",
    "LEARNING_RATE = 1e-2\n",
    "WEIGHT_DECAY = 1e-5\n",
    "NFOLDS = 7           \n",
    "EARLY_STOPPING_STEPS = 30\n",
    "EARLY_STOP = True\n",
    "\n",
    "pre_EPOCHS = 70\n",
    "pre_EARLY_STOPPING_STEPS = 10\n",
    "\n",
    "num_features=len(feature_cols)\n",
    "num_targets=len(target_cols)\n",
    "num_non_scored_targets=len(target_non_scored_cols)\n",
    "hidden_size=700   # 1500 1300 1400 1000 900 800 1700  20000"
   ]
  },
  {
   "cell_type": "code",
   "execution_count": 17,
   "metadata": {
    "execution": {
     "iopub.execute_input": "2020-11-18T06:26:25.964300Z",
     "iopub.status.busy": "2020-11-18T06:26:25.963203Z",
     "iopub.status.idle": "2020-11-18T06:26:25.966391Z",
     "shell.execute_reply": "2020-11-18T06:26:25.965873Z"
    },
    "papermill": {
     "duration": 0.034774,
     "end_time": "2020-11-18T06:26:25.966528",
     "exception": false,
     "start_time": "2020-11-18T06:26:25.931754",
     "status": "completed"
    },
    "tags": []
   },
   "outputs": [],
   "source": [
    "def run_training(fold, seed):\n",
    "    \n",
    "    seed_everything(seed)\n",
    "    \n",
    "    train = process_data(folds)\n",
    "    test_ = process_data(test)\n",
    "\n",
    "    trn_idx = train[train[f'fold_{seed}'] != fold].index\n",
    "    val_idx = train[train[f'fold_{seed}'] == fold].index\n",
    "    \n",
    "    train_df = train[train[f'fold_{seed}'] != fold].reset_index(drop=True)\n",
    "    valid_df = train[train[f'fold_{seed}'] == fold].reset_index(drop=True)\n",
    "    \n",
    "    x_train, y_train  = train_df[feature_cols].values, train_df[target_cols].values\n",
    "    x_valid, y_valid =  valid_df[feature_cols].values, valid_df[target_cols].values\n",
    "    \n",
    "    train_dataset = MoADataset(x_train, y_train)\n",
    "    valid_dataset = MoADataset(x_valid, y_valid)\n",
    "    trainloader = torch.utils.data.DataLoader(train_dataset, batch_size=BATCH_SIZE, shuffle=True)\n",
    "    validloader = torch.utils.data.DataLoader(valid_dataset, batch_size=BATCH_SIZE, shuffle=False)\n",
    "    \n",
    "    loss_fn = nn.BCEWithLogitsLoss()\n",
    "    loss_tr = SmoothBCEwLogits(smoothing =0.00)\n",
    "    #--------------------- PREDICTION---------------------\n",
    "    x_test = test_[feature_cols].values\n",
    "    testdataset = TestDataset(x_test)\n",
    "    testloader = torch.utils.data.DataLoader(testdataset, batch_size=BATCH_SIZE, shuffle=False)\n",
    "    \n",
    "    model = Model(\n",
    "        num_features=num_features,\n",
    "        num_targets=num_targets,\n",
    "        hidden_size=hidden_size,\n",
    "\n",
    "    )\n",
    "    model.load_state_dict(torch.load(f\"../input/moa-nn-train-no-pre/FOLD{fold}_{seed}.pth\", map_location=torch.device('cpu'))) #\n",
    "   # model.load_state_dict(torch.load(f\"../input/moapytorch2model/FOLD{fold}_{seed}.pth\")) #\n",
    "    model.to(DEVICE)\n",
    "\n",
    "    oof = np.zeros((len(train), target.iloc[:, 1:].shape[1]))\n",
    "    valid_loss, valid_preds = valid_fn(model, loss_fn, validloader, DEVICE)\n",
    "    oof[val_idx] = valid_preds\n",
    "    print(valid_loss)\n",
    "\n",
    "    \n",
    "    predictions = np.zeros((len(test_), target.iloc[:, 1:].shape[1]))\n",
    "    predictions = inference_fn(model, testloader, DEVICE)\n",
    "    \n",
    "    del model\n",
    "    torch.cuda.empty_cache()\n",
    "    gc.collect()\n",
    "    return oof, predictions"
   ]
  },
  {
   "cell_type": "code",
   "execution_count": 18,
   "metadata": {
    "execution": {
     "iopub.execute_input": "2020-11-18T06:26:26.005356Z",
     "iopub.status.busy": "2020-11-18T06:26:26.004531Z",
     "iopub.status.idle": "2020-11-18T06:26:26.007023Z",
     "shell.execute_reply": "2020-11-18T06:26:26.007478Z"
    },
    "papermill": {
     "duration": 0.025253,
     "end_time": "2020-11-18T06:26:26.007662",
     "exception": false,
     "start_time": "2020-11-18T06:26:25.982409",
     "status": "completed"
    },
    "tags": []
   },
   "outputs": [],
   "source": [
    "def run_k_fold(NFOLDS, seed):\n",
    "    oof = np.zeros((len(train), len(target_cols)))\n",
    "    predictions = np.zeros((len(test), len(target_cols)))\n",
    "    \n",
    "    for fold in range(NFOLDS):\n",
    "        oof_, pred_ = run_training(fold, seed)\n",
    "        \n",
    "        predictions += pred_ / NFOLDS\n",
    "        oof += oof_\n",
    "        \n",
    "    return oof, predictions"
   ]
  },
  {
   "cell_type": "code",
   "execution_count": 19,
   "metadata": {
    "execution": {
     "iopub.execute_input": "2020-11-18T06:26:26.046202Z",
     "iopub.status.busy": "2020-11-18T06:26:26.045518Z",
     "iopub.status.idle": "2020-11-18T06:26:44.255420Z",
     "shell.execute_reply": "2020-11-18T06:26:44.254806Z"
    },
    "papermill": {
     "duration": 18.231855,
     "end_time": "2020-11-18T06:26:44.255564",
     "exception": false,
     "start_time": "2020-11-18T06:26:26.023709",
     "status": "completed"
    },
    "tags": []
   },
   "outputs": [
    {
     "name": "stdout",
     "output_type": "stream",
     "text": [
      "0.017039168160408735\n",
      "0.0168904148042202\n",
      "0.017645493149757385\n",
      "0.01694003865122795\n",
      "0.017236570827662945\n",
      "0.01635933630168438\n",
      "0.01650667702779174\n",
      "0.016477983444929123\n",
      "0.014100000588223338\n",
      "0.017280043568462133\n",
      "0.017373699322342874\n",
      "0.01676855143159628\n",
      "0.01765596978366375\n",
      "0.0172235120087862\n"
     ]
    }
   ],
   "source": [
    "# Averaging on multiple SEEDS\n",
    "\n",
    "SEED = [42, 0] #<-- Update\n",
    "oof = np.zeros((len(train), len(target_cols)))\n",
    "predictions = np.zeros((len(test), len(target_cols)))\n",
    "\n",
    "for seed in SEED:\n",
    "    \n",
    "    oof_, predictions_ = run_k_fold(NFOLDS, seed)\n",
    "    oof += oof_ / len(SEED)\n",
    "    predictions += predictions_ / len(SEED)\n",
    "\n",
    "train[target_cols] = oof\n",
    "test[target_cols] = predictions"
   ]
  },
  {
   "cell_type": "code",
   "execution_count": 20,
   "metadata": {
    "execution": {
     "iopub.execute_input": "2020-11-18T06:26:44.310466Z",
     "iopub.status.busy": "2020-11-18T06:26:44.308905Z",
     "iopub.status.idle": "2020-11-18T06:26:55.260583Z",
     "shell.execute_reply": "2020-11-18T06:26:55.259908Z"
    },
    "papermill": {
     "duration": 10.984936,
     "end_time": "2020-11-18T06:26:55.260705",
     "exception": false,
     "start_time": "2020-11-18T06:26:44.275769",
     "status": "completed"
    },
    "tags": []
   },
   "outputs": [
    {
     "name": "stdout",
     "output_type": "stream",
     "text": [
      "CV log_loss:  0.015564507825527934\n"
     ]
    }
   ],
   "source": [
    "valid_results = train_targets_scored.drop(columns=target_cols+['fold_42','fold_0','fold_1','fold_2','fold_3']).merge(train[['sig_id']+target_cols], on='sig_id', how='left').fillna(0)\n",
    "valid_results = valid_results.add_prefix('pre_')\n",
    "valid_results.rename(columns={'pre_sig_id':'sig_id'}, inplace=True)\n",
    "\n",
    "oof = train_targets_scored.drop(columns=['fold_42','fold_0','fold_1','fold_2','fold_3'],axis=1)\n",
    "oof = oof.merge(valid_results, on=['sig_id'], how='left')\n",
    "oof.to_csv('moa_nn_oof.csv', index=False)\n",
    "\n",
    "score = 0\n",
    "for i in (target_cols):\n",
    "    score_ = log_loss(oof[i], oof['pre_'+i])\n",
    "    score += score_ / target.shape[1]\n",
    "    \n",
    "print(\"CV log_loss: \", score)\n",
    "    "
   ]
  },
  {
   "cell_type": "code",
   "execution_count": 21,
   "metadata": {
    "execution": {
     "iopub.execute_input": "2020-11-18T06:26:55.306419Z",
     "iopub.status.busy": "2020-11-18T06:26:55.305790Z",
     "iopub.status.idle": "2020-11-18T06:26:56.666508Z",
     "shell.execute_reply": "2020-11-18T06:26:56.665721Z"
    },
    "papermill": {
     "duration": 1.385994,
     "end_time": "2020-11-18T06:26:56.666662",
     "exception": false,
     "start_time": "2020-11-18T06:26:55.280668",
     "status": "completed"
    },
    "tags": []
   },
   "outputs": [
    {
     "name": "stdout",
     "output_type": "stream",
     "text": [
      "CV AUC:  0.6622805545183396\n"
     ]
    }
   ],
   "source": [
    "auc_score = 0\n",
    "for i in (target_cols):\n",
    "    score_ = roc_auc_score(oof[i], oof['pre_'+i])\n",
    "    score += score_ / target.shape[1]\n",
    "    \n",
    "print(\"CV AUC: \", score)"
   ]
  },
  {
   "cell_type": "code",
   "execution_count": 22,
   "metadata": {
    "execution": {
     "iopub.execute_input": "2020-11-18T06:26:56.720340Z",
     "iopub.status.busy": "2020-11-18T06:26:56.718722Z",
     "iopub.status.idle": "2020-11-18T06:26:58.138650Z",
     "shell.execute_reply": "2020-11-18T06:26:58.137951Z"
    },
    "papermill": {
     "duration": 1.45006,
     "end_time": "2020-11-18T06:26:58.138773",
     "exception": false,
     "start_time": "2020-11-18T06:26:56.688713",
     "status": "completed"
    },
    "tags": []
   },
   "outputs": [],
   "source": [
    "sub = sample_submission.drop(columns=target_cols).merge(test[['sig_id']+target_cols], on='sig_id', how='left').fillna(0)\n",
    "sub.to_csv('submission.csv', index=False)"
   ]
  },
  {
   "cell_type": "code",
   "execution_count": 23,
   "metadata": {
    "execution": {
     "iopub.execute_input": "2020-11-18T06:26:58.198351Z",
     "iopub.status.busy": "2020-11-18T06:26:58.197397Z",
     "iopub.status.idle": "2020-11-18T06:26:58.214905Z",
     "shell.execute_reply": "2020-11-18T06:26:58.214317Z"
    },
    "papermill": {
     "duration": 0.055646,
     "end_time": "2020-11-18T06:26:58.215027",
     "exception": false,
     "start_time": "2020-11-18T06:26:58.159381",
     "status": "completed"
    },
    "tags": []
   },
   "outputs": [
    {
     "data": {
      "text/html": [
       "<div>\n",
       "<style scoped>\n",
       "    .dataframe tbody tr th:only-of-type {\n",
       "        vertical-align: middle;\n",
       "    }\n",
       "\n",
       "    .dataframe tbody tr th {\n",
       "        vertical-align: top;\n",
       "    }\n",
       "\n",
       "    .dataframe thead th {\n",
       "        text-align: right;\n",
       "    }\n",
       "</style>\n",
       "<table border=\"1\" class=\"dataframe\">\n",
       "  <thead>\n",
       "    <tr style=\"text-align: right;\">\n",
       "      <th></th>\n",
       "      <th>sig_id</th>\n",
       "      <th>5-alpha_reductase_inhibitor</th>\n",
       "      <th>11-beta-hsd1_inhibitor</th>\n",
       "      <th>acat_inhibitor</th>\n",
       "      <th>acetylcholine_receptor_agonist</th>\n",
       "      <th>acetylcholine_receptor_antagonist</th>\n",
       "      <th>acetylcholinesterase_inhibitor</th>\n",
       "      <th>adenosine_receptor_agonist</th>\n",
       "      <th>adenosine_receptor_antagonist</th>\n",
       "      <th>adenylyl_cyclase_activator</th>\n",
       "      <th>...</th>\n",
       "      <th>tropomyosin_receptor_kinase_inhibitor</th>\n",
       "      <th>trpv_agonist</th>\n",
       "      <th>trpv_antagonist</th>\n",
       "      <th>tubulin_inhibitor</th>\n",
       "      <th>tyrosine_kinase_inhibitor</th>\n",
       "      <th>ubiquitin_specific_protease_inhibitor</th>\n",
       "      <th>vegfr_inhibitor</th>\n",
       "      <th>vitamin_b</th>\n",
       "      <th>vitamin_d_receptor_agonist</th>\n",
       "      <th>wnt_inhibitor</th>\n",
       "    </tr>\n",
       "  </thead>\n",
       "  <tbody>\n",
       "    <tr>\n",
       "      <th>0</th>\n",
       "      <td>id_0004d9e33</td>\n",
       "      <td>0.000599</td>\n",
       "      <td>0.000752</td>\n",
       "      <td>0.002410</td>\n",
       "      <td>0.015671</td>\n",
       "      <td>0.019666</td>\n",
       "      <td>0.003828</td>\n",
       "      <td>0.002227</td>\n",
       "      <td>0.006960</td>\n",
       "      <td>0.000284</td>\n",
       "      <td>...</td>\n",
       "      <td>0.000942</td>\n",
       "      <td>0.001361</td>\n",
       "      <td>0.003675</td>\n",
       "      <td>0.001655</td>\n",
       "      <td>0.000951</td>\n",
       "      <td>0.000428</td>\n",
       "      <td>0.001274</td>\n",
       "      <td>0.001959</td>\n",
       "      <td>0.003688</td>\n",
       "      <td>0.001424</td>\n",
       "    </tr>\n",
       "    <tr>\n",
       "      <th>1</th>\n",
       "      <td>id_001897cda</td>\n",
       "      <td>0.000343</td>\n",
       "      <td>0.000599</td>\n",
       "      <td>0.001304</td>\n",
       "      <td>0.002373</td>\n",
       "      <td>0.002125</td>\n",
       "      <td>0.001508</td>\n",
       "      <td>0.004046</td>\n",
       "      <td>0.006565</td>\n",
       "      <td>0.002657</td>\n",
       "      <td>...</td>\n",
       "      <td>0.000566</td>\n",
       "      <td>0.000916</td>\n",
       "      <td>0.002705</td>\n",
       "      <td>0.000582</td>\n",
       "      <td>0.011588</td>\n",
       "      <td>0.000302</td>\n",
       "      <td>0.022500</td>\n",
       "      <td>0.000810</td>\n",
       "      <td>0.001007</td>\n",
       "      <td>0.002054</td>\n",
       "    </tr>\n",
       "    <tr>\n",
       "      <th>2</th>\n",
       "      <td>id_002429b5b</td>\n",
       "      <td>0.000000</td>\n",
       "      <td>0.000000</td>\n",
       "      <td>0.000000</td>\n",
       "      <td>0.000000</td>\n",
       "      <td>0.000000</td>\n",
       "      <td>0.000000</td>\n",
       "      <td>0.000000</td>\n",
       "      <td>0.000000</td>\n",
       "      <td>0.000000</td>\n",
       "      <td>...</td>\n",
       "      <td>0.000000</td>\n",
       "      <td>0.000000</td>\n",
       "      <td>0.000000</td>\n",
       "      <td>0.000000</td>\n",
       "      <td>0.000000</td>\n",
       "      <td>0.000000</td>\n",
       "      <td>0.000000</td>\n",
       "      <td>0.000000</td>\n",
       "      <td>0.000000</td>\n",
       "      <td>0.000000</td>\n",
       "    </tr>\n",
       "    <tr>\n",
       "      <th>3</th>\n",
       "      <td>id_00276f245</td>\n",
       "      <td>0.000635</td>\n",
       "      <td>0.000697</td>\n",
       "      <td>0.001673</td>\n",
       "      <td>0.013418</td>\n",
       "      <td>0.016141</td>\n",
       "      <td>0.003909</td>\n",
       "      <td>0.003596</td>\n",
       "      <td>0.004501</td>\n",
       "      <td>0.000398</td>\n",
       "      <td>...</td>\n",
       "      <td>0.000602</td>\n",
       "      <td>0.001380</td>\n",
       "      <td>0.002357</td>\n",
       "      <td>0.016427</td>\n",
       "      <td>0.006405</td>\n",
       "      <td>0.000415</td>\n",
       "      <td>0.002479</td>\n",
       "      <td>0.001922</td>\n",
       "      <td>0.000701</td>\n",
       "      <td>0.001939</td>\n",
       "    </tr>\n",
       "    <tr>\n",
       "      <th>4</th>\n",
       "      <td>id_0027f1083</td>\n",
       "      <td>0.001403</td>\n",
       "      <td>0.001150</td>\n",
       "      <td>0.001496</td>\n",
       "      <td>0.016480</td>\n",
       "      <td>0.020921</td>\n",
       "      <td>0.004328</td>\n",
       "      <td>0.004023</td>\n",
       "      <td>0.002460</td>\n",
       "      <td>0.000390</td>\n",
       "      <td>...</td>\n",
       "      <td>0.000696</td>\n",
       "      <td>0.000617</td>\n",
       "      <td>0.003290</td>\n",
       "      <td>0.001747</td>\n",
       "      <td>0.001438</td>\n",
       "      <td>0.000488</td>\n",
       "      <td>0.002021</td>\n",
       "      <td>0.001644</td>\n",
       "      <td>0.000534</td>\n",
       "      <td>0.001842</td>\n",
       "    </tr>\n",
       "    <tr>\n",
       "      <th>5</th>\n",
       "      <td>id_0042c1364</td>\n",
       "      <td>0.000000</td>\n",
       "      <td>0.000000</td>\n",
       "      <td>0.000000</td>\n",
       "      <td>0.000000</td>\n",
       "      <td>0.000000</td>\n",
       "      <td>0.000000</td>\n",
       "      <td>0.000000</td>\n",
       "      <td>0.000000</td>\n",
       "      <td>0.000000</td>\n",
       "      <td>...</td>\n",
       "      <td>0.000000</td>\n",
       "      <td>0.000000</td>\n",
       "      <td>0.000000</td>\n",
       "      <td>0.000000</td>\n",
       "      <td>0.000000</td>\n",
       "      <td>0.000000</td>\n",
       "      <td>0.000000</td>\n",
       "      <td>0.000000</td>\n",
       "      <td>0.000000</td>\n",
       "      <td>0.000000</td>\n",
       "    </tr>\n",
       "    <tr>\n",
       "      <th>6</th>\n",
       "      <td>id_006fc47b8</td>\n",
       "      <td>0.000549</td>\n",
       "      <td>0.000550</td>\n",
       "      <td>0.001777</td>\n",
       "      <td>0.022360</td>\n",
       "      <td>0.022616</td>\n",
       "      <td>0.003585</td>\n",
       "      <td>0.004344</td>\n",
       "      <td>0.002179</td>\n",
       "      <td>0.000347</td>\n",
       "      <td>...</td>\n",
       "      <td>0.000825</td>\n",
       "      <td>0.001071</td>\n",
       "      <td>0.003145</td>\n",
       "      <td>0.004561</td>\n",
       "      <td>0.001463</td>\n",
       "      <td>0.000353</td>\n",
       "      <td>0.001162</td>\n",
       "      <td>0.001913</td>\n",
       "      <td>0.000386</td>\n",
       "      <td>0.001377</td>\n",
       "    </tr>\n",
       "    <tr>\n",
       "      <th>7</th>\n",
       "      <td>id_0071d65a2</td>\n",
       "      <td>0.000356</td>\n",
       "      <td>0.000505</td>\n",
       "      <td>0.000645</td>\n",
       "      <td>0.001540</td>\n",
       "      <td>0.003591</td>\n",
       "      <td>0.001485</td>\n",
       "      <td>0.000282</td>\n",
       "      <td>0.006066</td>\n",
       "      <td>0.000047</td>\n",
       "      <td>...</td>\n",
       "      <td>0.000159</td>\n",
       "      <td>0.000197</td>\n",
       "      <td>0.001577</td>\n",
       "      <td>0.001232</td>\n",
       "      <td>0.000544</td>\n",
       "      <td>0.000131</td>\n",
       "      <td>0.003023</td>\n",
       "      <td>0.000335</td>\n",
       "      <td>0.000467</td>\n",
       "      <td>0.000394</td>\n",
       "    </tr>\n",
       "    <tr>\n",
       "      <th>8</th>\n",
       "      <td>id_007a2159c</td>\n",
       "      <td>0.000531</td>\n",
       "      <td>0.000807</td>\n",
       "      <td>0.001375</td>\n",
       "      <td>0.006732</td>\n",
       "      <td>0.007536</td>\n",
       "      <td>0.002120</td>\n",
       "      <td>0.001688</td>\n",
       "      <td>0.010355</td>\n",
       "      <td>0.000261</td>\n",
       "      <td>...</td>\n",
       "      <td>0.000454</td>\n",
       "      <td>0.001368</td>\n",
       "      <td>0.002450</td>\n",
       "      <td>0.002787</td>\n",
       "      <td>0.001256</td>\n",
       "      <td>0.000463</td>\n",
       "      <td>0.001868</td>\n",
       "      <td>0.001190</td>\n",
       "      <td>0.000650</td>\n",
       "      <td>0.000568</td>\n",
       "    </tr>\n",
       "    <tr>\n",
       "      <th>9</th>\n",
       "      <td>id_009201382</td>\n",
       "      <td>0.000810</td>\n",
       "      <td>0.000909</td>\n",
       "      <td>0.001002</td>\n",
       "      <td>0.007002</td>\n",
       "      <td>0.008929</td>\n",
       "      <td>0.004416</td>\n",
       "      <td>0.004820</td>\n",
       "      <td>0.009433</td>\n",
       "      <td>0.000702</td>\n",
       "      <td>...</td>\n",
       "      <td>0.000505</td>\n",
       "      <td>0.001246</td>\n",
       "      <td>0.002153</td>\n",
       "      <td>0.002701</td>\n",
       "      <td>0.007566</td>\n",
       "      <td>0.000419</td>\n",
       "      <td>0.006189</td>\n",
       "      <td>0.001658</td>\n",
       "      <td>0.000583</td>\n",
       "      <td>0.002236</td>\n",
       "    </tr>\n",
       "  </tbody>\n",
       "</table>\n",
       "<p>10 rows × 207 columns</p>\n",
       "</div>"
      ],
      "text/plain": [
       "         sig_id  5-alpha_reductase_inhibitor  11-beta-hsd1_inhibitor  \\\n",
       "0  id_0004d9e33                     0.000599                0.000752   \n",
       "1  id_001897cda                     0.000343                0.000599   \n",
       "2  id_002429b5b                     0.000000                0.000000   \n",
       "3  id_00276f245                     0.000635                0.000697   \n",
       "4  id_0027f1083                     0.001403                0.001150   \n",
       "5  id_0042c1364                     0.000000                0.000000   \n",
       "6  id_006fc47b8                     0.000549                0.000550   \n",
       "7  id_0071d65a2                     0.000356                0.000505   \n",
       "8  id_007a2159c                     0.000531                0.000807   \n",
       "9  id_009201382                     0.000810                0.000909   \n",
       "\n",
       "   acat_inhibitor  acetylcholine_receptor_agonist  \\\n",
       "0        0.002410                        0.015671   \n",
       "1        0.001304                        0.002373   \n",
       "2        0.000000                        0.000000   \n",
       "3        0.001673                        0.013418   \n",
       "4        0.001496                        0.016480   \n",
       "5        0.000000                        0.000000   \n",
       "6        0.001777                        0.022360   \n",
       "7        0.000645                        0.001540   \n",
       "8        0.001375                        0.006732   \n",
       "9        0.001002                        0.007002   \n",
       "\n",
       "   acetylcholine_receptor_antagonist  acetylcholinesterase_inhibitor  \\\n",
       "0                           0.019666                        0.003828   \n",
       "1                           0.002125                        0.001508   \n",
       "2                           0.000000                        0.000000   \n",
       "3                           0.016141                        0.003909   \n",
       "4                           0.020921                        0.004328   \n",
       "5                           0.000000                        0.000000   \n",
       "6                           0.022616                        0.003585   \n",
       "7                           0.003591                        0.001485   \n",
       "8                           0.007536                        0.002120   \n",
       "9                           0.008929                        0.004416   \n",
       "\n",
       "   adenosine_receptor_agonist  adenosine_receptor_antagonist  \\\n",
       "0                    0.002227                       0.006960   \n",
       "1                    0.004046                       0.006565   \n",
       "2                    0.000000                       0.000000   \n",
       "3                    0.003596                       0.004501   \n",
       "4                    0.004023                       0.002460   \n",
       "5                    0.000000                       0.000000   \n",
       "6                    0.004344                       0.002179   \n",
       "7                    0.000282                       0.006066   \n",
       "8                    0.001688                       0.010355   \n",
       "9                    0.004820                       0.009433   \n",
       "\n",
       "   adenylyl_cyclase_activator  ...  tropomyosin_receptor_kinase_inhibitor  \\\n",
       "0                    0.000284  ...                               0.000942   \n",
       "1                    0.002657  ...                               0.000566   \n",
       "2                    0.000000  ...                               0.000000   \n",
       "3                    0.000398  ...                               0.000602   \n",
       "4                    0.000390  ...                               0.000696   \n",
       "5                    0.000000  ...                               0.000000   \n",
       "6                    0.000347  ...                               0.000825   \n",
       "7                    0.000047  ...                               0.000159   \n",
       "8                    0.000261  ...                               0.000454   \n",
       "9                    0.000702  ...                               0.000505   \n",
       "\n",
       "   trpv_agonist  trpv_antagonist  tubulin_inhibitor  \\\n",
       "0      0.001361         0.003675           0.001655   \n",
       "1      0.000916         0.002705           0.000582   \n",
       "2      0.000000         0.000000           0.000000   \n",
       "3      0.001380         0.002357           0.016427   \n",
       "4      0.000617         0.003290           0.001747   \n",
       "5      0.000000         0.000000           0.000000   \n",
       "6      0.001071         0.003145           0.004561   \n",
       "7      0.000197         0.001577           0.001232   \n",
       "8      0.001368         0.002450           0.002787   \n",
       "9      0.001246         0.002153           0.002701   \n",
       "\n",
       "   tyrosine_kinase_inhibitor  ubiquitin_specific_protease_inhibitor  \\\n",
       "0                   0.000951                               0.000428   \n",
       "1                   0.011588                               0.000302   \n",
       "2                   0.000000                               0.000000   \n",
       "3                   0.006405                               0.000415   \n",
       "4                   0.001438                               0.000488   \n",
       "5                   0.000000                               0.000000   \n",
       "6                   0.001463                               0.000353   \n",
       "7                   0.000544                               0.000131   \n",
       "8                   0.001256                               0.000463   \n",
       "9                   0.007566                               0.000419   \n",
       "\n",
       "   vegfr_inhibitor  vitamin_b  vitamin_d_receptor_agonist  wnt_inhibitor  \n",
       "0         0.001274   0.001959                    0.003688       0.001424  \n",
       "1         0.022500   0.000810                    0.001007       0.002054  \n",
       "2         0.000000   0.000000                    0.000000       0.000000  \n",
       "3         0.002479   0.001922                    0.000701       0.001939  \n",
       "4         0.002021   0.001644                    0.000534       0.001842  \n",
       "5         0.000000   0.000000                    0.000000       0.000000  \n",
       "6         0.001162   0.001913                    0.000386       0.001377  \n",
       "7         0.003023   0.000335                    0.000467       0.000394  \n",
       "8         0.001868   0.001190                    0.000650       0.000568  \n",
       "9         0.006189   0.001658                    0.000583       0.002236  \n",
       "\n",
       "[10 rows x 207 columns]"
      ]
     },
     "execution_count": 23,
     "metadata": {},
     "output_type": "execute_result"
    }
   ],
   "source": [
    "sub.head(10)"
   ]
  }
 ],
 "metadata": {
  "kernelspec": {
   "display_name": "Python 3",
   "language": "python",
   "name": "python3"
  },
  "language_info": {
   "codemirror_mode": {
    "name": "ipython",
    "version": 3
   },
   "file_extension": ".py",
   "mimetype": "text/x-python",
   "name": "python",
   "nbconvert_exporter": "python",
   "pygments_lexer": "ipython3",
   "version": "3.7.6"
  },
  "papermill": {
   "duration": 60.450785,
   "end_time": "2020-11-18T06:26:58.343225",
   "environment_variables": {},
   "exception": null,
   "input_path": "__notebook__.ipynb",
   "output_path": "__notebook__.ipynb",
   "parameters": {},
   "start_time": "2020-11-18T06:25:57.892440",
   "version": "2.1.0"
  }
 },
 "nbformat": 4,
 "nbformat_minor": 4
}
