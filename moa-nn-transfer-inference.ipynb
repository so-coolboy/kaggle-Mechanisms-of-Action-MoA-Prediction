{
 "cells": [
  {
   "cell_type": "code",
   "execution_count": 1,
   "metadata": {
    "execution": {
     "iopub.execute_input": "2020-11-22T14:43:49.470137Z",
     "iopub.status.busy": "2020-11-22T14:43:49.469257Z",
     "iopub.status.idle": "2020-11-22T14:43:50.412721Z",
     "shell.execute_reply": "2020-11-22T14:43:50.411967Z"
    },
    "papermill": {
     "duration": 0.980626,
     "end_time": "2020-11-22T14:43:50.412857",
     "exception": false,
     "start_time": "2020-11-22T14:43:49.432231",
     "status": "completed"
    },
    "tags": []
   },
   "outputs": [],
   "source": [
    "import sys\n",
    "sys.path.append('../input/iterativestratification')\n",
    "from iterstrat.ml_stratifiers import MultilabelStratifiedKFold"
   ]
  },
  {
   "cell_type": "code",
   "execution_count": 2,
   "metadata": {
    "_cell_guid": "79c7e3d0-c299-4dcb-8224-4455121ee9b0",
    "_kg_hide-input": true,
    "_uuid": "d629ff2d2480ee46fbb7e2d37f6b5fab8052498a",
    "execution": {
     "iopub.execute_input": "2020-11-22T14:43:50.472009Z",
     "iopub.status.busy": "2020-11-22T14:43:50.471358Z",
     "iopub.status.idle": "2020-11-22T14:43:51.613738Z",
     "shell.execute_reply": "2020-11-22T14:43:51.612991Z"
    },
    "executionInfo": {
     "elapsed": 6322,
     "status": "ok",
     "timestamp": 1605114236516,
     "user": {
      "displayName": "Vladimir Zhuravlev",
      "photoUrl": "",
      "userId": "16372324542816680996"
     },
     "user_tz": -420
    },
    "id": "pfi5SZ_kU50f",
    "outputId": "adaffd70-a7f7-49e6-ee61-20961c80c5d4",
    "papermill": {
     "duration": 1.174006,
     "end_time": "2020-11-22T14:43:51.613867",
     "exception": false,
     "start_time": "2020-11-22T14:43:50.439861",
     "status": "completed"
    },
    "tags": []
   },
   "outputs": [],
   "source": [
    "import numpy as np\n",
    "import random\n",
    "import pandas as pd\n",
    "import matplotlib.pyplot as plt\n",
    "import os\n",
    "import copy\n",
    "import seaborn as sns\n",
    " \n",
    "from sklearn import preprocessing\n",
    "from sklearn.metrics import log_loss\n",
    "from sklearn.preprocessing import StandardScaler\n",
    "from sklearn.preprocessing import QuantileTransformer\n",
    "from sklearn.decomposition import PCA\n",
    " \n",
    "import torch\n",
    "import torch.nn as nn\n",
    "import torch.nn.functional as F\n",
    "import torch.optim as optim\n",
    " \n",
    "import warnings\n",
    "warnings.filterwarnings('ignore')"
   ]
  },
  {
   "cell_type": "code",
   "execution_count": 3,
   "metadata": {
    "_kg_hide-input": true,
    "execution": {
     "iopub.execute_input": "2020-11-22T14:43:51.675167Z",
     "iopub.status.busy": "2020-11-22T14:43:51.673830Z",
     "iopub.status.idle": "2020-11-22T14:43:57.180083Z",
     "shell.execute_reply": "2020-11-22T14:43:57.181014Z"
    },
    "id": "m7vLwXCDU50r",
    "papermill": {
     "duration": 5.540737,
     "end_time": "2020-11-22T14:43:57.181256",
     "exception": false,
     "start_time": "2020-11-22T14:43:51.640519",
     "status": "completed"
    },
    "tags": []
   },
   "outputs": [
    {
     "name": "stdout",
     "output_type": "stream",
     "text": [
      "train_features: (23814, 876)\n",
      "train_targets_scored: (23814, 207)\n",
      "train_targets_nonscored: (23814, 403)\n",
      "train_drug: (23814, 2)\n",
      "test_features: (3982, 876)\n",
      "sample_submission: (3982, 207)\n"
     ]
    }
   ],
   "source": [
    "data_dir = '../input/lish-moa/'\n",
    "train_features = pd.read_csv(data_dir + 'train_features.csv')\n",
    "train_targets_scored = pd.read_csv(data_dir + 'train_targets_scored.csv')\n",
    "train_targets_nonscored = pd.read_csv(data_dir + 'train_targets_nonscored.csv')\n",
    "train_drug = pd.read_csv(data_dir + 'train_drug.csv')\n",
    "test_features = pd.read_csv(data_dir + 'test_features.csv')\n",
    "sample_submission = pd.read_csv(data_dir + 'sample_submission.csv')\n",
    "\n",
    "print('train_features: {}'.format(train_features.shape))\n",
    "print('train_targets_scored: {}'.format(train_targets_scored.shape))\n",
    "print('train_targets_nonscored: {}'.format(train_targets_nonscored.shape))\n",
    "print('train_drug: {}'.format(train_drug.shape))\n",
    "print('test_features: {}'.format(test_features.shape))\n",
    "print('sample_submission: {}'.format(sample_submission.shape))"
   ]
  },
  {
   "cell_type": "code",
   "execution_count": 4,
   "metadata": {
    "execution": {
     "iopub.execute_input": "2020-11-22T14:43:57.238817Z",
     "iopub.status.busy": "2020-11-22T14:43:57.237916Z",
     "iopub.status.idle": "2020-11-22T14:43:57.240276Z",
     "shell.execute_reply": "2020-11-22T14:43:57.240753Z"
    },
    "id": "YbP28luJU50t",
    "papermill": {
     "duration": 0.033706,
     "end_time": "2020-11-22T14:43:57.240902",
     "exception": false,
     "start_time": "2020-11-22T14:43:57.207196",
     "status": "completed"
    },
    "tags": []
   },
   "outputs": [],
   "source": [
    "GENES = [col for col in train_features.columns if col.startswith('g-')]\n",
    "CELLS = [col for col in train_features.columns if col.startswith('c-')]"
   ]
  },
  {
   "cell_type": "markdown",
   "metadata": {
    "id": "-gsULXIEVs1V",
    "papermill": {
     "duration": 0.02424,
     "end_time": "2020-11-22T14:43:57.291786",
     "exception": false,
     "start_time": "2020-11-22T14:43:57.267546",
     "status": "completed"
    },
    "tags": []
   },
   "source": [
    "# RankGauss"
   ]
  },
  {
   "cell_type": "code",
   "execution_count": 5,
   "metadata": {
    "execution": {
     "iopub.execute_input": "2020-11-22T14:43:57.349459Z",
     "iopub.status.busy": "2020-11-22T14:43:57.348727Z",
     "iopub.status.idle": "2020-11-22T14:44:06.284441Z",
     "shell.execute_reply": "2020-11-22T14:44:06.283859Z"
    },
    "id": "XmZk8BSxU509",
    "papermill": {
     "duration": 8.968338,
     "end_time": "2020-11-22T14:44:06.284573",
     "exception": false,
     "start_time": "2020-11-22T14:43:57.316235",
     "status": "completed"
    },
    "tags": []
   },
   "outputs": [],
   "source": [
    "for col in (GENES + CELLS):\n",
    "    transformer = QuantileTransformer(n_quantiles=90,random_state=0, output_distribution=\"normal\")\n",
    "    vec_len = len(train_features[col].values)\n",
    "    vec_len_test = len(test_features[col].values)\n",
    "    raw_vec = train_features[col].values.reshape(vec_len, 1)\n",
    "    transformer.fit(raw_vec)\n",
    "\n",
    "    train_features[col] = transformer.transform(raw_vec).reshape(1, vec_len)[0]\n",
    "    test_features[col] = transformer.transform(test_features[col].values.reshape(vec_len_test, 1)).reshape(1, vec_len_test)[0]"
   ]
  },
  {
   "cell_type": "code",
   "execution_count": 6,
   "metadata": {
    "execution": {
     "iopub.execute_input": "2020-11-22T14:44:06.339326Z",
     "iopub.status.busy": "2020-11-22T14:44:06.338634Z",
     "iopub.status.idle": "2020-11-22T14:44:06.345194Z",
     "shell.execute_reply": "2020-11-22T14:44:06.344371Z"
    },
    "id": "6J2XxF2lU51A",
    "papermill": {
     "duration": 0.036716,
     "end_time": "2020-11-22T14:44:06.345329",
     "exception": false,
     "start_time": "2020-11-22T14:44:06.308613",
     "status": "completed"
    },
    "tags": []
   },
   "outputs": [],
   "source": [
    "SEED_VALUE = 42\n",
    "\n",
    "def seed_everything(seed=42):\n",
    "    random.seed(seed)\n",
    "    os.environ['PYTHONHASHSEED'] = str(seed)\n",
    "    np.random.seed(seed)\n",
    "    torch.manual_seed(seed)\n",
    "    torch.cuda.manual_seed(seed)\n",
    "    torch.backends.cudnn.deterministic = True\n",
    "    \n",
    "seed_everything(seed=SEED_VALUE)"
   ]
  },
  {
   "cell_type": "code",
   "execution_count": 7,
   "metadata": {
    "execution": {
     "iopub.execute_input": "2020-11-22T14:44:06.402994Z",
     "iopub.status.busy": "2020-11-22T14:44:06.402339Z",
     "iopub.status.idle": "2020-11-22T14:44:07.105602Z",
     "shell.execute_reply": "2020-11-22T14:44:07.105035Z"
    },
    "executionInfo": {
     "elapsed": 121315,
     "status": "ok",
     "timestamp": 1605114351712,
     "user": {
      "displayName": "Vladimir Zhuravlev",
      "photoUrl": "",
      "userId": "16372324542816680996"
     },
     "user_tz": -420
    },
    "id": "ri4YPSgxU51X",
    "outputId": "7a1f41b1-5c9f-4f2f-af02-d98dc5f63823",
    "papermill": {
     "duration": 0.736313,
     "end_time": "2020-11-22T14:44:07.105717",
     "exception": false,
     "start_time": "2020-11-22T14:44:06.369404",
     "status": "completed"
    },
    "tags": []
   },
   "outputs": [
    {
     "name": "stdout",
     "output_type": "stream",
     "text": [
      "train_features: (23814, 876)\n",
      "test_features: (3982, 876)\n"
     ]
    }
   ],
   "source": [
    "from sklearn.feature_selection import VarianceThreshold\n",
    "\n",
    "var_thresh = VarianceThreshold(0.8)\n",
    "data = train_features.append(test_features)\n",
    "data_transformed = var_thresh.fit_transform(data.iloc[:, 4:])\n",
    "\n",
    "train_features_transformed = data_transformed[ : train_features.shape[0]]\n",
    "test_features_transformed = data_transformed[-test_features.shape[0] : ]\n",
    "\n",
    "train_features = pd.DataFrame(train_features[['sig_id','cp_type','cp_time','cp_dose']].values.reshape(-1, 4),\\\n",
    "                              columns=['sig_id','cp_type','cp_time','cp_dose'])\n",
    "\n",
    "train_features = pd.concat([train_features, pd.DataFrame(train_features_transformed)], axis=1)\n",
    "\n",
    "test_features = pd.DataFrame(test_features[['sig_id','cp_type','cp_time','cp_dose']].values.reshape(-1, 4),\\\n",
    "                             columns=['sig_id','cp_type','cp_time','cp_dose'])\n",
    "\n",
    "test_features = pd.concat([test_features, pd.DataFrame(test_features_transformed)], axis=1)\n",
    "\n",
    "print('train_features: {}'.format(train_features.shape))\n",
    "print('test_features: {}'.format(test_features.shape))"
   ]
  },
  {
   "cell_type": "code",
   "execution_count": 8,
   "metadata": {
    "execution": {
     "iopub.execute_input": "2020-11-22T14:44:07.161497Z",
     "iopub.status.busy": "2020-11-22T14:44:07.160815Z",
     "iopub.status.idle": "2020-11-22T14:44:08.047237Z",
     "shell.execute_reply": "2020-11-22T14:44:08.046608Z"
    },
    "id": "0YYLua3IU51a",
    "papermill": {
     "duration": 0.917513,
     "end_time": "2020-11-22T14:44:08.047359",
     "exception": false,
     "start_time": "2020-11-22T14:44:07.129846",
     "status": "completed"
    },
    "tags": []
   },
   "outputs": [],
   "source": [
    "train = train_features.merge(train_targets_scored, on='sig_id')\n",
    "train = train.merge(train_targets_nonscored, on='sig_id')\n",
    "train = train.merge(train_drug, on='sig_id')\n",
    "train = train[train['cp_type'] != 'ctl_vehicle'].reset_index(drop=True)\n",
    "test = test_features[test_features['cp_type'] != 'ctl_vehicle'].reset_index(drop=True)"
   ]
  },
  {
   "cell_type": "code",
   "execution_count": 9,
   "metadata": {
    "execution": {
     "iopub.execute_input": "2020-11-22T14:44:08.186442Z",
     "iopub.status.busy": "2020-11-22T14:44:08.185747Z",
     "iopub.status.idle": "2020-11-22T14:44:08.195851Z",
     "shell.execute_reply": "2020-11-22T14:44:08.195213Z"
    },
    "id": "rBQk0po9U51c",
    "papermill": {
     "duration": 0.124167,
     "end_time": "2020-11-22T14:44:08.195965",
     "exception": false,
     "start_time": "2020-11-22T14:44:08.071798",
     "status": "completed"
    },
    "tags": []
   },
   "outputs": [],
   "source": [
    "train = train.drop('cp_type', axis=1)\n",
    "test = test.drop('cp_type', axis=1)"
   ]
  },
  {
   "cell_type": "code",
   "execution_count": 10,
   "metadata": {
    "execution": {
     "iopub.execute_input": "2020-11-22T14:44:08.261273Z",
     "iopub.status.busy": "2020-11-22T14:44:08.260544Z",
     "iopub.status.idle": "2020-11-22T14:44:08.275561Z",
     "shell.execute_reply": "2020-11-22T14:44:08.274913Z"
    },
    "executionInfo": {
     "elapsed": 122339,
     "status": "ok",
     "timestamp": 1605114352780,
     "user": {
      "displayName": "Vladimir Zhuravlev",
      "photoUrl": "",
      "userId": "16372324542816680996"
     },
     "user_tz": -420
    },
    "id": "E8O4-EsFU51e",
    "outputId": "ea888e7f-c7fe-4dca-fdaf-66606a0750ea",
    "papermill": {
     "duration": 0.05563,
     "end_time": "2020-11-22T14:44:08.275674",
     "exception": false,
     "start_time": "2020-11-22T14:44:08.220044",
     "status": "completed"
    },
    "tags": []
   },
   "outputs": [
    {
     "data": {
      "text/html": [
       "<div>\n",
       "<style scoped>\n",
       "    .dataframe tbody tr th:only-of-type {\n",
       "        vertical-align: middle;\n",
       "    }\n",
       "\n",
       "    .dataframe tbody tr th {\n",
       "        vertical-align: top;\n",
       "    }\n",
       "\n",
       "    .dataframe thead th {\n",
       "        text-align: right;\n",
       "    }\n",
       "</style>\n",
       "<table border=\"1\" class=\"dataframe\">\n",
       "  <thead>\n",
       "    <tr style=\"text-align: right;\">\n",
       "      <th></th>\n",
       "      <th>sig_id</th>\n",
       "      <th>cp_time</th>\n",
       "      <th>cp_dose</th>\n",
       "      <th>0</th>\n",
       "      <th>1</th>\n",
       "      <th>2</th>\n",
       "      <th>3</th>\n",
       "      <th>4</th>\n",
       "      <th>5</th>\n",
       "      <th>6</th>\n",
       "      <th>...</th>\n",
       "      <th>vesicular_monoamine_transporter_inhibitor</th>\n",
       "      <th>vitamin_k_antagonist</th>\n",
       "      <th>voltage-gated_calcium_channel_ligand</th>\n",
       "      <th>voltage-gated_potassium_channel_activator</th>\n",
       "      <th>voltage-gated_sodium_channel_blocker</th>\n",
       "      <th>wdr5_mll_interaction_inhibitor</th>\n",
       "      <th>wnt_agonist</th>\n",
       "      <th>xanthine_oxidase_inhibitor</th>\n",
       "      <th>xiap_inhibitor</th>\n",
       "      <th>drug_id</th>\n",
       "    </tr>\n",
       "  </thead>\n",
       "  <tbody>\n",
       "    <tr>\n",
       "      <th>0</th>\n",
       "      <td>id_000644bb2</td>\n",
       "      <td>24</td>\n",
       "      <td>D1</td>\n",
       "      <td>1.132788</td>\n",
       "      <td>0.907548</td>\n",
       "      <td>-0.416050</td>\n",
       "      <td>-0.967089</td>\n",
       "      <td>-0.254410</td>\n",
       "      <td>-1.015146</td>\n",
       "      <td>-1.363734</td>\n",
       "      <td>...</td>\n",
       "      <td>0</td>\n",
       "      <td>0</td>\n",
       "      <td>0</td>\n",
       "      <td>0</td>\n",
       "      <td>0</td>\n",
       "      <td>0</td>\n",
       "      <td>0</td>\n",
       "      <td>0</td>\n",
       "      <td>0</td>\n",
       "      <td>b68db1d53</td>\n",
       "    </tr>\n",
       "    <tr>\n",
       "      <th>1</th>\n",
       "      <td>id_000779bfc</td>\n",
       "      <td>72</td>\n",
       "      <td>D1</td>\n",
       "      <td>0.119063</td>\n",
       "      <td>0.682358</td>\n",
       "      <td>0.271718</td>\n",
       "      <td>0.080281</td>\n",
       "      <td>1.204376</td>\n",
       "      <td>0.686931</td>\n",
       "      <td>0.313801</td>\n",
       "      <td>...</td>\n",
       "      <td>0</td>\n",
       "      <td>0</td>\n",
       "      <td>0</td>\n",
       "      <td>0</td>\n",
       "      <td>0</td>\n",
       "      <td>0</td>\n",
       "      <td>0</td>\n",
       "      <td>0</td>\n",
       "      <td>0</td>\n",
       "      <td>df89a8e5a</td>\n",
       "    </tr>\n",
       "    <tr>\n",
       "      <th>2</th>\n",
       "      <td>id_000a6266a</td>\n",
       "      <td>48</td>\n",
       "      <td>D1</td>\n",
       "      <td>0.780347</td>\n",
       "      <td>0.944337</td>\n",
       "      <td>1.422423</td>\n",
       "      <td>-0.132043</td>\n",
       "      <td>-0.006323</td>\n",
       "      <td>1.490144</td>\n",
       "      <td>0.235953</td>\n",
       "      <td>...</td>\n",
       "      <td>0</td>\n",
       "      <td>0</td>\n",
       "      <td>0</td>\n",
       "      <td>0</td>\n",
       "      <td>0</td>\n",
       "      <td>0</td>\n",
       "      <td>0</td>\n",
       "      <td>0</td>\n",
       "      <td>0</td>\n",
       "      <td>18bb41b2c</td>\n",
       "    </tr>\n",
       "    <tr>\n",
       "      <th>3</th>\n",
       "      <td>id_0015fd391</td>\n",
       "      <td>48</td>\n",
       "      <td>D1</td>\n",
       "      <td>-0.735318</td>\n",
       "      <td>-0.274187</td>\n",
       "      <td>-0.438074</td>\n",
       "      <td>0.758942</td>\n",
       "      <td>2.314893</td>\n",
       "      <td>-0.858657</td>\n",
       "      <td>-2.284023</td>\n",
       "      <td>...</td>\n",
       "      <td>0</td>\n",
       "      <td>0</td>\n",
       "      <td>0</td>\n",
       "      <td>0</td>\n",
       "      <td>0</td>\n",
       "      <td>0</td>\n",
       "      <td>0</td>\n",
       "      <td>0</td>\n",
       "      <td>0</td>\n",
       "      <td>8c7f86626</td>\n",
       "    </tr>\n",
       "    <tr>\n",
       "      <th>4</th>\n",
       "      <td>id_001626bd3</td>\n",
       "      <td>72</td>\n",
       "      <td>D2</td>\n",
       "      <td>-0.452487</td>\n",
       "      <td>-0.477450</td>\n",
       "      <td>0.971451</td>\n",
       "      <td>0.970464</td>\n",
       "      <td>1.464205</td>\n",
       "      <td>-0.870316</td>\n",
       "      <td>-0.375925</td>\n",
       "      <td>...</td>\n",
       "      <td>0</td>\n",
       "      <td>0</td>\n",
       "      <td>0</td>\n",
       "      <td>0</td>\n",
       "      <td>0</td>\n",
       "      <td>0</td>\n",
       "      <td>0</td>\n",
       "      <td>0</td>\n",
       "      <td>0</td>\n",
       "      <td>7cbed3131</td>\n",
       "    </tr>\n",
       "  </tbody>\n",
       "</table>\n",
       "<p>5 rows × 1484 columns</p>\n",
       "</div>"
      ],
      "text/plain": [
       "         sig_id cp_time cp_dose         0         1         2         3  \\\n",
       "0  id_000644bb2      24      D1  1.132788  0.907548 -0.416050 -0.967089   \n",
       "1  id_000779bfc      72      D1  0.119063  0.682358  0.271718  0.080281   \n",
       "2  id_000a6266a      48      D1  0.780347  0.944337  1.422423 -0.132043   \n",
       "3  id_0015fd391      48      D1 -0.735318 -0.274187 -0.438074  0.758942   \n",
       "4  id_001626bd3      72      D2 -0.452487 -0.477450  0.971451  0.970464   \n",
       "\n",
       "          4         5         6  ...  \\\n",
       "0 -0.254410 -1.015146 -1.363734  ...   \n",
       "1  1.204376  0.686931  0.313801  ...   \n",
       "2 -0.006323  1.490144  0.235953  ...   \n",
       "3  2.314893 -0.858657 -2.284023  ...   \n",
       "4  1.464205 -0.870316 -0.375925  ...   \n",
       "\n",
       "   vesicular_monoamine_transporter_inhibitor  vitamin_k_antagonist  \\\n",
       "0                                          0                     0   \n",
       "1                                          0                     0   \n",
       "2                                          0                     0   \n",
       "3                                          0                     0   \n",
       "4                                          0                     0   \n",
       "\n",
       "   voltage-gated_calcium_channel_ligand  \\\n",
       "0                                     0   \n",
       "1                                     0   \n",
       "2                                     0   \n",
       "3                                     0   \n",
       "4                                     0   \n",
       "\n",
       "   voltage-gated_potassium_channel_activator  \\\n",
       "0                                          0   \n",
       "1                                          0   \n",
       "2                                          0   \n",
       "3                                          0   \n",
       "4                                          0   \n",
       "\n",
       "   voltage-gated_sodium_channel_blocker  wdr5_mll_interaction_inhibitor  \\\n",
       "0                                     0                               0   \n",
       "1                                     0                               0   \n",
       "2                                     0                               0   \n",
       "3                                     0                               0   \n",
       "4                                     0                               0   \n",
       "\n",
       "   wnt_agonist  xanthine_oxidase_inhibitor  xiap_inhibitor    drug_id  \n",
       "0            0                           0               0  b68db1d53  \n",
       "1            0                           0               0  df89a8e5a  \n",
       "2            0                           0               0  18bb41b2c  \n",
       "3            0                           0               0  8c7f86626  \n",
       "4            0                           0               0  7cbed3131  \n",
       "\n",
       "[5 rows x 1484 columns]"
      ]
     },
     "execution_count": 10,
     "metadata": {},
     "output_type": "execute_result"
    }
   ],
   "source": [
    "train.head()"
   ]
  },
  {
   "cell_type": "code",
   "execution_count": 11,
   "metadata": {
    "execution": {
     "iopub.execute_input": "2020-11-22T14:44:08.334690Z",
     "iopub.status.busy": "2020-11-22T14:44:08.333986Z",
     "iopub.status.idle": "2020-11-22T14:44:08.336699Z",
     "shell.execute_reply": "2020-11-22T14:44:08.337417Z"
    },
    "executionInfo": {
     "elapsed": 122330,
     "status": "ok",
     "timestamp": 1605114352785,
     "user": {
      "displayName": "Vladimir Zhuravlev",
      "photoUrl": "",
      "userId": "16372324542816680996"
     },
     "user_tz": -420
    },
    "id": "S4hXidfQU51h",
    "outputId": "f1b594f9-0c92-41c1-f88d-cfe75628b7ef",
    "papermill": {
     "duration": 0.035852,
     "end_time": "2020-11-22T14:44:08.337606",
     "exception": false,
     "start_time": "2020-11-22T14:44:08.301754",
     "status": "completed"
    },
    "tags": []
   },
   "outputs": [
    {
     "name": "stdout",
     "output_type": "stream",
     "text": [
      "num_targets: 206\n",
      "num_aux_targets: 402\n",
      "num_all_targets: 608\n"
     ]
    }
   ],
   "source": [
    "target_cols = [x for x in train_targets_scored.columns if x != 'sig_id']\n",
    "aux_target_cols = [x for x in train_targets_nonscored.columns if x != 'sig_id']\n",
    "all_target_cols = target_cols + aux_target_cols\n",
    "\n",
    "num_targets = len(target_cols)\n",
    "num_aux_targets = len(aux_target_cols)\n",
    "num_all_targets = len(all_target_cols)\n",
    "\n",
    "print('num_targets: {}'.format(num_targets))\n",
    "print('num_aux_targets: {}'.format(num_aux_targets))\n",
    "print('num_all_targets: {}'.format(num_all_targets))"
   ]
  },
  {
   "cell_type": "code",
   "execution_count": 12,
   "metadata": {
    "execution": {
     "iopub.execute_input": "2020-11-22T14:44:08.394846Z",
     "iopub.status.busy": "2020-11-22T14:44:08.394217Z",
     "iopub.status.idle": "2020-11-22T14:44:08.397659Z",
     "shell.execute_reply": "2020-11-22T14:44:08.397045Z"
    },
    "executionInfo": {
     "elapsed": 125156,
     "status": "ok",
     "timestamp": 1605114355642,
     "user": {
      "displayName": "Vladimir Zhuravlev",
      "photoUrl": "",
      "userId": "16372324542816680996"
     },
     "user_tz": -420
    },
    "id": "xikvp4WLU51m",
    "outputId": "96a60f5d-6af6-4f99-e753-17f63406623d",
    "papermill": {
     "duration": 0.033349,
     "end_time": "2020-11-22T14:44:08.397775",
     "exception": false,
     "start_time": "2020-11-22T14:44:08.364426",
     "status": "completed"
    },
    "tags": []
   },
   "outputs": [
    {
     "name": "stdout",
     "output_type": "stream",
     "text": [
      "(21948, 1484)\n",
      "(3624, 875)\n",
      "(3982, 207)\n"
     ]
    }
   ],
   "source": [
    "print(train.shape)\n",
    "print(test.shape)\n",
    "print(sample_submission.shape)"
   ]
  },
  {
   "cell_type": "markdown",
   "metadata": {
    "id": "-4PxBYMVU51p",
    "papermill": {
     "duration": 0.024897,
     "end_time": "2020-11-22T14:44:08.447942",
     "exception": false,
     "start_time": "2020-11-22T14:44:08.423045",
     "status": "completed"
    },
    "tags": []
   },
   "source": [
    "# Dataset Classes"
   ]
  },
  {
   "cell_type": "code",
   "execution_count": 13,
   "metadata": {
    "execution": {
     "iopub.execute_input": "2020-11-22T14:44:08.508356Z",
     "iopub.status.busy": "2020-11-22T14:44:08.507513Z",
     "iopub.status.idle": "2020-11-22T14:44:08.510729Z",
     "shell.execute_reply": "2020-11-22T14:44:08.510138Z"
    },
    "id": "Oe4Fyj0rU51q",
    "papermill": {
     "duration": 0.037765,
     "end_time": "2020-11-22T14:44:08.510838",
     "exception": false,
     "start_time": "2020-11-22T14:44:08.473073",
     "status": "completed"
    },
    "tags": []
   },
   "outputs": [],
   "source": [
    "class MoADataset:\n",
    "    def __init__(self, features, targets):\n",
    "        self.features = features\n",
    "        self.targets = targets\n",
    "        \n",
    "    def __len__(self):\n",
    "        return (self.features.shape[0])\n",
    "    \n",
    "    def __getitem__(self, idx):\n",
    "        dct = {\n",
    "            'x' : torch.tensor(self.features[idx, :], dtype=torch.float),\n",
    "            'y' : torch.tensor(self.targets[idx, :], dtype=torch.float)\n",
    "        }\n",
    "        \n",
    "        return dct\n",
    "    \n",
    "class TestDataset:\n",
    "    def __init__(self, features):\n",
    "        self.features = features\n",
    "        \n",
    "    def __len__(self):\n",
    "        return (self.features.shape[0])\n",
    "    \n",
    "    def __getitem__(self, idx):\n",
    "        dct = {\n",
    "            'x' : torch.tensor(self.features[idx, :], dtype=torch.float)\n",
    "        }\n",
    "\n",
    "        return dct"
   ]
  },
  {
   "cell_type": "code",
   "execution_count": 14,
   "metadata": {
    "execution": {
     "iopub.execute_input": "2020-11-22T14:44:08.575574Z",
     "iopub.status.busy": "2020-11-22T14:44:08.574859Z",
     "iopub.status.idle": "2020-11-22T14:44:08.577894Z",
     "shell.execute_reply": "2020-11-22T14:44:08.577252Z"
    },
    "id": "tIvXQTmIU51s",
    "papermill": {
     "duration": 0.04159,
     "end_time": "2020-11-22T14:44:08.578007",
     "exception": false,
     "start_time": "2020-11-22T14:44:08.536417",
     "status": "completed"
    },
    "tags": []
   },
   "outputs": [],
   "source": [
    "def train_fn(model, optimizer, scheduler, loss_fn, dataloader, device):\n",
    "    model.train()\n",
    "    final_loss = 0\n",
    "    \n",
    "    for data in dataloader:\n",
    "        optimizer.zero_grad()\n",
    "        inputs, targets = data['x'].to(device), data['y'].to(device)\n",
    "        outputs = model(inputs)\n",
    "        loss = loss_fn(outputs, targets)\n",
    "        loss.backward()\n",
    "        optimizer.step()\n",
    "        scheduler.step()\n",
    "\n",
    "        final_loss += loss.item()\n",
    "        \n",
    "    final_loss /= len(dataloader)\n",
    "    return final_loss\n",
    "\n",
    "def valid_fn(model, loss_fn, dataloader, device):\n",
    "    model.eval()\n",
    "    final_loss = 0\n",
    "    valid_preds = []\n",
    "    \n",
    "    for data in dataloader:\n",
    "        inputs, targets = data['x'].to(device), data['y'].to(device)\n",
    "        outputs = model(inputs)\n",
    "        loss = loss_fn(outputs, targets)\n",
    "\n",
    "        final_loss += loss.item()\n",
    "        valid_preds.append(outputs.sigmoid().detach().cpu().numpy())\n",
    "        \n",
    "    final_loss /= len(dataloader)\n",
    "    valid_preds = np.concatenate(valid_preds)\n",
    "    return final_loss, valid_preds\n",
    "\n",
    "def inference_fn(model, dataloader, device):\n",
    "    model.eval()\n",
    "    preds = []\n",
    "    \n",
    "    for data in dataloader:\n",
    "        inputs = data['x'].to(device)\n",
    "\n",
    "        with torch.no_grad():\n",
    "            outputs = model(inputs)\n",
    "        \n",
    "        preds.append(outputs.sigmoid().detach().cpu().numpy())\n",
    "        \n",
    "    preds = np.concatenate(preds)\n",
    "    return preds"
   ]
  },
  {
   "cell_type": "code",
   "execution_count": 15,
   "metadata": {
    "execution": {
     "iopub.execute_input": "2020-11-22T14:44:08.638907Z",
     "iopub.status.busy": "2020-11-22T14:44:08.638275Z",
     "iopub.status.idle": "2020-11-22T14:44:08.641468Z",
     "shell.execute_reply": "2020-11-22T14:44:08.640930Z"
    },
    "id": "xEI0c6n2U51u",
    "papermill": {
     "duration": 0.038202,
     "end_time": "2020-11-22T14:44:08.641579",
     "exception": false,
     "start_time": "2020-11-22T14:44:08.603377",
     "status": "completed"
    },
    "tags": []
   },
   "outputs": [],
   "source": [
    "import torch\n",
    "from torch.nn.modules.loss import _WeightedLoss\n",
    "import torch.nn.functional as F\n",
    "\n",
    "class SmoothBCEwLogits(_WeightedLoss):\n",
    "    def __init__(self, weight=None, reduction='mean', smoothing=0.0):\n",
    "        super().__init__(weight=weight, reduction=reduction)\n",
    "        self.smoothing = smoothing\n",
    "        self.weight = weight\n",
    "        self.reduction = reduction\n",
    "\n",
    "    @staticmethod\n",
    "    def _smooth(targets:torch.Tensor, n_labels:int, smoothing=0.0):\n",
    "        assert 0 <= smoothing < 1\n",
    "\n",
    "        with torch.no_grad():\n",
    "            targets = targets * (1.0 - smoothing) + 0.5 * smoothing\n",
    "            \n",
    "        return targets\n",
    "\n",
    "    def forward(self, inputs, targets):\n",
    "        targets = SmoothBCEwLogits._smooth(targets, inputs.size(-1),\n",
    "            self.smoothing)\n",
    "        loss = F.binary_cross_entropy_with_logits(inputs, targets,self.weight)\n",
    "\n",
    "        if  self.reduction == 'sum':\n",
    "            loss = loss.sum()\n",
    "        elif  self.reduction == 'mean':\n",
    "            loss = loss.mean()\n",
    "\n",
    "        return loss"
   ]
  },
  {
   "cell_type": "markdown",
   "metadata": {
    "id": "2YOmMelYU51x",
    "papermill": {
     "duration": 0.02487,
     "end_time": "2020-11-22T14:44:08.691636",
     "exception": false,
     "start_time": "2020-11-22T14:44:08.666766",
     "status": "completed"
    },
    "tags": []
   },
   "source": [
    "# Model"
   ]
  },
  {
   "cell_type": "code",
   "execution_count": 16,
   "metadata": {
    "execution": {
     "iopub.execute_input": "2020-11-22T14:44:08.762755Z",
     "iopub.status.busy": "2020-11-22T14:44:08.761785Z",
     "iopub.status.idle": "2020-11-22T14:44:08.764947Z",
     "shell.execute_reply": "2020-11-22T14:44:08.764468Z"
    },
    "id": "NuBU5W3lU51y",
    "papermill": {
     "duration": 0.0484,
     "end_time": "2020-11-22T14:44:08.765057",
     "exception": false,
     "start_time": "2020-11-22T14:44:08.716657",
     "status": "completed"
    },
    "tags": []
   },
   "outputs": [],
   "source": [
    "class Model(nn.Module):\n",
    "    def __init__(self, num_features, num_targets):\n",
    "        super(Model, self).__init__()\n",
    "        self.hidden_size = [1500, 1250, 1000, 750]\n",
    "        self.dropout_value = [0.5, 0.4, 0.3, 0.25]\n",
    "\n",
    "        self.batch_norm1 = nn.BatchNorm1d(num_features)\n",
    "        self.dense1 = nn.Linear(num_features, self.hidden_size[0])\n",
    "        \n",
    "        self.batch_norm2 = nn.BatchNorm1d(self.hidden_size[0])\n",
    "        self.dropout2 = nn.Dropout(self.dropout_value[0])\n",
    "        self.dense2 = nn.Linear(self.hidden_size[0], self.hidden_size[1])\n",
    "\n",
    "        self.batch_norm3 = nn.BatchNorm1d(self.hidden_size[1])\n",
    "        self.dropout3 = nn.Dropout(self.dropout_value[1])\n",
    "        self.dense3 = nn.Linear(self.hidden_size[1], self.hidden_size[2])\n",
    "\n",
    "        self.batch_norm4 = nn.BatchNorm1d(self.hidden_size[2])\n",
    "        self.dropout4 = nn.Dropout(self.dropout_value[2])\n",
    "        self.dense4 = nn.Linear(self.hidden_size[2], self.hidden_size[3])\n",
    "\n",
    "        self.batch_norm5 = nn.BatchNorm1d(self.hidden_size[3])\n",
    "        self.dropout5 = nn.Dropout(self.dropout_value[3])\n",
    "        self.dense5 = nn.utils.weight_norm(nn.Linear(self.hidden_size[3], num_targets))\n",
    "    \n",
    "    def forward(self, x):\n",
    "        x = self.batch_norm1(x)\n",
    "        x = F.leaky_relu(self.dense1(x))\n",
    "        \n",
    "        x = self.batch_norm2(x)\n",
    "        x = self.dropout2(x)\n",
    "        x = F.leaky_relu(self.dense2(x))\n",
    "\n",
    "        x = self.batch_norm3(x)\n",
    "        x = self.dropout3(x)\n",
    "        x = F.leaky_relu(self.dense3(x))\n",
    "\n",
    "        x = self.batch_norm4(x)\n",
    "        x = self.dropout4(x)\n",
    "        x = F.leaky_relu(self.dense4(x))\n",
    "\n",
    "        x = self.batch_norm5(x)\n",
    "        x = self.dropout5(x)\n",
    "        x = self.dense5(x)\n",
    "        return x\n",
    "    \n",
    "class LabelSmoothingLoss(nn.Module):\n",
    "    def __init__(self, classes, smoothing=0.0, dim=-1):\n",
    "        super(LabelSmoothingLoss, self).__init__()\n",
    "        self.confidence = 1.0 - smoothing\n",
    "        self.smoothing = smoothing\n",
    "        self.cls = classes\n",
    "        self.dim = dim\n",
    "\n",
    "    def forward(self, pred, target):\n",
    "        pred = pred.log_softmax(dim=self.dim)\n",
    "\n",
    "        with torch.no_grad():\n",
    "            true_dist = torch.zeros_like(pred)\n",
    "            true_dist.fill_(self.smoothing / (self.cls - 1))\n",
    "            true_dist.scatter_(1, target.data.unsqueeze(1), self.confidence)\n",
    "            \n",
    "        return torch.mean(torch.sum(-true_dist * pred, dim=self.dim))    "
   ]
  },
  {
   "cell_type": "code",
   "execution_count": 17,
   "metadata": {
    "execution": {
     "iopub.execute_input": "2020-11-22T14:44:08.828790Z",
     "iopub.status.busy": "2020-11-22T14:44:08.827839Z",
     "iopub.status.idle": "2020-11-22T14:44:08.830972Z",
     "shell.execute_reply": "2020-11-22T14:44:08.830456Z"
    },
    "id": "NJaTGiY4uJRP",
    "papermill": {
     "duration": 0.040775,
     "end_time": "2020-11-22T14:44:08.831081",
     "exception": false,
     "start_time": "2020-11-22T14:44:08.790306",
     "status": "completed"
    },
    "tags": []
   },
   "outputs": [],
   "source": [
    "class FineTuneScheduler:\n",
    "    def __init__(self, epochs):\n",
    "        self.epochs = epochs\n",
    "        self.epochs_per_step = 0\n",
    "        self.frozen_layers = []\n",
    "\n",
    "    def copy_without_top(self, model, num_features, num_targets, num_targets_new):\n",
    "        self.frozen_layers = []\n",
    "\n",
    "        model_new = Model(num_features, num_targets)\n",
    "        model_new.load_state_dict(model.state_dict())\n",
    "\n",
    "        # Freeze all weights\n",
    "        for name, param in model_new.named_parameters():\n",
    "            layer_index = name.split('.')[0][-1]\n",
    "\n",
    "            if layer_index == 5:\n",
    "                continue\n",
    "\n",
    "            param.requires_grad = False\n",
    "\n",
    "            # Save frozen layer names\n",
    "            if layer_index not in self.frozen_layers:\n",
    "                self.frozen_layers.append(layer_index)\n",
    "\n",
    "        self.epochs_per_step = self.epochs // len(self.frozen_layers)\n",
    "\n",
    "        # Replace the top layers with another ones\n",
    "        model_new.batch_norm5 = nn.BatchNorm1d(model_new.hidden_size[3])\n",
    "        model_new.dropout5 = nn.Dropout(model_new.dropout_value[3])\n",
    "        model_new.dense5 = nn.utils.weight_norm(nn.Linear(model_new.hidden_size[-1], num_targets_new))\n",
    "        model_new.to(DEVICE)\n",
    "        return model_new\n",
    "\n",
    "    def step(self, epoch, model):\n",
    "        if len(self.frozen_layers) == 0:\n",
    "            return\n",
    "\n",
    "        if epoch % self.epochs_per_step == 0:\n",
    "            last_frozen_index = self.frozen_layers[-1]\n",
    "            \n",
    "            # Unfreeze parameters of the last frozen layer\n",
    "            for name, param in model.named_parameters():\n",
    "                layer_index = name.split('.')[0][-1]\n",
    "\n",
    "                if layer_index == last_frozen_index:\n",
    "                    param.requires_grad = True\n",
    "\n",
    "            del self.frozen_layers[-1]  # Remove the last layer as unfrozen"
   ]
  },
  {
   "cell_type": "markdown",
   "metadata": {
    "id": "5XUc9N9zU512",
    "papermill": {
     "duration": 0.025834,
     "end_time": "2020-11-22T14:44:08.883017",
     "exception": false,
     "start_time": "2020-11-22T14:44:08.857183",
     "status": "completed"
    },
    "tags": []
   },
   "source": [
    "# Preprocessing steps"
   ]
  },
  {
   "cell_type": "code",
   "execution_count": 18,
   "metadata": {
    "execution": {
     "iopub.execute_input": "2020-11-22T14:44:08.941141Z",
     "iopub.status.busy": "2020-11-22T14:44:08.940119Z",
     "iopub.status.idle": "2020-11-22T14:44:08.943371Z",
     "shell.execute_reply": "2020-11-22T14:44:08.942742Z"
    },
    "id": "PUxdopjmU513",
    "papermill": {
     "duration": 0.034118,
     "end_time": "2020-11-22T14:44:08.943492",
     "exception": false,
     "start_time": "2020-11-22T14:44:08.909374",
     "status": "completed"
    },
    "tags": []
   },
   "outputs": [],
   "source": [
    "def process_data(data):\n",
    "    data = pd.get_dummies(data, columns=['cp_time','cp_dose'])\n",
    "    return data"
   ]
  },
  {
   "cell_type": "code",
   "execution_count": 19,
   "metadata": {
    "execution": {
     "iopub.execute_input": "2020-11-22T14:44:09.002816Z",
     "iopub.status.busy": "2020-11-22T14:44:09.001387Z",
     "iopub.status.idle": "2020-11-22T14:44:09.206744Z",
     "shell.execute_reply": "2020-11-22T14:44:09.206230Z"
    },
    "executionInfo": {
     "elapsed": 126139,
     "status": "ok",
     "timestamp": 1605114356736,
     "user": {
      "displayName": "Vladimir Zhuravlev",
      "photoUrl": "",
      "userId": "16372324542816680996"
     },
     "user_tz": -420
    },
    "id": "lcFRstDpU515",
    "outputId": "68d18d46-efda-46d4-bfe4-d641bcbc5fe8",
    "papermill": {
     "duration": 0.237382,
     "end_time": "2020-11-22T14:44:09.206851",
     "exception": false,
     "start_time": "2020-11-22T14:44:08.969469",
     "status": "completed"
    },
    "tags": []
   },
   "outputs": [
    {
     "data": {
      "text/plain": [
       "877"
      ]
     },
     "execution_count": 19,
     "metadata": {},
     "output_type": "execute_result"
    }
   ],
   "source": [
    "feature_cols = [c for c in process_data(train).columns if c not in all_target_cols]\n",
    "feature_cols = [c for c in feature_cols if c not in ['kfold', 'sig_id', 'drug_id']]\n",
    "num_features = len(feature_cols)\n",
    "num_features"
   ]
  },
  {
   "cell_type": "code",
   "execution_count": 20,
   "metadata": {
    "execution": {
     "iopub.execute_input": "2020-11-22T14:44:09.264544Z",
     "iopub.status.busy": "2020-11-22T14:44:09.263891Z",
     "iopub.status.idle": "2020-11-22T14:44:09.267241Z",
     "shell.execute_reply": "2020-11-22T14:44:09.266735Z"
    },
    "id": "J80ID9aaU518",
    "papermill": {
     "duration": 0.034755,
     "end_time": "2020-11-22T14:44:09.267352",
     "exception": false,
     "start_time": "2020-11-22T14:44:09.232597",
     "status": "completed"
    },
    "tags": []
   },
   "outputs": [],
   "source": [
    "# HyperParameters\n",
    "\n",
    "DEVICE = ('cuda' if torch.cuda.is_available() else 'cpu')\n",
    "EPOCHS = 48\n",
    "BATCH_SIZE = 128\n",
    "\n",
    "WEIGHT_DECAY = {'ALL_TARGETS': 1e-5, 'SCORED_ONLY': 3e-6}\n",
    "MAX_LR = {'ALL_TARGETS': 1e-2, 'SCORED_ONLY': 3e-3}\n",
    "DIV_FACTOR = {'ALL_TARGETS': 1e3, 'SCORED_ONLY': 2e2}\n",
    "PCT_START = 0.1"
   ]
  },
  {
   "cell_type": "code",
   "execution_count": 21,
   "metadata": {
    "execution": {
     "iopub.execute_input": "2020-11-22T14:44:09.324676Z",
     "iopub.status.busy": "2020-11-22T14:44:09.323904Z",
     "iopub.status.idle": "2020-11-22T14:44:09.397147Z",
     "shell.execute_reply": "2020-11-22T14:44:09.396354Z"
    },
    "executionInfo": {
     "elapsed": 126118,
     "status": "ok",
     "timestamp": 1605114356745,
     "user": {
      "displayName": "Vladimir Zhuravlev",
      "photoUrl": "",
      "userId": "16372324542816680996"
     },
     "user_tz": -420
    },
    "id": "7d2R5qElopmx",
    "outputId": "747b3d73-b306-48da-f488-9d7e146ce5dd",
    "papermill": {
     "duration": 0.104279,
     "end_time": "2020-11-22T14:44:09.397299",
     "exception": false,
     "start_time": "2020-11-22T14:44:09.293020",
     "status": "completed"
    },
    "tags": []
   },
   "outputs": [
    {
     "data": {
      "text/plain": [
       "Model(\n",
       "  (batch_norm1): BatchNorm1d(877, eps=1e-05, momentum=0.1, affine=True, track_running_stats=True)\n",
       "  (dense1): Linear(in_features=877, out_features=1500, bias=True)\n",
       "  (batch_norm2): BatchNorm1d(1500, eps=1e-05, momentum=0.1, affine=True, track_running_stats=True)\n",
       "  (dropout2): Dropout(p=0.5, inplace=False)\n",
       "  (dense2): Linear(in_features=1500, out_features=1250, bias=True)\n",
       "  (batch_norm3): BatchNorm1d(1250, eps=1e-05, momentum=0.1, affine=True, track_running_stats=True)\n",
       "  (dropout3): Dropout(p=0.4, inplace=False)\n",
       "  (dense3): Linear(in_features=1250, out_features=1000, bias=True)\n",
       "  (batch_norm4): BatchNorm1d(1000, eps=1e-05, momentum=0.1, affine=True, track_running_stats=True)\n",
       "  (dropout4): Dropout(p=0.3, inplace=False)\n",
       "  (dense4): Linear(in_features=1000, out_features=750, bias=True)\n",
       "  (batch_norm5): BatchNorm1d(750, eps=1e-05, momentum=0.1, affine=True, track_running_stats=True)\n",
       "  (dropout5): Dropout(p=0.25, inplace=False)\n",
       "  (dense5): Linear(in_features=750, out_features=608, bias=True)\n",
       ")"
      ]
     },
     "execution_count": 21,
     "metadata": {},
     "output_type": "execute_result"
    }
   ],
   "source": [
    "# Show model architecture\n",
    "model = Model(num_features, num_all_targets)\n",
    "model"
   ]
  },
  {
   "cell_type": "markdown",
   "metadata": {
    "id": "0hidUPH8U51-",
    "papermill": {
     "duration": 0.026287,
     "end_time": "2020-11-22T14:44:09.453565",
     "exception": false,
     "start_time": "2020-11-22T14:44:09.427278",
     "status": "completed"
    },
    "tags": []
   },
   "source": [
    "# Single fold training"
   ]
  },
  {
   "cell_type": "code",
   "execution_count": 22,
   "metadata": {
    "execution": {
     "iopub.execute_input": "2020-11-22T14:44:09.525972Z",
     "iopub.status.busy": "2020-11-22T14:44:09.515268Z",
     "iopub.status.idle": "2020-11-22T14:44:13.811422Z",
     "shell.execute_reply": "2020-11-22T14:44:13.810848Z"
    },
    "papermill": {
     "duration": 4.331234,
     "end_time": "2020-11-22T14:44:13.811537",
     "exception": false,
     "start_time": "2020-11-22T14:44:09.480303",
     "status": "completed"
    },
    "tags": []
   },
   "outputs": [
    {
     "data": {
      "text/html": [
       "<div>\n",
       "<style scoped>\n",
       "    .dataframe tbody tr th:only-of-type {\n",
       "        vertical-align: middle;\n",
       "    }\n",
       "\n",
       "    .dataframe tbody tr th {\n",
       "        vertical-align: top;\n",
       "    }\n",
       "\n",
       "    .dataframe thead th {\n",
       "        text-align: right;\n",
       "    }\n",
       "</style>\n",
       "<table border=\"1\" class=\"dataframe\">\n",
       "  <thead>\n",
       "    <tr style=\"text-align: right;\">\n",
       "      <th></th>\n",
       "      <th>sig_id</th>\n",
       "      <th>cp_time</th>\n",
       "      <th>cp_dose</th>\n",
       "      <th>0</th>\n",
       "      <th>1</th>\n",
       "      <th>2</th>\n",
       "      <th>3</th>\n",
       "      <th>4</th>\n",
       "      <th>5</th>\n",
       "      <th>6</th>\n",
       "      <th>...</th>\n",
       "      <th>xanthine_oxidase_inhibitor</th>\n",
       "      <th>xiap_inhibitor</th>\n",
       "      <th>drug_id</th>\n",
       "      <th>kfold_0</th>\n",
       "      <th>kfold_1</th>\n",
       "      <th>kfold_2</th>\n",
       "      <th>kfold_3</th>\n",
       "      <th>kfold_4</th>\n",
       "      <th>kfold_5</th>\n",
       "      <th>kfold_6</th>\n",
       "    </tr>\n",
       "  </thead>\n",
       "  <tbody>\n",
       "    <tr>\n",
       "      <th>0</th>\n",
       "      <td>id_000644bb2</td>\n",
       "      <td>24</td>\n",
       "      <td>D1</td>\n",
       "      <td>1.132788</td>\n",
       "      <td>0.907548</td>\n",
       "      <td>-0.416050</td>\n",
       "      <td>-0.967089</td>\n",
       "      <td>-0.254410</td>\n",
       "      <td>-1.015146</td>\n",
       "      <td>-1.363734</td>\n",
       "      <td>...</td>\n",
       "      <td>0</td>\n",
       "      <td>0</td>\n",
       "      <td>b68db1d53</td>\n",
       "      <td>1</td>\n",
       "      <td>3</td>\n",
       "      <td>3</td>\n",
       "      <td>5</td>\n",
       "      <td>0</td>\n",
       "      <td>5</td>\n",
       "      <td>2</td>\n",
       "    </tr>\n",
       "    <tr>\n",
       "      <th>1</th>\n",
       "      <td>id_000779bfc</td>\n",
       "      <td>72</td>\n",
       "      <td>D1</td>\n",
       "      <td>0.119063</td>\n",
       "      <td>0.682358</td>\n",
       "      <td>0.271718</td>\n",
       "      <td>0.080281</td>\n",
       "      <td>1.204376</td>\n",
       "      <td>0.686931</td>\n",
       "      <td>0.313801</td>\n",
       "      <td>...</td>\n",
       "      <td>0</td>\n",
       "      <td>0</td>\n",
       "      <td>df89a8e5a</td>\n",
       "      <td>0</td>\n",
       "      <td>3</td>\n",
       "      <td>6</td>\n",
       "      <td>3</td>\n",
       "      <td>3</td>\n",
       "      <td>4</td>\n",
       "      <td>1</td>\n",
       "    </tr>\n",
       "    <tr>\n",
       "      <th>2</th>\n",
       "      <td>id_000a6266a</td>\n",
       "      <td>48</td>\n",
       "      <td>D1</td>\n",
       "      <td>0.780347</td>\n",
       "      <td>0.944337</td>\n",
       "      <td>1.422423</td>\n",
       "      <td>-0.132043</td>\n",
       "      <td>-0.006323</td>\n",
       "      <td>1.490144</td>\n",
       "      <td>0.235953</td>\n",
       "      <td>...</td>\n",
       "      <td>0</td>\n",
       "      <td>0</td>\n",
       "      <td>18bb41b2c</td>\n",
       "      <td>5</td>\n",
       "      <td>3</td>\n",
       "      <td>3</td>\n",
       "      <td>1</td>\n",
       "      <td>3</td>\n",
       "      <td>0</td>\n",
       "      <td>4</td>\n",
       "    </tr>\n",
       "    <tr>\n",
       "      <th>3</th>\n",
       "      <td>id_0015fd391</td>\n",
       "      <td>48</td>\n",
       "      <td>D1</td>\n",
       "      <td>-0.735318</td>\n",
       "      <td>-0.274187</td>\n",
       "      <td>-0.438074</td>\n",
       "      <td>0.758942</td>\n",
       "      <td>2.314893</td>\n",
       "      <td>-0.858657</td>\n",
       "      <td>-2.284023</td>\n",
       "      <td>...</td>\n",
       "      <td>0</td>\n",
       "      <td>0</td>\n",
       "      <td>8c7f86626</td>\n",
       "      <td>4</td>\n",
       "      <td>3</td>\n",
       "      <td>1</td>\n",
       "      <td>2</td>\n",
       "      <td>4</td>\n",
       "      <td>5</td>\n",
       "      <td>2</td>\n",
       "    </tr>\n",
       "    <tr>\n",
       "      <th>4</th>\n",
       "      <td>id_001626bd3</td>\n",
       "      <td>72</td>\n",
       "      <td>D2</td>\n",
       "      <td>-0.452487</td>\n",
       "      <td>-0.477450</td>\n",
       "      <td>0.971451</td>\n",
       "      <td>0.970464</td>\n",
       "      <td>1.464205</td>\n",
       "      <td>-0.870316</td>\n",
       "      <td>-0.375925</td>\n",
       "      <td>...</td>\n",
       "      <td>0</td>\n",
       "      <td>0</td>\n",
       "      <td>7cbed3131</td>\n",
       "      <td>6</td>\n",
       "      <td>5</td>\n",
       "      <td>3</td>\n",
       "      <td>3</td>\n",
       "      <td>2</td>\n",
       "      <td>1</td>\n",
       "      <td>4</td>\n",
       "    </tr>\n",
       "  </tbody>\n",
       "</table>\n",
       "<p>5 rows × 1491 columns</p>\n",
       "</div>"
      ],
      "text/plain": [
       "         sig_id cp_time cp_dose         0         1         2         3  \\\n",
       "0  id_000644bb2      24      D1  1.132788  0.907548 -0.416050 -0.967089   \n",
       "1  id_000779bfc      72      D1  0.119063  0.682358  0.271718  0.080281   \n",
       "2  id_000a6266a      48      D1  0.780347  0.944337  1.422423 -0.132043   \n",
       "3  id_0015fd391      48      D1 -0.735318 -0.274187 -0.438074  0.758942   \n",
       "4  id_001626bd3      72      D2 -0.452487 -0.477450  0.971451  0.970464   \n",
       "\n",
       "          4         5         6  ...  xanthine_oxidase_inhibitor  \\\n",
       "0 -0.254410 -1.015146 -1.363734  ...                           0   \n",
       "1  1.204376  0.686931  0.313801  ...                           0   \n",
       "2 -0.006323  1.490144  0.235953  ...                           0   \n",
       "3  2.314893 -0.858657 -2.284023  ...                           0   \n",
       "4  1.464205 -0.870316 -0.375925  ...                           0   \n",
       "\n",
       "   xiap_inhibitor    drug_id  kfold_0  kfold_1  kfold_2  kfold_3  kfold_4  \\\n",
       "0               0  b68db1d53        1        3        3        5        0   \n",
       "1               0  df89a8e5a        0        3        6        3        3   \n",
       "2               0  18bb41b2c        5        3        3        1        3   \n",
       "3               0  8c7f86626        4        3        1        2        4   \n",
       "4               0  7cbed3131        6        5        3        3        2   \n",
       "\n",
       "   kfold_5  kfold_6  \n",
       "0        5        2  \n",
       "1        4        1  \n",
       "2        0        4  \n",
       "3        5        2  \n",
       "4        1        4  \n",
       "\n",
       "[5 rows x 1491 columns]"
      ]
     },
     "execution_count": 22,
     "metadata": {},
     "output_type": "execute_result"
    }
   ],
   "source": [
    "from sklearn.model_selection import KFold\n",
    "\n",
    "def make_cv_folds(train, SEEDS, NFOLDS, DRUG_THRESH):\n",
    "    vc = train.drug_id.value_counts()\n",
    "    vc1 = vc.loc[vc <= DRUG_THRESH].index.sort_values()\n",
    "    vc2 = vc.loc[vc > DRUG_THRESH].index.sort_values()\n",
    "\n",
    "    for seed_id in range(SEEDS):\n",
    "        kfold_col = 'kfold_{}'.format(seed_id)\n",
    "        \n",
    "        # STRATIFY DRUGS 18X OR LESS\n",
    "        dct1 = {}\n",
    "        dct2 = {}\n",
    "\n",
    "        skf = MultilabelStratifiedKFold(n_splits=NFOLDS, shuffle=True, random_state=seed_id)\n",
    "        tmp = train.groupby('drug_id')[target_cols].mean().loc[vc1]\n",
    "\n",
    "        for fold,(idxT, idxV) in enumerate(skf.split(tmp, tmp[target_cols])):\n",
    "            dd = {k: fold for k in tmp.index[idxV].values}\n",
    "            dct1.update(dd)\n",
    "\n",
    "        # STRATIFY DRUGS MORE THAN 18X\n",
    "        skf = MultilabelStratifiedKFold(n_splits=NFOLDS, shuffle=True, random_state=seed_id)\n",
    "        tmp = train.loc[train.drug_id.isin(vc2)].reset_index(drop=True)\n",
    "\n",
    "        for fold,(idxT, idxV) in enumerate(skf.split(tmp, tmp[target_cols])):\n",
    "            dd = {k: fold for k in tmp.sig_id[idxV].values}\n",
    "            dct2.update(dd)\n",
    "\n",
    "        # ASSIGN FOLDS\n",
    "        train[kfold_col] = train.drug_id.map(dct1)\n",
    "        train.loc[train[kfold_col].isna(), kfold_col] = train.loc[train[kfold_col].isna(), 'sig_id'].map(dct2)\n",
    "        train[kfold_col] = train[kfold_col].astype('int8')\n",
    "        \n",
    "    return train\n",
    "\n",
    "SEEDS = 7\n",
    "NFOLDS = 7\n",
    "DRUG_THRESH = 18\n",
    "\n",
    "train = make_cv_folds(train, SEEDS, NFOLDS, DRUG_THRESH)\n",
    "train.head()"
   ]
  },
  {
   "cell_type": "code",
   "execution_count": 23,
   "metadata": {
    "execution": {
     "iopub.execute_input": "2020-11-22T14:44:13.878435Z",
     "iopub.status.busy": "2020-11-22T14:44:13.874261Z",
     "iopub.status.idle": "2020-11-22T14:44:13.881370Z",
     "shell.execute_reply": "2020-11-22T14:44:13.880802Z"
    },
    "id": "JHTrp23wU51_",
    "papermill": {
     "duration": 0.042994,
     "end_time": "2020-11-22T14:44:13.881482",
     "exception": false,
     "start_time": "2020-11-22T14:44:13.838488",
     "status": "completed"
    },
    "tags": []
   },
   "outputs": [],
   "source": [
    "def run_training(fold_id, seed_id):\n",
    "    seed_everything(seed_id)\n",
    "    \n",
    "    train_ = process_data(train)\n",
    "    test_ = process_data(test)\n",
    "    \n",
    "    kfold_col = f'kfold_{seed_id}'\n",
    "    trn_idx = train_[train_[kfold_col] != fold_id].index\n",
    "    val_idx = train_[train_[kfold_col] == fold_id].index\n",
    "    \n",
    "    train_df = train_[train_[kfold_col] != fold_id].reset_index(drop=True)\n",
    "    valid_df = train_[train_[kfold_col] == fold_id].reset_index(drop=True)\n",
    "    \n",
    "\n",
    "    # Load the fine-tuned model with the best loss\n",
    "    model = Model(num_features, num_targets)\n",
    "    model.load_state_dict(torch.load(f\"../input/moa-nn-train-transfer/SCORED_ONLY_FOLD{fold_id}_{seed_id}.pth\", map_location=torch.device('cpu')))\n",
    "    model.to(DEVICE)\n",
    "\n",
    "    #--------------------- PREDICTION---------------------\n",
    "    oof = np.zeros((len(train), len(target_cols)))\n",
    "    loss_fn = nn.BCEWithLogitsLoss()\n",
    "    x_valid, y_valid =  valid_df[feature_cols].values, valid_df[target_cols].values\n",
    "    valid_dataset = MoADataset(x_valid, y_valid)\n",
    "    validloader = torch.utils.data.DataLoader(valid_dataset, batch_size=BATCH_SIZE, shuffle=False)\n",
    "    valid_loss, valid_preds = valid_fn(model, loss_fn, validloader, DEVICE)\n",
    "    oof[val_idx] = valid_preds\n",
    "    print(valid_loss)\n",
    "    \n",
    "    \n",
    "    x_test = test_[feature_cols].values\n",
    "    testdataset = TestDataset(x_test)\n",
    "    testloader = torch.utils.data.DataLoader(testdataset, batch_size=BATCH_SIZE, shuffle=False)\n",
    "    \n",
    "    predictions = np.zeros((len(test_), num_targets))\n",
    "    predictions = inference_fn(model, testloader, DEVICE)\n",
    "    return oof, predictions"
   ]
  },
  {
   "cell_type": "code",
   "execution_count": 24,
   "metadata": {
    "execution": {
     "iopub.execute_input": "2020-11-22T14:44:13.943678Z",
     "iopub.status.busy": "2020-11-22T14:44:13.942679Z",
     "iopub.status.idle": "2020-11-22T14:44:13.946132Z",
     "shell.execute_reply": "2020-11-22T14:44:13.945568Z"
    },
    "id": "GxfyrnG4U52C",
    "papermill": {
     "duration": 0.037118,
     "end_time": "2020-11-22T14:44:13.946250",
     "exception": false,
     "start_time": "2020-11-22T14:44:13.909132",
     "status": "completed"
    },
    "tags": []
   },
   "outputs": [],
   "source": [
    "def run_k_fold(NFOLDS, seed_id):\n",
    "    oof = np.zeros((len(train), len(target_cols)))\n",
    "    predictions = np.zeros((len(test), len(target_cols)))\n",
    "    \n",
    "    for fold_id in range(NFOLDS):\n",
    "        oof_, pred_ = run_training(fold_id, seed_id)\n",
    "        predictions += pred_ / NFOLDS\n",
    "        oof += oof_\n",
    "        \n",
    "    return oof, predictions"
   ]
  },
  {
   "cell_type": "code",
   "execution_count": 25,
   "metadata": {
    "execution": {
     "iopub.execute_input": "2020-11-22T14:44:14.008884Z",
     "iopub.status.busy": "2020-11-22T14:44:14.008085Z",
     "iopub.status.idle": "2020-11-22T14:55:13.615607Z",
     "shell.execute_reply": "2020-11-22T14:55:13.615031Z"
    },
    "executionInfo": {
     "elapsed": 4373947,
     "status": "ok",
     "timestamp": 1605118604618,
     "user": {
      "displayName": "Vladimir Zhuravlev",
      "photoUrl": "",
      "userId": "16372324542816680996"
     },
     "user_tz": -420
    },
    "id": "Tix4uSLRU52D",
    "outputId": "7fba4206-ad29-4c55-960a-14abc3ecebdd",
    "papermill": {
     "duration": 659.642276,
     "end_time": "2020-11-22T14:55:13.615734",
     "exception": false,
     "start_time": "2020-11-22T14:44:13.973458",
     "status": "completed"
    },
    "tags": []
   },
   "outputs": [
    {
     "name": "stdout",
     "output_type": "stream",
     "text": [
      "0.01619682667776942\n",
      "0.01666687034070492\n",
      "0.017268617078661917\n",
      "0.017877324298024178\n",
      "0.016812658831477166\n",
      "0.01756497994065285\n",
      "0.01741040874272585\n",
      "0.017008180022239684\n",
      "0.017257761396467685\n",
      "0.017551730386912823\n",
      "0.01708841636776924\n",
      "0.01683450724929571\n",
      "0.017416227570114035\n",
      "0.017213600426912307\n",
      "0.01772222064435482\n",
      "0.01691215258091688\n",
      "0.016946468427777292\n",
      "0.01719529841095209\n",
      "0.017269550934433938\n",
      "0.017531448788940907\n",
      "0.017093688435852527\n",
      "0.01708516765385866\n",
      "0.016923715211451053\n",
      "0.016881631426513194\n",
      "0.017326548397541046\n",
      "0.017759050093591213\n",
      "0.017237906232476233\n",
      "0.016967944763600827\n"
     ]
    }
   ],
   "source": [
    "from time import time\n",
    "\n",
    "# Averaging on multiple SEEDS\n",
    "SEED = [0,1,2,3]\n",
    "oof = np.zeros((len(train), len(target_cols)))\n",
    "predictions = np.zeros((len(test), len(target_cols)))\n",
    "\n",
    "time_begin = time()\n",
    "\n",
    "for seed_id in SEED:\n",
    "    oof_, predictions_ = run_k_fold(NFOLDS, seed_id)\n",
    "    oof += oof_ / len(SEED)\n",
    "    predictions += predictions_ / len(SEED)\n",
    "\n",
    "time_diff = time() - time_begin\n",
    "\n",
    "train[target_cols] = oof\n",
    "test[target_cols] = predictions"
   ]
  },
  {
   "cell_type": "code",
   "execution_count": 26,
   "metadata": {
    "execution": {
     "iopub.execute_input": "2020-11-22T14:55:13.691426Z",
     "iopub.status.busy": "2020-11-22T14:55:13.690373Z",
     "iopub.status.idle": "2020-11-22T14:55:13.694588Z",
     "shell.execute_reply": "2020-11-22T14:55:13.694074Z"
    },
    "executionInfo": {
     "elapsed": 4374004,
     "status": "ok",
     "timestamp": 1605118604690,
     "user": {
      "displayName": "Vladimir Zhuravlev",
      "photoUrl": "",
      "userId": "16372324542816680996"
     },
     "user_tz": -420
    },
    "id": "7ByqrKu0LFhe",
    "outputId": "b42229e5-3187-435c-f10e-5a7a0b74f7bf",
    "papermill": {
     "duration": 0.044152,
     "end_time": "2020-11-22T14:55:13.694706",
     "exception": false,
     "start_time": "2020-11-22T14:55:13.650554",
     "status": "completed"
    },
    "tags": []
   },
   "outputs": [
    {
     "data": {
      "text/plain": [
       "'0:10:51.078374'"
      ]
     },
     "execution_count": 26,
     "metadata": {},
     "output_type": "execute_result"
    }
   ],
   "source": [
    "from datetime import timedelta\n",
    "str(timedelta(seconds=time_diff))"
   ]
  },
  {
   "cell_type": "code",
   "execution_count": 27,
   "metadata": {
    "execution": {
     "iopub.execute_input": "2020-11-22T14:55:13.784210Z",
     "iopub.status.busy": "2020-11-22T14:55:13.783228Z",
     "iopub.status.idle": "2020-11-22T14:55:13.788024Z",
     "shell.execute_reply": "2020-11-22T14:55:13.787382Z"
    },
    "executionInfo": {
     "elapsed": 4373987,
     "status": "ok",
     "timestamp": 1605118604695,
     "user": {
      "displayName": "Vladimir Zhuravlev",
      "photoUrl": "",
      "userId": "16372324542816680996"
     },
     "user_tz": -420
    },
    "id": "venT86yMU52F",
    "outputId": "c6b013a7-b986-4677-e12b-6a9e965f69fb",
    "papermill": {
     "duration": 0.058088,
     "end_time": "2020-11-22T14:55:13.788157",
     "exception": false,
     "start_time": "2020-11-22T14:55:13.730069",
     "status": "completed"
    },
    "tags": []
   },
   "outputs": [
    {
     "data": {
      "text/html": [
       "<div>\n",
       "<style scoped>\n",
       "    .dataframe tbody tr th:only-of-type {\n",
       "        vertical-align: middle;\n",
       "    }\n",
       "\n",
       "    .dataframe tbody tr th {\n",
       "        vertical-align: top;\n",
       "    }\n",
       "\n",
       "    .dataframe thead th {\n",
       "        text-align: right;\n",
       "    }\n",
       "</style>\n",
       "<table border=\"1\" class=\"dataframe\">\n",
       "  <thead>\n",
       "    <tr style=\"text-align: right;\">\n",
       "      <th></th>\n",
       "      <th>sig_id</th>\n",
       "      <th>5-alpha_reductase_inhibitor</th>\n",
       "      <th>11-beta-hsd1_inhibitor</th>\n",
       "      <th>acat_inhibitor</th>\n",
       "      <th>acetylcholine_receptor_agonist</th>\n",
       "      <th>acetylcholine_receptor_antagonist</th>\n",
       "      <th>acetylcholinesterase_inhibitor</th>\n",
       "      <th>adenosine_receptor_agonist</th>\n",
       "      <th>adenosine_receptor_antagonist</th>\n",
       "      <th>adenylyl_cyclase_activator</th>\n",
       "      <th>...</th>\n",
       "      <th>tropomyosin_receptor_kinase_inhibitor</th>\n",
       "      <th>trpv_agonist</th>\n",
       "      <th>trpv_antagonist</th>\n",
       "      <th>tubulin_inhibitor</th>\n",
       "      <th>tyrosine_kinase_inhibitor</th>\n",
       "      <th>ubiquitin_specific_protease_inhibitor</th>\n",
       "      <th>vegfr_inhibitor</th>\n",
       "      <th>vitamin_b</th>\n",
       "      <th>vitamin_d_receptor_agonist</th>\n",
       "      <th>wnt_inhibitor</th>\n",
       "    </tr>\n",
       "  </thead>\n",
       "  <tbody>\n",
       "    <tr>\n",
       "      <th>0</th>\n",
       "      <td>id_000644bb2</td>\n",
       "      <td>0</td>\n",
       "      <td>0</td>\n",
       "      <td>0</td>\n",
       "      <td>0</td>\n",
       "      <td>0</td>\n",
       "      <td>0</td>\n",
       "      <td>0</td>\n",
       "      <td>0</td>\n",
       "      <td>0</td>\n",
       "      <td>...</td>\n",
       "      <td>0</td>\n",
       "      <td>0</td>\n",
       "      <td>0</td>\n",
       "      <td>0</td>\n",
       "      <td>0</td>\n",
       "      <td>0</td>\n",
       "      <td>0</td>\n",
       "      <td>0</td>\n",
       "      <td>0</td>\n",
       "      <td>0</td>\n",
       "    </tr>\n",
       "    <tr>\n",
       "      <th>1</th>\n",
       "      <td>id_000779bfc</td>\n",
       "      <td>0</td>\n",
       "      <td>0</td>\n",
       "      <td>0</td>\n",
       "      <td>0</td>\n",
       "      <td>0</td>\n",
       "      <td>0</td>\n",
       "      <td>0</td>\n",
       "      <td>0</td>\n",
       "      <td>0</td>\n",
       "      <td>...</td>\n",
       "      <td>0</td>\n",
       "      <td>0</td>\n",
       "      <td>0</td>\n",
       "      <td>0</td>\n",
       "      <td>0</td>\n",
       "      <td>0</td>\n",
       "      <td>0</td>\n",
       "      <td>0</td>\n",
       "      <td>0</td>\n",
       "      <td>0</td>\n",
       "    </tr>\n",
       "    <tr>\n",
       "      <th>2</th>\n",
       "      <td>id_000a6266a</td>\n",
       "      <td>0</td>\n",
       "      <td>0</td>\n",
       "      <td>0</td>\n",
       "      <td>0</td>\n",
       "      <td>0</td>\n",
       "      <td>0</td>\n",
       "      <td>0</td>\n",
       "      <td>0</td>\n",
       "      <td>0</td>\n",
       "      <td>...</td>\n",
       "      <td>0</td>\n",
       "      <td>0</td>\n",
       "      <td>0</td>\n",
       "      <td>0</td>\n",
       "      <td>0</td>\n",
       "      <td>0</td>\n",
       "      <td>0</td>\n",
       "      <td>0</td>\n",
       "      <td>0</td>\n",
       "      <td>0</td>\n",
       "    </tr>\n",
       "    <tr>\n",
       "      <th>3</th>\n",
       "      <td>id_0015fd391</td>\n",
       "      <td>0</td>\n",
       "      <td>0</td>\n",
       "      <td>0</td>\n",
       "      <td>0</td>\n",
       "      <td>0</td>\n",
       "      <td>0</td>\n",
       "      <td>0</td>\n",
       "      <td>0</td>\n",
       "      <td>0</td>\n",
       "      <td>...</td>\n",
       "      <td>0</td>\n",
       "      <td>0</td>\n",
       "      <td>0</td>\n",
       "      <td>0</td>\n",
       "      <td>0</td>\n",
       "      <td>0</td>\n",
       "      <td>0</td>\n",
       "      <td>0</td>\n",
       "      <td>0</td>\n",
       "      <td>0</td>\n",
       "    </tr>\n",
       "    <tr>\n",
       "      <th>4</th>\n",
       "      <td>id_001626bd3</td>\n",
       "      <td>0</td>\n",
       "      <td>0</td>\n",
       "      <td>0</td>\n",
       "      <td>0</td>\n",
       "      <td>0</td>\n",
       "      <td>0</td>\n",
       "      <td>0</td>\n",
       "      <td>0</td>\n",
       "      <td>0</td>\n",
       "      <td>...</td>\n",
       "      <td>0</td>\n",
       "      <td>0</td>\n",
       "      <td>0</td>\n",
       "      <td>0</td>\n",
       "      <td>0</td>\n",
       "      <td>0</td>\n",
       "      <td>0</td>\n",
       "      <td>0</td>\n",
       "      <td>0</td>\n",
       "      <td>0</td>\n",
       "    </tr>\n",
       "  </tbody>\n",
       "</table>\n",
       "<p>5 rows × 207 columns</p>\n",
       "</div>"
      ],
      "text/plain": [
       "         sig_id  5-alpha_reductase_inhibitor  11-beta-hsd1_inhibitor  \\\n",
       "0  id_000644bb2                            0                       0   \n",
       "1  id_000779bfc                            0                       0   \n",
       "2  id_000a6266a                            0                       0   \n",
       "3  id_0015fd391                            0                       0   \n",
       "4  id_001626bd3                            0                       0   \n",
       "\n",
       "   acat_inhibitor  acetylcholine_receptor_agonist  \\\n",
       "0               0                               0   \n",
       "1               0                               0   \n",
       "2               0                               0   \n",
       "3               0                               0   \n",
       "4               0                               0   \n",
       "\n",
       "   acetylcholine_receptor_antagonist  acetylcholinesterase_inhibitor  \\\n",
       "0                                  0                               0   \n",
       "1                                  0                               0   \n",
       "2                                  0                               0   \n",
       "3                                  0                               0   \n",
       "4                                  0                               0   \n",
       "\n",
       "   adenosine_receptor_agonist  adenosine_receptor_antagonist  \\\n",
       "0                           0                              0   \n",
       "1                           0                              0   \n",
       "2                           0                              0   \n",
       "3                           0                              0   \n",
       "4                           0                              0   \n",
       "\n",
       "   adenylyl_cyclase_activator  ...  tropomyosin_receptor_kinase_inhibitor  \\\n",
       "0                           0  ...                                      0   \n",
       "1                           0  ...                                      0   \n",
       "2                           0  ...                                      0   \n",
       "3                           0  ...                                      0   \n",
       "4                           0  ...                                      0   \n",
       "\n",
       "   trpv_agonist  trpv_antagonist  tubulin_inhibitor  \\\n",
       "0             0                0                  0   \n",
       "1             0                0                  0   \n",
       "2             0                0                  0   \n",
       "3             0                0                  0   \n",
       "4             0                0                  0   \n",
       "\n",
       "   tyrosine_kinase_inhibitor  ubiquitin_specific_protease_inhibitor  \\\n",
       "0                          0                                      0   \n",
       "1                          0                                      0   \n",
       "2                          0                                      0   \n",
       "3                          0                                      0   \n",
       "4                          0                                      0   \n",
       "\n",
       "   vegfr_inhibitor  vitamin_b  vitamin_d_receptor_agonist  wnt_inhibitor  \n",
       "0                0          0                           0              0  \n",
       "1                0          0                           0              0  \n",
       "2                0          0                           0              0  \n",
       "3                0          0                           0              0  \n",
       "4                0          0                           0              0  \n",
       "\n",
       "[5 rows x 207 columns]"
      ]
     },
     "execution_count": 27,
     "metadata": {},
     "output_type": "execute_result"
    }
   ],
   "source": [
    "train_targets_scored.head()"
   ]
  },
  {
   "cell_type": "code",
   "execution_count": 28,
   "metadata": {
    "execution": {
     "iopub.execute_input": "2020-11-22T14:55:13.865626Z",
     "iopub.status.busy": "2020-11-22T14:55:13.864875Z",
     "iopub.status.idle": "2020-11-22T14:55:13.868772Z",
     "shell.execute_reply": "2020-11-22T14:55:13.868297Z"
    },
    "executionInfo": {
     "elapsed": 4373977,
     "status": "ok",
     "timestamp": 1605118604700,
     "user": {
      "displayName": "Vladimir Zhuravlev",
      "photoUrl": "",
      "userId": "16372324542816680996"
     },
     "user_tz": -420
    },
    "id": "lSATXXgZU52H",
    "outputId": "9092dbc1-8c0b-4669-db3e-5f22fb92f860",
    "papermill": {
     "duration": 0.044625,
     "end_time": "2020-11-22T14:55:13.868889",
     "exception": false,
     "start_time": "2020-11-22T14:55:13.824264",
     "status": "completed"
    },
    "tags": []
   },
   "outputs": [
    {
     "data": {
      "text/plain": [
       "206"
      ]
     },
     "execution_count": 28,
     "metadata": {},
     "output_type": "execute_result"
    }
   ],
   "source": [
    "len(target_cols)"
   ]
  },
  {
   "cell_type": "code",
   "execution_count": 29,
   "metadata": {
    "execution": {
     "iopub.execute_input": "2020-11-22T14:55:13.953726Z",
     "iopub.status.busy": "2020-11-22T14:55:13.953016Z",
     "iopub.status.idle": "2020-11-22T14:55:23.952440Z",
     "shell.execute_reply": "2020-11-22T14:55:23.951671Z"
    },
    "executionInfo": {
     "elapsed": 4375017,
     "status": "ok",
     "timestamp": 1605118605755,
     "user": {
      "displayName": "Vladimir Zhuravlev",
      "photoUrl": "",
      "userId": "16372324542816680996"
     },
     "user_tz": -420
    },
    "id": "j1s9_62IU52L",
    "outputId": "afd34d19-0e09-4f4f-efeb-427648cc0f51",
    "papermill": {
     "duration": 10.046683,
     "end_time": "2020-11-22T14:55:23.952573",
     "exception": false,
     "start_time": "2020-11-22T14:55:13.905890",
     "status": "completed"
    },
    "tags": []
   },
   "outputs": [
    {
     "data": {
      "text/html": [
       "<div>\n",
       "<style scoped>\n",
       "    .dataframe tbody tr th:only-of-type {\n",
       "        vertical-align: middle;\n",
       "    }\n",
       "\n",
       "    .dataframe tbody tr th {\n",
       "        vertical-align: top;\n",
       "    }\n",
       "\n",
       "    .dataframe thead th {\n",
       "        text-align: right;\n",
       "    }\n",
       "</style>\n",
       "<table border=\"1\" class=\"dataframe\">\n",
       "  <thead>\n",
       "    <tr style=\"text-align: right;\">\n",
       "      <th></th>\n",
       "      <th>sig_id</th>\n",
       "      <th>5-alpha_reductase_inhibitor</th>\n",
       "      <th>11-beta-hsd1_inhibitor</th>\n",
       "      <th>acat_inhibitor</th>\n",
       "      <th>acetylcholine_receptor_agonist</th>\n",
       "      <th>acetylcholine_receptor_antagonist</th>\n",
       "      <th>acetylcholinesterase_inhibitor</th>\n",
       "      <th>adenosine_receptor_agonist</th>\n",
       "      <th>adenosine_receptor_antagonist</th>\n",
       "      <th>adenylyl_cyclase_activator</th>\n",
       "      <th>...</th>\n",
       "      <th>pre_tropomyosin_receptor_kinase_inhibitor</th>\n",
       "      <th>pre_trpv_agonist</th>\n",
       "      <th>pre_trpv_antagonist</th>\n",
       "      <th>pre_tubulin_inhibitor</th>\n",
       "      <th>pre_tyrosine_kinase_inhibitor</th>\n",
       "      <th>pre_ubiquitin_specific_protease_inhibitor</th>\n",
       "      <th>pre_vegfr_inhibitor</th>\n",
       "      <th>pre_vitamin_b</th>\n",
       "      <th>pre_vitamin_d_receptor_agonist</th>\n",
       "      <th>pre_wnt_inhibitor</th>\n",
       "    </tr>\n",
       "  </thead>\n",
       "  <tbody>\n",
       "    <tr>\n",
       "      <th>0</th>\n",
       "      <td>id_000644bb2</td>\n",
       "      <td>0</td>\n",
       "      <td>0</td>\n",
       "      <td>0</td>\n",
       "      <td>0</td>\n",
       "      <td>0</td>\n",
       "      <td>0</td>\n",
       "      <td>0</td>\n",
       "      <td>0</td>\n",
       "      <td>0</td>\n",
       "      <td>...</td>\n",
       "      <td>0.000562</td>\n",
       "      <td>0.000867</td>\n",
       "      <td>0.002889</td>\n",
       "      <td>0.003224</td>\n",
       "      <td>0.001420</td>\n",
       "      <td>0.000746</td>\n",
       "      <td>0.000705</td>\n",
       "      <td>0.001667</td>\n",
       "      <td>0.000684</td>\n",
       "      <td>0.002445</td>\n",
       "    </tr>\n",
       "    <tr>\n",
       "      <th>1</th>\n",
       "      <td>id_000779bfc</td>\n",
       "      <td>0</td>\n",
       "      <td>0</td>\n",
       "      <td>0</td>\n",
       "      <td>0</td>\n",
       "      <td>0</td>\n",
       "      <td>0</td>\n",
       "      <td>0</td>\n",
       "      <td>0</td>\n",
       "      <td>0</td>\n",
       "      <td>...</td>\n",
       "      <td>0.001597</td>\n",
       "      <td>0.001338</td>\n",
       "      <td>0.002251</td>\n",
       "      <td>0.001704</td>\n",
       "      <td>0.002017</td>\n",
       "      <td>0.000458</td>\n",
       "      <td>0.001588</td>\n",
       "      <td>0.003222</td>\n",
       "      <td>0.004277</td>\n",
       "      <td>0.003495</td>\n",
       "    </tr>\n",
       "    <tr>\n",
       "      <th>2</th>\n",
       "      <td>id_000a6266a</td>\n",
       "      <td>0</td>\n",
       "      <td>0</td>\n",
       "      <td>0</td>\n",
       "      <td>0</td>\n",
       "      <td>0</td>\n",
       "      <td>0</td>\n",
       "      <td>0</td>\n",
       "      <td>0</td>\n",
       "      <td>0</td>\n",
       "      <td>...</td>\n",
       "      <td>0.000339</td>\n",
       "      <td>0.000826</td>\n",
       "      <td>0.001828</td>\n",
       "      <td>0.000840</td>\n",
       "      <td>0.005139</td>\n",
       "      <td>0.000872</td>\n",
       "      <td>0.199876</td>\n",
       "      <td>0.000665</td>\n",
       "      <td>0.000817</td>\n",
       "      <td>0.000944</td>\n",
       "    </tr>\n",
       "    <tr>\n",
       "      <th>3</th>\n",
       "      <td>id_0015fd391</td>\n",
       "      <td>0</td>\n",
       "      <td>0</td>\n",
       "      <td>0</td>\n",
       "      <td>0</td>\n",
       "      <td>0</td>\n",
       "      <td>0</td>\n",
       "      <td>0</td>\n",
       "      <td>0</td>\n",
       "      <td>0</td>\n",
       "      <td>...</td>\n",
       "      <td>0.000906</td>\n",
       "      <td>0.019475</td>\n",
       "      <td>0.002348</td>\n",
       "      <td>0.274613</td>\n",
       "      <td>0.011982</td>\n",
       "      <td>0.001184</td>\n",
       "      <td>0.001512</td>\n",
       "      <td>0.001446</td>\n",
       "      <td>0.000829</td>\n",
       "      <td>0.000769</td>\n",
       "    </tr>\n",
       "    <tr>\n",
       "      <th>4</th>\n",
       "      <td>id_001626bd3</td>\n",
       "      <td>0</td>\n",
       "      <td>0</td>\n",
       "      <td>0</td>\n",
       "      <td>0</td>\n",
       "      <td>0</td>\n",
       "      <td>0</td>\n",
       "      <td>0</td>\n",
       "      <td>0</td>\n",
       "      <td>0</td>\n",
       "      <td>...</td>\n",
       "      <td>0.000882</td>\n",
       "      <td>0.001330</td>\n",
       "      <td>0.003643</td>\n",
       "      <td>0.002390</td>\n",
       "      <td>0.001397</td>\n",
       "      <td>0.001068</td>\n",
       "      <td>0.001352</td>\n",
       "      <td>0.001839</td>\n",
       "      <td>0.001204</td>\n",
       "      <td>0.002694</td>\n",
       "    </tr>\n",
       "  </tbody>\n",
       "</table>\n",
       "<p>5 rows × 413 columns</p>\n",
       "</div>"
      ],
      "text/plain": [
       "         sig_id  5-alpha_reductase_inhibitor  11-beta-hsd1_inhibitor  \\\n",
       "0  id_000644bb2                            0                       0   \n",
       "1  id_000779bfc                            0                       0   \n",
       "2  id_000a6266a                            0                       0   \n",
       "3  id_0015fd391                            0                       0   \n",
       "4  id_001626bd3                            0                       0   \n",
       "\n",
       "   acat_inhibitor  acetylcholine_receptor_agonist  \\\n",
       "0               0                               0   \n",
       "1               0                               0   \n",
       "2               0                               0   \n",
       "3               0                               0   \n",
       "4               0                               0   \n",
       "\n",
       "   acetylcholine_receptor_antagonist  acetylcholinesterase_inhibitor  \\\n",
       "0                                  0                               0   \n",
       "1                                  0                               0   \n",
       "2                                  0                               0   \n",
       "3                                  0                               0   \n",
       "4                                  0                               0   \n",
       "\n",
       "   adenosine_receptor_agonist  adenosine_receptor_antagonist  \\\n",
       "0                           0                              0   \n",
       "1                           0                              0   \n",
       "2                           0                              0   \n",
       "3                           0                              0   \n",
       "4                           0                              0   \n",
       "\n",
       "   adenylyl_cyclase_activator  ...  pre_tropomyosin_receptor_kinase_inhibitor  \\\n",
       "0                           0  ...                                   0.000562   \n",
       "1                           0  ...                                   0.001597   \n",
       "2                           0  ...                                   0.000339   \n",
       "3                           0  ...                                   0.000906   \n",
       "4                           0  ...                                   0.000882   \n",
       "\n",
       "   pre_trpv_agonist  pre_trpv_antagonist  pre_tubulin_inhibitor  \\\n",
       "0          0.000867             0.002889               0.003224   \n",
       "1          0.001338             0.002251               0.001704   \n",
       "2          0.000826             0.001828               0.000840   \n",
       "3          0.019475             0.002348               0.274613   \n",
       "4          0.001330             0.003643               0.002390   \n",
       "\n",
       "   pre_tyrosine_kinase_inhibitor  pre_ubiquitin_specific_protease_inhibitor  \\\n",
       "0                       0.001420                                   0.000746   \n",
       "1                       0.002017                                   0.000458   \n",
       "2                       0.005139                                   0.000872   \n",
       "3                       0.011982                                   0.001184   \n",
       "4                       0.001397                                   0.001068   \n",
       "\n",
       "   pre_vegfr_inhibitor  pre_vitamin_b  pre_vitamin_d_receptor_agonist  \\\n",
       "0             0.000705       0.001667                        0.000684   \n",
       "1             0.001588       0.003222                        0.004277   \n",
       "2             0.199876       0.000665                        0.000817   \n",
       "3             0.001512       0.001446                        0.000829   \n",
       "4             0.001352       0.001839                        0.001204   \n",
       "\n",
       "   pre_wnt_inhibitor  \n",
       "0           0.002445  \n",
       "1           0.003495  \n",
       "2           0.000944  \n",
       "3           0.000769  \n",
       "4           0.002694  \n",
       "\n",
       "[5 rows x 413 columns]"
      ]
     },
     "execution_count": 29,
     "metadata": {},
     "output_type": "execute_result"
    }
   ],
   "source": [
    "valid_results = train_targets_scored.drop(columns=target_cols).merge(train[['sig_id']+target_cols], on='sig_id', how='left').fillna(0)\n",
    "oof = train_targets_scored.copy()\n",
    "valid_results = valid_results.add_prefix('pre_')\n",
    "valid_results.rename(columns={'pre_sig_id':'sig_id'}, inplace=True)\n",
    "oof = oof.merge(valid_results, on=['sig_id'], how='left')\n",
    "oof.to_csv('moa_nn_oof.csv', index=False)\n",
    "oof.head()"
   ]
  },
  {
   "cell_type": "code",
   "execution_count": 30,
   "metadata": {
    "execution": {
     "iopub.execute_input": "2020-11-22T14:55:24.035877Z",
     "iopub.status.busy": "2020-11-22T14:55:24.035194Z",
     "iopub.status.idle": "2020-11-22T14:55:25.248943Z",
     "shell.execute_reply": "2020-11-22T14:55:25.248363Z"
    },
    "papermill": {
     "duration": 1.257773,
     "end_time": "2020-11-22T14:55:25.249074",
     "exception": false,
     "start_time": "2020-11-22T14:55:23.991301",
     "status": "completed"
    },
    "tags": []
   },
   "outputs": [
    {
     "name": "stdout",
     "output_type": "stream",
     "text": [
      "CV log_loss:  0.015667141288244167\n"
     ]
    }
   ],
   "source": [
    "score = 0\n",
    "for i in (target_cols):\n",
    "    score_ = log_loss(oof[i], oof['pre_'+i])\n",
    "    score += score_ / len(target_cols)\n",
    "    \n",
    "print(\"CV log_loss: \", score)"
   ]
  },
  {
   "cell_type": "code",
   "execution_count": 31,
   "metadata": {
    "execution": {
     "iopub.execute_input": "2020-11-22T14:55:25.340250Z",
     "iopub.status.busy": "2020-11-22T14:55:25.338388Z",
     "iopub.status.idle": "2020-11-22T14:55:26.764929Z",
     "shell.execute_reply": "2020-11-22T14:55:26.764212Z"
    },
    "id": "Wl2DgUjxU52R",
    "papermill": {
     "duration": 1.475986,
     "end_time": "2020-11-22T14:55:26.765053",
     "exception": false,
     "start_time": "2020-11-22T14:55:25.289067",
     "status": "completed"
    },
    "tags": []
   },
   "outputs": [],
   "source": [
    "sub = sample_submission.drop(columns=target_cols).merge(test[['sig_id']+target_cols], on='sig_id', how='left').fillna(0)\n",
    "sub.to_csv('submission.csv', index=False)"
   ]
  },
  {
   "cell_type": "code",
   "execution_count": 32,
   "metadata": {
    "execution": {
     "iopub.execute_input": "2020-11-22T14:55:26.845355Z",
     "iopub.status.busy": "2020-11-22T14:55:26.844480Z",
     "iopub.status.idle": "2020-11-22T14:55:26.848809Z",
     "shell.execute_reply": "2020-11-22T14:55:26.848302Z"
    },
    "executionInfo": {
     "elapsed": 4377655,
     "status": "ok",
     "timestamp": 1605118608442,
     "user": {
      "displayName": "Vladimir Zhuravlev",
      "photoUrl": "",
      "userId": "16372324542816680996"
     },
     "user_tz": -420
    },
    "id": "YPsx4R36U52T",
    "outputId": "1f5dba12-b2dc-4d51-adf5-c7029ffa85e9",
    "papermill": {
     "duration": 0.046539,
     "end_time": "2020-11-22T14:55:26.848921",
     "exception": false,
     "start_time": "2020-11-22T14:55:26.802382",
     "status": "completed"
    },
    "tags": []
   },
   "outputs": [
    {
     "data": {
      "text/plain": [
       "(3982, 207)"
      ]
     },
     "execution_count": 32,
     "metadata": {},
     "output_type": "execute_result"
    }
   ],
   "source": [
    "sub.shape"
   ]
  }
 ],
 "metadata": {
  "kernelspec": {
   "display_name": "Python 3",
   "language": "python",
   "name": "python3"
  },
  "language_info": {
   "codemirror_mode": {
    "name": "ipython",
    "version": 3
   },
   "file_extension": ".py",
   "mimetype": "text/x-python",
   "name": "python",
   "nbconvert_exporter": "python",
   "pygments_lexer": "ipython3",
   "version": "3.7.6"
  },
  "papermill": {
   "duration": 701.961521,
   "end_time": "2020-11-22T14:55:26.994287",
   "environment_variables": {},
   "exception": null,
   "input_path": "__notebook__.ipynb",
   "output_path": "__notebook__.ipynb",
   "parameters": {},
   "start_time": "2020-11-22T14:43:45.032766",
   "version": "2.1.0"
  }
 },
 "nbformat": 4,
 "nbformat_minor": 4
}
